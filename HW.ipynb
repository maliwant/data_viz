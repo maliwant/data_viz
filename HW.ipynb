{
  "nbformat": 4,
  "nbformat_minor": 0,
  "metadata": {
    "colab": {
      "name": "HW.ipynb",
      "provenance": [],
      "authorship_tag": "ABX9TyOul5DWSpPv1xUS/8ceCV6M",
      "include_colab_link": true
    },
    "kernelspec": {
      "name": "python3",
      "display_name": "Python 3"
    }
  },
  "cells": [
    {
      "cell_type": "markdown",
      "metadata": {
        "id": "view-in-github",
        "colab_type": "text"
      },
      "source": [
        "<a href=\"https://colab.research.google.com/github/maliwant/data_viz/blob/main/HW.ipynb\" target=\"_parent\"><img src=\"https://colab.research.google.com/assets/colab-badge.svg\" alt=\"Open In Colab\"/></a>"
      ]
    },
    {
      "cell_type": "code",
      "metadata": {
        "id": "UT_rmklmONgs"
      },
      "source": [
        "time = '12:30:15'"
      ],
      "execution_count": 38,
      "outputs": []
    },
    {
      "cell_type": "code",
      "metadata": {
        "colab": {
          "base_uri": "https://localhost:8080/"
        },
        "id": "KQZgcw0QTfo4",
        "outputId": "07eb4d18-c6f7-47c6-ed10-f742ab6d9afd"
      },
      "source": [
        "time.split(':')"
      ],
      "execution_count": 40,
      "outputs": [
        {
          "output_type": "execute_result",
          "data": {
            "text/plain": [
              "['12', '30', '15']"
            ]
          },
          "metadata": {
            "tags": []
          },
          "execution_count": 40
        }
      ]
    },
    {
      "cell_type": "code",
      "metadata": {
        "colab": {
          "base_uri": "https://localhost:8080/"
        },
        "id": "OCdzm3UWTsP0",
        "outputId": "fd013ac5-8523-4dfe-9c56-0a31dd9935a4"
      },
      "source": [
        "list_a = time.split(':')\r\n",
        "print(list_a)"
      ],
      "execution_count": 41,
      "outputs": [
        {
          "output_type": "stream",
          "text": [
            "['12', '30', '15']\n"
          ],
          "name": "stdout"
        }
      ]
    },
    {
      "cell_type": "code",
      "metadata": {
        "colab": {
          "base_uri": "https://localhost:8080/",
          "height": 35
        },
        "id": "4Z2zENRxajlt",
        "outputId": "900c8305-5fea-4ca2-e250-e0e77543d2c7"
      },
      "source": [
        "list_a[0]"
      ],
      "execution_count": 53,
      "outputs": [
        {
          "output_type": "execute_result",
          "data": {
            "application/vnd.google.colaboratory.intrinsic+json": {
              "type": "string"
            },
            "text/plain": [
              "'12'"
            ]
          },
          "metadata": {
            "tags": []
          },
          "execution_count": 53
        }
      ]
    },
    {
      "cell_type": "code",
      "metadata": {
        "colab": {
          "base_uri": "https://localhost:8080/",
          "height": 35
        },
        "id": "mQ4CT0wLateO",
        "outputId": "655a777b-f162-44c2-8a4b-c21907b6ad96"
      },
      "source": [
        "list_a[1]"
      ],
      "execution_count": 54,
      "outputs": [
        {
          "output_type": "execute_result",
          "data": {
            "application/vnd.google.colaboratory.intrinsic+json": {
              "type": "string"
            },
            "text/plain": [
              "'30'"
            ]
          },
          "metadata": {
            "tags": []
          },
          "execution_count": 54
        }
      ]
    },
    {
      "cell_type": "code",
      "metadata": {
        "colab": {
          "base_uri": "https://localhost:8080/",
          "height": 35
        },
        "id": "N41iFO3fT1r6",
        "outputId": "34cd8ed9-9c32-4a49-d865-19f18127a450"
      },
      "source": [
        "list_a[2]"
      ],
      "execution_count": 42,
      "outputs": [
        {
          "output_type": "execute_result",
          "data": {
            "application/vnd.google.colaboratory.intrinsic+json": {
              "type": "string"
            },
            "text/plain": [
              "'15'"
            ]
          },
          "metadata": {
            "tags": []
          },
          "execution_count": 42
        }
      ]
    },
    {
      "cell_type": "code",
      "metadata": {
        "colab": {
          "base_uri": "https://localhost:8080/"
        },
        "id": "3rT2xLf-T-zy",
        "outputId": "5c34f0b1-fb55-4b01-a54e-8b2eadb40d91"
      },
      "source": [
        "x=list_a[0]\r\n",
        "y=list_a[1]\r\n",
        "z=list_a[2]\r\n",
        "print(int(x)*3600+(int(y)*60)+int(z)) "
      ],
      "execution_count": 43,
      "outputs": [
        {
          "output_type": "stream",
          "text": [
            "45015\n"
          ],
          "name": "stdout"
        }
      ]
    },
    {
      "cell_type": "code",
      "metadata": {
        "id": "s6C4qGquUq_G"
      },
      "source": [
        "time = '13:41:07'"
      ],
      "execution_count": 46,
      "outputs": []
    },
    {
      "cell_type": "code",
      "metadata": {
        "colab": {
          "base_uri": "https://localhost:8080/"
        },
        "id": "Fj-bDMQMU1zg",
        "outputId": "e1ae837a-deec-4142-93c6-bd95293999b6"
      },
      "source": [
        "time.split(':')"
      ],
      "execution_count": 47,
      "outputs": [
        {
          "output_type": "execute_result",
          "data": {
            "text/plain": [
              "['13', '41', '07']"
            ]
          },
          "metadata": {
            "tags": []
          },
          "execution_count": 47
        }
      ]
    },
    {
      "cell_type": "code",
      "metadata": {
        "colab": {
          "base_uri": "https://localhost:8080/"
        },
        "id": "V2TgRm4tU-1t",
        "outputId": "aeaddc37-afb8-41b8-b703-f4113451d220"
      },
      "source": [
        "list_b = time.split(':')\r\n",
        "print(list_b)"
      ],
      "execution_count": 34,
      "outputs": [
        {
          "output_type": "stream",
          "text": [
            "['13', '41', '07']\n"
          ],
          "name": "stdout"
        }
      ]
    },
    {
      "cell_type": "code",
      "metadata": {
        "colab": {
          "base_uri": "https://localhost:8080/",
          "height": 35
        },
        "id": "9XpVcmUVVHW-",
        "outputId": "890c105e-bc09-4280-90d3-1e0606951cce"
      },
      "source": [
        "list_b[0]"
      ],
      "execution_count": 36,
      "outputs": [
        {
          "output_type": "execute_result",
          "data": {
            "application/vnd.google.colaboratory.intrinsic+json": {
              "type": "string"
            },
            "text/plain": [
              "'13'"
            ]
          },
          "metadata": {
            "tags": []
          },
          "execution_count": 36
        }
      ]
    },
    {
      "cell_type": "code",
      "metadata": {
        "colab": {
          "base_uri": "https://localhost:8080/"
        },
        "id": "AdSKojcYVdq9",
        "outputId": "ba5b8e8d-02a5-42df-939d-ea99cdd21404"
      },
      "source": [
        "x=list_b[0]\r\n",
        "y=list_b[1]\r\n",
        "z=list_b[2]\r\n",
        "print(int(x)*3600+(int(y)*60)+int(z))"
      ],
      "execution_count": 48,
      "outputs": [
        {
          "output_type": "stream",
          "text": [
            "49267\n"
          ],
          "name": "stdout"
        }
      ]
    },
    {
      "cell_type": "code",
      "metadata": {
        "id": "QRBxsGqgV2Og"
      },
      "source": [
        "time = '12:53:15'"
      ],
      "execution_count": 50,
      "outputs": []
    },
    {
      "cell_type": "code",
      "metadata": {
        "colab": {
          "base_uri": "https://localhost:8080/"
        },
        "id": "B2RkKBSsaFag",
        "outputId": "f822269e-5790-4fe6-f0ff-d6615bba15b3"
      },
      "source": [
        "time.split(':')"
      ],
      "execution_count": 51,
      "outputs": [
        {
          "output_type": "execute_result",
          "data": {
            "text/plain": [
              "['12', '53', '15']"
            ]
          },
          "metadata": {
            "tags": []
          },
          "execution_count": 51
        }
      ]
    },
    {
      "cell_type": "code",
      "metadata": {
        "colab": {
          "base_uri": "https://localhost:8080/"
        },
        "id": "GGfLmlCeaOi6",
        "outputId": "845da0c9-215f-4efb-e140-02271ae11bf5"
      },
      "source": [
        "list_c = time.split(':')\r\n",
        "print(list_c)"
      ],
      "execution_count": 52,
      "outputs": [
        {
          "output_type": "stream",
          "text": [
            "['12', '53', '15']\n"
          ],
          "name": "stdout"
        }
      ]
    },
    {
      "cell_type": "code",
      "metadata": {
        "colab": {
          "base_uri": "https://localhost:8080/",
          "height": 35
        },
        "id": "ivMogHj9adF8",
        "outputId": "132c32ee-fad0-4acd-d71d-a6ffc411b3f4"
      },
      "source": [
        "list_c[0]"
      ],
      "execution_count": 55,
      "outputs": [
        {
          "output_type": "execute_result",
          "data": {
            "application/vnd.google.colaboratory.intrinsic+json": {
              "type": "string"
            },
            "text/plain": [
              "'12'"
            ]
          },
          "metadata": {
            "tags": []
          },
          "execution_count": 55
        }
      ]
    },
    {
      "cell_type": "code",
      "metadata": {
        "colab": {
          "base_uri": "https://localhost:8080/"
        },
        "id": "yPxl5uMMbPPn",
        "outputId": "9466ca63-3974-491e-e6df-cd4e21ea74fa"
      },
      "source": [
        "x=list_c[0]\r\n",
        "y=list_c[1]\r\n",
        "z=list_c[2]\r\n",
        "print(int(x)*3600+(int(y)*60)+int(z))"
      ],
      "execution_count": 56,
      "outputs": [
        {
          "output_type": "stream",
          "text": [
            "46395\n"
          ],
          "name": "stdout"
        }
      ]
    },
    {
      "cell_type": "code",
      "metadata": {
        "id": "eag-X3aabtZw"
      },
      "source": [
        "time = '00:59:25'"
      ],
      "execution_count": 57,
      "outputs": []
    },
    {
      "cell_type": "code",
      "metadata": {
        "colab": {
          "base_uri": "https://localhost:8080/"
        },
        "id": "fHEb7Zzeb5oS",
        "outputId": "4497bfac-b689-4683-be6f-dad3722535cf"
      },
      "source": [
        "time.split(':')"
      ],
      "execution_count": 58,
      "outputs": [
        {
          "output_type": "execute_result",
          "data": {
            "text/plain": [
              "['00', '59', '25']"
            ]
          },
          "metadata": {
            "tags": []
          },
          "execution_count": 58
        }
      ]
    },
    {
      "cell_type": "code",
      "metadata": {
        "colab": {
          "base_uri": "https://localhost:8080/"
        },
        "id": "ojsTHAdfb-md",
        "outputId": "60313b0f-664f-41ac-b4b8-737b867d0ffb"
      },
      "source": [
        "list_d = time.split(':')\r\n",
        "print(list_d)"
      ],
      "execution_count": 59,
      "outputs": [
        {
          "output_type": "stream",
          "text": [
            "['00', '59', '25']\n"
          ],
          "name": "stdout"
        }
      ]
    },
    {
      "cell_type": "code",
      "metadata": {
        "colab": {
          "base_uri": "https://localhost:8080/",
          "height": 35
        },
        "id": "kBXOtV7-cHzd",
        "outputId": "ca729ccc-28ef-441d-96fd-47c2334ab919"
      },
      "source": [
        "list_d[0]"
      ],
      "execution_count": 60,
      "outputs": [
        {
          "output_type": "execute_result",
          "data": {
            "application/vnd.google.colaboratory.intrinsic+json": {
              "type": "string"
            },
            "text/plain": [
              "'00'"
            ]
          },
          "metadata": {
            "tags": []
          },
          "execution_count": 60
        }
      ]
    },
    {
      "cell_type": "code",
      "metadata": {
        "colab": {
          "base_uri": "https://localhost:8080/"
        },
        "id": "veRudRz1cLRI",
        "outputId": "30d15135-02f2-46a9-e63b-6ab5d2c1c689"
      },
      "source": [
        "x=list_d[0]\r\n",
        "y=list_d[1]\r\n",
        "z=list_d[2]\r\n",
        "print(int(x)*3600+(int(y)*60)+int(z))"
      ],
      "execution_count": 61,
      "outputs": [
        {
          "output_type": "stream",
          "text": [
            "3565\n"
          ],
          "name": "stdout"
        }
      ]
    },
    {
      "cell_type": "code",
      "metadata": {
        "id": "AIavG8plccYM"
      },
      "source": [
        "time = '11:11:11'"
      ],
      "execution_count": 62,
      "outputs": []
    },
    {
      "cell_type": "code",
      "metadata": {
        "colab": {
          "base_uri": "https://localhost:8080/"
        },
        "id": "gVPOuKa1cgwO",
        "outputId": "929b9408-ced5-418b-edf7-5b9bdf578554"
      },
      "source": [
        "time.split(':')"
      ],
      "execution_count": 63,
      "outputs": [
        {
          "output_type": "execute_result",
          "data": {
            "text/plain": [
              "['11', '11', '11']"
            ]
          },
          "metadata": {
            "tags": []
          },
          "execution_count": 63
        }
      ]
    },
    {
      "cell_type": "code",
      "metadata": {
        "colab": {
          "base_uri": "https://localhost:8080/"
        },
        "id": "nj-WojNBcp76",
        "outputId": "7cf994ed-24c1-4a23-91b3-45b7dacdfdec"
      },
      "source": [
        "list_e = time.split(':')\r\n",
        "print(list_e)"
      ],
      "execution_count": 64,
      "outputs": [
        {
          "output_type": "stream",
          "text": [
            "['11', '11', '11']\n"
          ],
          "name": "stdout"
        }
      ]
    },
    {
      "cell_type": "code",
      "metadata": {
        "colab": {
          "base_uri": "https://localhost:8080/",
          "height": 35
        },
        "id": "RG5oIZUKcvls",
        "outputId": "2f5d353b-ff85-4e0b-ff2f-eb68a0b2f59b"
      },
      "source": [
        "list_e[0]"
      ],
      "execution_count": 66,
      "outputs": [
        {
          "output_type": "execute_result",
          "data": {
            "application/vnd.google.colaboratory.intrinsic+json": {
              "type": "string"
            },
            "text/plain": [
              "'11'"
            ]
          },
          "metadata": {
            "tags": []
          },
          "execution_count": 66
        }
      ]
    },
    {
      "cell_type": "code",
      "metadata": {
        "colab": {
          "base_uri": "https://localhost:8080/"
        },
        "id": "LFaJFWZRc4i1",
        "outputId": "6d445644-58ca-4b57-ca72-22a91354c1df"
      },
      "source": [
        "x=list_e[0]\r\n",
        "y=list_e[1]\r\n",
        "z=list_e[2]\r\n",
        "print(int(x)*3600+(int(y)*60)+int(z))"
      ],
      "execution_count": 67,
      "outputs": [
        {
          "output_type": "stream",
          "text": [
            "40271\n"
          ],
          "name": "stdout"
        }
      ]
    },
    {
      "cell_type": "code",
      "metadata": {
        "id": "YHsJIlAwdEl2"
      },
      "source": [
        "time = '16:06:09'"
      ],
      "execution_count": 69,
      "outputs": []
    },
    {
      "cell_type": "code",
      "metadata": {
        "colab": {
          "base_uri": "https://localhost:8080/"
        },
        "id": "0gYl43aWdN-V",
        "outputId": "4d206fdf-58c4-4cc5-a2bf-3efef60a7551"
      },
      "source": [
        "time.split(':')"
      ],
      "execution_count": 70,
      "outputs": [
        {
          "output_type": "execute_result",
          "data": {
            "text/plain": [
              "['16', '06', '09']"
            ]
          },
          "metadata": {
            "tags": []
          },
          "execution_count": 70
        }
      ]
    },
    {
      "cell_type": "code",
      "metadata": {
        "colab": {
          "base_uri": "https://localhost:8080/"
        },
        "id": "HZqHHvE9dWZX",
        "outputId": "3e5d4a8d-02a7-4aa1-86dd-02ae07685fae"
      },
      "source": [
        "list_f = time.split(':')\r\n",
        "print(list_f)"
      ],
      "execution_count": 71,
      "outputs": [
        {
          "output_type": "stream",
          "text": [
            "['16', '06', '09']\n"
          ],
          "name": "stdout"
        }
      ]
    },
    {
      "cell_type": "code",
      "metadata": {
        "colab": {
          "base_uri": "https://localhost:8080/",
          "height": 35
        },
        "id": "x2DVWX5jdcud",
        "outputId": "c89d061b-39d9-454e-8aba-198eb4b6ac7f"
      },
      "source": [
        "list_e[0]"
      ],
      "execution_count": 72,
      "outputs": [
        {
          "output_type": "execute_result",
          "data": {
            "application/vnd.google.colaboratory.intrinsic+json": {
              "type": "string"
            },
            "text/plain": [
              "'11'"
            ]
          },
          "metadata": {
            "tags": []
          },
          "execution_count": 72
        }
      ]
    },
    {
      "cell_type": "code",
      "metadata": {
        "colab": {
          "base_uri": "https://localhost:8080/"
        },
        "id": "T0b5OdnJdjaz",
        "outputId": "4adb1584-c064-4184-e478-52cdca7ad85c"
      },
      "source": [
        "x=list_f[0]\r\n",
        "y=list_f[1]\r\n",
        "z=list_f[2]\r\n",
        "print(int(x)*3600+(int(y)*60)+int(z))"
      ],
      "execution_count": 74,
      "outputs": [
        {
          "output_type": "stream",
          "text": [
            "57969\n"
          ],
          "name": "stdout"
        }
      ]
    }
  ]
}