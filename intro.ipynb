{
  "nbformat": 4,
  "nbformat_minor": 0,
  "metadata": {
    "colab": {
      "name": "intro.ipynb",
      "provenance": [],
      "collapsed_sections": [],
      "authorship_tag": "ABX9TyMpRavHl+TX4u6UgiTgovto",
      "include_colab_link": true
    },
    "kernelspec": {
      "name": "python3",
      "display_name": "Python 3"
    }
  },
  "cells": [
    {
      "cell_type": "markdown",
      "metadata": {
        "id": "view-in-github",
        "colab_type": "text"
      },
      "source": [
        "<a href=\"https://colab.research.google.com/github/maliwant/data_viz/blob/main/intro.ipynb\" target=\"_parent\"><img src=\"https://colab.research.google.com/assets/colab-badge.svg\" alt=\"Open In Colab\"/></a>"
      ]
    },
    {
      "cell_type": "markdown",
      "metadata": {
        "id": "IDQtP_-mMYZI"
      },
      "source": [
        "มะลิวรรณ ทองบุญมา 603021833-2"
      ]
    },
    {
      "cell_type": "markdown",
      "metadata": {
        "id": "F-eR9HERNwJI"
      },
      "source": [
        "ภาษา Markdowe\n",
        "#markdowe\n",
        "\n",
        "~strilk~\n",
        "\n"
      ]
    },
    {
      "cell_type": "code",
      "metadata": {
        "colab": {
          "base_uri": "https://localhost:8080/"
        },
        "id": "5NxBITZvOk2S",
        "outputId": "457cbd71-06c8-48ae-9774-3228b237ffab"
      },
      "source": [
        "print('มะลิวรรณ ทองบุญมา 603021833-2')"
      ],
      "execution_count": 4,
      "outputs": [
        {
          "output_type": "stream",
          "text": [
            "มะลิวรรณ ทองบุญมา 603021833-2\n"
          ],
          "name": "stdout"
        }
      ]
    },
    {
      "cell_type": "code",
      "metadata": {
        "id": "H9ZY0jH7OWyN"
      },
      "source": [
        ""
      ],
      "execution_count": null,
      "outputs": []
    }
  ]
}