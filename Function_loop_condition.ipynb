{
  "nbformat": 4,
  "nbformat_minor": 0,
  "metadata": {
    "colab": {
      "name": "Function_loop_condition.ipynb",
      "provenance": [],
      "authorship_tag": "ABX9TyPruVG1YBJZqDYJlt9kedK5",
      "include_colab_link": true
    },
    "kernelspec": {
      "name": "python3",
      "display_name": "Python 3"
    }
  },
  "cells": [
    {
      "cell_type": "markdown",
      "metadata": {
        "id": "view-in-github",
        "colab_type": "text"
      },
      "source": [
        "<a href=\"https://colab.research.google.com/github/maliwant/data_viz/blob/main/Function_loop_condition.ipynb\" target=\"_parent\"><img src=\"https://colab.research.google.com/assets/colab-badge.svg\" alt=\"Open In Colab\"/></a>"
      ]
    },
    {
      "cell_type": "code",
      "metadata": {
        "id": "Yp8NlOT2f25E"
      },
      "source": [
        "name = 'มะลิวรรณ'\r\n",
        "surname ='ทองบุญมา'\r\n",
        "ID = '603021833-2'\r\n"
      ],
      "execution_count": null,
      "outputs": []
    },
    {
      "cell_type": "code",
      "metadata": {
        "id": "rj2sUAbkZGZs",
        "colab": {
          "base_uri": "https://localhost:8080/"
        },
        "outputId": "2a8c8b9c-d5ee-49ac-f574-8e6394398176"
      },
      "source": [
        "b= f'ชื่อ {name} นามสกุล {surname} รหัส {ID}'\r\n",
        "print (b)"
      ],
      "execution_count": null,
      "outputs": [
        {
          "output_type": "stream",
          "text": [
            "ชื่อ มะลิวรรณ นามสกุล ทองบุญมา รหัส 603021833-2\n"
          ],
          "name": "stdout"
        }
      ]
    },
    {
      "cell_type": "markdown",
      "metadata": {
        "id": "C6PSjwTYDLy-"
      },
      "source": [
        "#Function"
      ]
    },
    {
      "cell_type": "markdown",
      "metadata": {
        "id": "YJBlHB7lgriQ"
      },
      "source": [
        "#funtion template\r\n",
        "ทำหน้าที่รับ input ประมวลผลออกมาเป็น output \r\n",
        "f(x) = y\r\n",
        "\r\n",
        "\r\n"
      ]
    },
    {
      "cell_type": "markdown",
      "metadata": {
        "id": "wa5XjFvVhXKE"
      },
      "source": [
        "###def คือการกำหนดฟังก์ชั่น"
      ]
    },
    {
      "cell_type": "markdown",
      "metadata": {
        "id": "EJHT5ekrDzoh"
      },
      "source": [
        "\r\n",
        "backtick (`) ==> กด ~ ค้าง, alt - 9>6 (full keyboard with number)\r\n",
        "\r\n",
        "tilde (~)\r\n",
        "\r\n",
        "curly bracket ({ })\r\n",
        "\r\n",
        "square bracket ([ ])"
      ]
    },
    {
      "cell_type": "markdown",
      "metadata": {
        "id": "CwAgH_D5EZzZ"
      },
      "source": [
        "```python\r\n",
        "    def function_name(_Input_) :\r\n",
        "        do_something with _Input_ to get _Output_\r\n",
        "        return _Output_\r\n",
        "```"
      ]
    },
    {
      "cell_type": "markdown",
      "metadata": {
        "id": "ZoyCw_soEhtK"
      },
      "source": [
        "function มีส่วนสำคัญทั้งหมด 4 ส่วน\r\n",
        "\r\n",
        "1.   บอก python ว่าเราจะเขียนฟังก์ชั่น ชื่ออะไร  ```def function_name():``` (ขาดไม่ได้)\r\n",
        "2.   กำหนดตัวแปรที่จะเป็น input  ```_Input_``` (ขาดได้)\r\n",
        "3.   ส่วนประมวลผล ```do_something with _Input_ to get _Output_``` (ขาดไม่ได้)\r\n",
        "4.   ส่วน output ```return _Output_```(ขาดได้)\r\n",
        "\r\n"
      ]
    },
    {
      "cell_type": "markdown",
      "metadata": {
        "id": "dsrSzTYejfRb"
      },
      "source": [
        "```pyton\r\n",
        "def funtion_name(_input_) :\r\n",
        "  do_something with _input_ to get _output_\r\n",
        "  return _output_ \r\n",
        "```\r\n",
        "backtick (```)\r\n",
        "tilde (~ )\r\n",
        "curly bracket ({})\r\n",
        "square bracket ([])"
      ]
    },
    {
      "cell_type": "markdown",
      "metadata": {
        "id": "HLPv0H1LkVDZ"
      },
      "source": [
        "# ตัวอย่างการเขียน normal function"
      ]
    },
    {
      "cell_type": "code",
      "metadata": {
        "id": "Vm7X0MI2kcQz"
      },
      "source": [
        "def print_name(name,surname,ID) :\r\n",
        "  st = f'ชื่อ {name} นามสกุล {surname} รหัส {ID}'\r\n",
        "  return st"
      ],
      "execution_count": null,
      "outputs": []
    },
    {
      "cell_type": "code",
      "metadata": {
        "colab": {
          "base_uri": "https://localhost:8080/",
          "height": 35
        },
        "id": "-RzZLeTglLcm",
        "outputId": "2c0d5f83-335e-4538-afd2-29c64b17d91c"
      },
      "source": [
        "print_name('มะลิวรรณ','603021833-2','ทองบุญมา')"
      ],
      "execution_count": null,
      "outputs": [
        {
          "output_type": "execute_result",
          "data": {
            "application/vnd.google.colaboratory.intrinsic+json": {
              "type": "string"
            },
            "text/plain": [
              "'ชื่อ มะลิวรรณ นามสกุล 603021833-2 รหัส ทองบุญมา'"
            ]
          },
          "metadata": {
            "tags": []
          },
          "execution_count": 7
        }
      ]
    },
    {
      "cell_type": "code",
      "metadata": {
        "colab": {
          "base_uri": "https://localhost:8080/"
        },
        "id": "Z39FTmUznyqx",
        "outputId": "54fe1fb1-1589-404e-c7f6-125f670845dc"
      },
      "source": [
        "print(print_name(name ='มะลิวรรณ',surname ='ทองบุญมา',ID = '603021833-2'))"
      ],
      "execution_count": null,
      "outputs": [
        {
          "output_type": "stream",
          "text": [
            "ชื่อ มะลิวรรณ นามสกุล ทองบุญมา รหัส 603021833-2\n"
          ],
          "name": "stdout"
        }
      ]
    },
    {
      "cell_type": "markdown",
      "metadata": {
        "id": "UzrhYYckZk5b"
      },
      "source": [
        "เราใช้ เว้นวรรค(indent) เพื่อบอกขอบเขตของโปรแกรม\r\n",
        "\r\n"
      ]
    },
    {
      "cell_type": "markdown",
      "metadata": {
        "id": "f_4qVsJqqXkZ"
      },
      "source": [
        "#ฟังก์ชั่นที่ไม่จำเป็นต้องมี output"
      ]
    },
    {
      "cell_type": "code",
      "metadata": {
        "id": "zijpBV-PZ3Ml"
      },
      "source": [
        "def print_name2 (surname , ID , name) :\r\n",
        "    st=f'ชื่อ {name} นามสกุล {surname} รหัส {ID}'\r\n",
        "    print st"
      ],
      "execution_count": null,
      "outputs": []
    },
    {
      "cell_type": "code",
      "metadata": {
        "id": "ULg5bwdWaIR5"
      },
      "source": [
        "print(print_name2(name= 'มะลิวรรณ', surname= 'ทองบุญมา', ID= '603021833-2'"
      ],
      "execution_count": null,
      "outputs": []
    },
    {
      "cell_type": "markdown",
      "metadata": {
        "id": "CsP1_dxlaoPJ"
      },
      "source": [
        "#ฟังก์ชั่นไม่จำเป็นต้องมี input\r\n"
      ]
    },
    {
      "cell_type": "code",
      "metadata": {
        "id": "xfloDvHNqeYb"
      },
      "source": [
        "def Pi() :\r\n",
        "  return 3.141592653589793"
      ],
      "execution_count": null,
      "outputs": []
    },
    {
      "cell_type": "code",
      "metadata": {
        "colab": {
          "base_uri": "https://localhost:8080/"
        },
        "id": "1s-kLxf4qwGX",
        "outputId": "9dce40ee-8f6a-4038-988d-31c804f18618"
      },
      "source": [
        "Pi()*(2**2) #หาพื้นที่เส้นรอบวงกลม"
      ],
      "execution_count": null,
      "outputs": [
        {
          "output_type": "execute_result",
          "data": {
            "text/plain": [
              "12.566370614359172"
            ]
          },
          "metadata": {
            "tags": []
          },
          "execution_count": 20
        }
      ]
    },
    {
      "cell_type": "markdown",
      "metadata": {
        "id": "lq3NisV0a4ss"
      },
      "source": [
        "### เราสามารถกำหนดค่า default (ค่าเริ่มต้น) ให้กับฟังก์ชั่นได้\r\n"
      ]
    },
    {
      "cell_type": "code",
      "metadata": {
        "id": "WqXDJMXIa9Cz"
      },
      "source": [
        "def print_2lines_default(name, surname, ID, grade='F'):\r\n",
        "    st=f'ชื่อ {name} นามสกุล{surname} รหัส {ID}'\r\n",
        "    print (st)\r\n",
        "    st2=f'เกรดวิชา Data viz >>> {grade}'\r\n",
        "    print (st2)"
      ],
      "execution_count": null,
      "outputs": []
    },
    {
      "cell_type": "code",
      "metadata": {
        "id": "JKU6pVGEwaMC",
        "colab": {
          "base_uri": "https://localhost:8080/"
        },
        "outputId": "a2b161b6-ea01-4390-d0eb-63f079fb2ddd"
      },
      "source": [
        "print_2lines_default('มะลิวรรณ','ทองบุญมา','603021833-2')"
      ],
      "execution_count": null,
      "outputs": [
        {
          "output_type": "stream",
          "text": [
            "ชื่อ มะลิวรรณ นามสกุลทองบุญมา รหัส 603021833-2\n",
            "เกรดวิชา Data viz >>> F\n"
          ],
          "name": "stdout"
        }
      ]
    },
    {
      "cell_type": "markdown",
      "metadata": {
        "id": "lOVd9M4nbQsF"
      },
      "source": [
        "### เราสามารถเพิ่มคำสั่งเข้าไปในฟังก์ชั่นอีกได้ โดยการเปลี่ยน คำสั่่ง return เป็น print()ได้ เช่นตัวอย่างนี้ ได้ทำการเพิ่ม"
      ]
    },
    {
      "cell_type": "markdown",
      "metadata": {
        "id": "jcC3JMkKFDyg"
      },
      "source": [
        "input ของ function ใน python มีสองแบบ input ที่จำเป็นต้องใส่ กับ input ที่ไม่จำเป็นต้องใส่ (มีค่า default)\r\n",
        "\r\n",
        "เราต้องเรียง input ที่จำเป็นต้องใส่ขึ้นก่อน"
      ]
    },
    {
      "cell_type": "code",
      "metadata": {
        "id": "ZGOGoMEWFMou"
      },
      "source": [
        "def print_2lines_default(name,surname,ID,grade='F'):\r\n",
        "    st = f'ชื่อ {name} นามสกุล {surname} รหัส {ID}'\r\n",
        "    print (st)\r\n",
        "    st2=f'เกรดวิชา Data Viz >>> {grade}'\r\n",
        "    print(st2)"
      ],
      "execution_count": 3,
      "outputs": []
    },
    {
      "cell_type": "code",
      "metadata": {
        "id": "yR0Ia-ajFUG2",
        "outputId": "992f699b-d6ae-42c1-bb2d-8fd187d04b81",
        "colab": {
          "base_uri": "https://localhost:8080/"
        }
      },
      "source": [
        "print_2lines_default('มะลิวรรณ','ทองบุญมา','603021833-2')"
      ],
      "execution_count": 5,
      "outputs": [
        {
          "output_type": "stream",
          "text": [
            "ชื่อ มะลิวรรณ นามสกุล ทองบุญมา รหัส 603021833-2\n",
            "เกรดวิชา Data Viz >>> F\n"
          ],
          "name": "stdout"
        }
      ]
    },
    {
      "cell_type": "code",
      "metadata": {
        "id": "WtsU_kxEFs8y",
        "outputId": "5b1800c6-9958-4d5a-d2b9-409c0ab6a064",
        "colab": {
          "base_uri": "https://localhost:8080/"
        }
      },
      "source": [
        "print_2lines_default('มะลิวรรณ','ทองบุญมา','603021833-2','A')"
      ],
      "execution_count": 6,
      "outputs": [
        {
          "output_type": "stream",
          "text": [
            "ชื่อ มะลิวรรณ นามสกุล ทองบุญมา รหัส 603021833-2\n",
            "เกรดวิชา Data Viz >>> A\n"
          ],
          "name": "stdout"
        }
      ]
    },
    {
      "cell_type": "markdown",
      "metadata": {
        "id": "rMthcCcjbZb_"
      },
      "source": [
        "##LOOP การวนซ้ำ"
      ]
    },
    {
      "cell_type": "markdown",
      "metadata": {
        "id": "qsDU_Wu-bgKz"
      },
      "source": [
        "for เป็นคำที่ใช้บอก python ว่าเรากำลังเขียน loop\r\n",
        "โดย for จะวนดึงสมาชิกจาก ```listA``` มาทำ process ```do_something```"
      ]
    },
    {
      "cell_type": "code",
      "metadata": {
        "id": "4Fi4PNkPb5ee"
      },
      "source": [
        "for each_member in listA :\r\n",
        "  do_something"
      ],
      "execution_count": null,
      "outputs": []
    },
    {
      "cell_type": "markdown",
      "metadata": {
        "id": "iRBPzYuIcDWZ"
      },
      "source": [
        "### คำสั่ง for เป็นคำสั่งวนซ้ำที่ใช้ควบคุมการทำงานว้ำๆในจำนวนรอบที่แน่นอน"
      ]
    },
    {
      "cell_type": "code",
      "metadata": {
        "id": "ar8vAyVRcTV1",
        "colab": {
          "base_uri": "https://localhost:8080/"
        },
        "outputId": "70f6bd5f-b0d1-413d-ec75-cc8043b8e942"
      },
      "source": [
        "for i in [1,2,3] :\r\n",
        "     o = i**2\r\n",
        "     print (f' this member = {i} after process = {o}')"
      ],
      "execution_count": null,
      "outputs": [
        {
          "output_type": "stream",
          "text": [
            " this member = 1 after process = 1\n",
            " this member = 2 after process = 4\n",
            " this member = 3 after process = 9\n"
          ],
          "name": "stdout"
        }
      ]
    },
    {
      "cell_type": "markdown",
      "metadata": {
        "id": "WnPADNRoVYI5"
      },
      "source": [
        "#จบวันที่ 7 มกราคม 2564"
      ]
    },
    {
      "cell_type": "markdown",
      "metadata": {
        "id": "0ide67xFHYRR"
      },
      "source": [
        "#### ตัวอย่างการใช้คำสั่ง for ในการวนซ้ำค่าของ i เมื่อ i คือ 'Thanapong' และคำสั่ง print(f'{i} -> /') เพื่อกำหนดให้ผลลัพธ์แสดงสัญลักษณ์ -> /  จากนั้นเพิ่มคำสั่ง print(' ') อีกครั้งเพื่อให้ผลลัพธ์มีการเว้นวรรค¶ "
      ]
    },
    {
      "cell_type": "code",
      "metadata": {
        "id": "H7PxewqVVeKp",
        "colab": {
          "base_uri": "https://localhost:8080/"
        },
        "outputId": "7ee712e5-1bcd-4183-f306-80370ce34385"
      },
      "source": [
        "for i in 'maliwan':  #สั่งให้ปริ้นแบบเว้นบรรทัด\n",
        "  print(f'{i} -> /')"
      ],
      "execution_count": null,
      "outputs": [
        {
          "output_type": "stream",
          "text": [
            "m -> /\n",
            "a -> /\n",
            "l -> /\n",
            "i -> /\n",
            "w -> /\n",
            "a -> /\n",
            "n -> /\n"
          ],
          "name": "stdout"
        }
      ]
    },
    {
      "cell_type": "code",
      "metadata": {
        "id": "g5ZCm0fdWRcm",
        "colab": {
          "base_uri": "https://localhost:8080/"
        },
        "outputId": "4c69b818-303f-4db7-a798-481402953b8e"
      },
      "source": [
        "for i in 'maliwan':   #สั่งให้ print แบบไม่เว้นบรรทัด\n",
        "  print(f'{i} -> /  ', end = ',')"
      ],
      "execution_count": null,
      "outputs": [
        {
          "output_type": "stream",
          "text": [
            "m -> /  ,a -> /  ,l -> /  ,i -> /  ,w -> /  ,a -> /  ,n -> /  ,"
          ],
          "name": "stdout"
        }
      ]
    },
    {
      "cell_type": "code",
      "metadata": {
        "id": "xh1y49zocg-q",
        "colab": {
          "base_uri": "https://localhost:8080/"
        },
        "outputId": "c0be1cd8-779b-449d-e28c-36e9770b592e"
      },
      "source": [
        "for i in 'Thanapong':\r\n",
        "    print(f'{i}->/',end= ' ' ) #สั่งให้ print แบบไม่เว้นบรรทัด"
      ],
      "execution_count": null,
      "outputs": [
        {
          "output_type": "stream",
          "text": [
            "T->/ h->/ a->/ n->/ a->/ p->/ o->/ n->/ g->/ "
          ],
          "name": "stdout"
        }
      ]
    },
    {
      "cell_type": "markdown",
      "metadata": {
        "id": "zHcCC1Z3XsSM"
      },
      "source": [
        "#สร้าง list ตัวเลขแบบอัตโนมัติ range()"
      ]
    },
    {
      "cell_type": "code",
      "metadata": {
        "id": "7C5fZYCiYCzu",
        "colab": {
          "base_uri": "https://localhost:8080/"
        },
        "outputId": "5d418a7e-684b-42c7-999a-7f381537131c"
      },
      "source": [
        "range5_output = range(5)\n",
        "print(list(range5_output))"
      ],
      "execution_count": null,
      "outputs": [
        {
          "output_type": "stream",
          "text": [
            "[0, 1, 2, 3, 4]\n"
          ],
          "name": "stdout"
        }
      ]
    },
    {
      "cell_type": "code",
      "metadata": {
        "id": "57p5c0ERYjtu",
        "colab": {
          "base_uri": "https://localhost:8080/"
        },
        "outputId": "623b67a1-362e-47bf-bd6c-64202bfcd3f1"
      },
      "source": [
        "for i in range(100) :\n",
        "  print('มะลิ',end ='')"
      ],
      "execution_count": null,
      "outputs": [
        {
          "output_type": "stream",
          "text": [
            "มะลิมะลิมะลิมะลิมะลิมะลิมะลิมะลิมะลิมะลิมะลิมะลิมะลิมะลิมะลิมะลิมะลิมะลิมะลิมะลิมะลิมะลิมะลิมะลิมะลิมะลิมะลิมะลิมะลิมะลิมะลิมะลิมะลิมะลิมะลิมะลิมะลิมะลิมะลิมะลิมะลิมะลิมะลิมะลิมะลิมะลิมะลิมะลิมะลิมะลิมะลิมะลิมะลิมะลิมะลิมะลิมะลิมะลิมะลิมะลิมะลิมะลิมะลิมะลิมะลิมะลิมะลิมะลิมะลิมะลิมะลิมะลิมะลิมะลิมะลิมะลิมะลิมะลิมะลิมะลิมะลิมะลิมะลิมะลิมะลิมะลิมะลิมะลิมะลิมะลิมะลิมะลิมะลิมะลิมะลิมะลิมะลิมะลิมะลิมะลิ"
          ],
          "name": "stdout"
        }
      ]
    },
    {
      "cell_type": "code",
      "metadata": {
        "id": "eL2tt6U3ZGUC",
        "colab": {
          "base_uri": "https://localhost:8080/"
        },
        "outputId": "143d1214-a634-4b33-e127-ee48a1a45464"
      },
      "source": [
        "list(range(1,11)) #เริ่มต้นเป็นวงทึบ จบเป็นวงโปร่ง เหมือน list slicing"
      ],
      "execution_count": null,
      "outputs": [
        {
          "output_type": "execute_result",
          "data": {
            "text/plain": [
              "[1, 2, 3, 4, 5, 6, 7, 8, 9, 10]"
            ]
          },
          "metadata": {
            "tags": []
          },
          "execution_count": 7
        }
      ]
    },
    {
      "cell_type": "code",
      "metadata": {
        "id": "BFO1A_JtdOAM",
        "colab": {
          "base_uri": "https://localhost:8080/"
        },
        "outputId": "0a9a78a2-1d6b-4eb2-c3db-1f896dae840a"
      },
      "source": [
        "list(range(-3,20,4))"
      ],
      "execution_count": null,
      "outputs": [
        {
          "output_type": "execute_result",
          "data": {
            "text/plain": [
              "[-3, 1, 5, 9, 13, 17]"
            ]
          },
          "metadata": {
            "tags": []
          },
          "execution_count": 8
        }
      ]
    },
    {
      "cell_type": "code",
      "metadata": {
        "id": "HZIdzPO6dYTC"
      },
      "source": [
        ""
      ],
      "execution_count": null,
      "outputs": []
    },
    {
      "cell_type": "markdown",
      "metadata": {
        "id": "ydVcr-jbcuNF"
      },
      "source": [
        "#loop in loop"
      ]
    },
    {
      "cell_type": "markdown",
      "metadata": {
        "id": "x6UY-jlUdhEm"
      },
      "source": [
        "#สามารถใช้ for loob ซ้อนกันสองรอบได้"
      ]
    },
    {
      "cell_type": "code",
      "metadata": {
        "id": "EC4ZlNmUePQL",
        "colab": {
          "base_uri": "https://localhost:8080/"
        },
        "outputId": "eece3b2f-15cc-452b-9601-168377a83bf5"
      },
      "source": [
        "for name1 in range(2,5): #loop นี้วิ่ง(2, 3, 4)\n",
        "    print(f'no name1 = {name1}')\n",
        "    for name2 in range(1,13):\n",
        "        print(name1,' x ',name2, ' = ',name1*name2)\n",
        "    print('the inner loop is end')\n"
      ],
      "execution_count": null,
      "outputs": [
        {
          "output_type": "stream",
          "text": [
            "no name1 = 2\n",
            "2  x  1  =  2\n",
            "2  x  2  =  4\n",
            "2  x  3  =  6\n",
            "2  x  4  =  8\n",
            "2  x  5  =  10\n",
            "2  x  6  =  12\n",
            "2  x  7  =  14\n",
            "2  x  8  =  16\n",
            "2  x  9  =  18\n",
            "2  x  10  =  20\n",
            "2  x  11  =  22\n",
            "2  x  12  =  24\n",
            "the inner loop is end\n",
            "no name1 = 3\n",
            "3  x  1  =  3\n",
            "3  x  2  =  6\n",
            "3  x  3  =  9\n",
            "3  x  4  =  12\n",
            "3  x  5  =  15\n",
            "3  x  6  =  18\n",
            "3  x  7  =  21\n",
            "3  x  8  =  24\n",
            "3  x  9  =  27\n",
            "3  x  10  =  30\n",
            "3  x  11  =  33\n",
            "3  x  12  =  36\n",
            "the inner loop is end\n",
            "no name1 = 4\n",
            "4  x  1  =  4\n",
            "4  x  2  =  8\n",
            "4  x  3  =  12\n",
            "4  x  4  =  16\n",
            "4  x  5  =  20\n",
            "4  x  6  =  24\n",
            "4  x  7  =  28\n",
            "4  x  8  =  32\n",
            "4  x  9  =  36\n",
            "4  x  10  =  40\n",
            "4  x  11  =  44\n",
            "4  x  12  =  48\n",
            "the inner loop is end\n"
          ],
          "name": "stdout"
        }
      ]
    },
    {
      "cell_type": "markdown",
      "metadata": {
        "id": "fCG8qmH4hbEY"
      },
      "source": [
        "#loop in fuction"
      ]
    },
    {
      "cell_type": "code",
      "metadata": {
        "id": "PgodvkSGfOJO"
      },
      "source": [
        "def print_feelings (I, friends, feeling = 'คิดถึง'):\n",
        "    for friend in  friends :\n",
        "      print (f' {I} {feeling} {friend}')"
      ],
      "execution_count": 10,
      "outputs": []
    },
    {
      "cell_type": "code",
      "metadata": {
        "id": "pT41Ka2hihCb"
      },
      "source": [
        "list_friends = ['แพม', 'วิว','นัท','แจน','ป๋อง','กะทิ']"
      ],
      "execution_count": 11,
      "outputs": []
    },
    {
      "cell_type": "code",
      "metadata": {
        "id": "v5C49L3xjNig",
        "colab": {
          "base_uri": "https://localhost:8080/"
        },
        "outputId": "034a14fa-2ff9-40fb-9b9a-e91cce587892"
      },
      "source": [
        "print_feelings (' มะลิ ' ,list_friends)"
      ],
      "execution_count": 12,
      "outputs": [
        {
          "output_type": "stream",
          "text": [
            "  มะลิ  คิดถึง แพม\n",
            "  มะลิ  คิดถึง วิว\n",
            "  มะลิ  คิดถึง นัท\n",
            "  มะลิ  คิดถึง แจน\n",
            "  มะลิ  คิดถึง ป๋อง\n",
            "  มะลิ  คิดถึง กะทิ\n"
          ],
          "name": "stdout"
        }
      ]
    },
    {
      "cell_type": "code",
      "metadata": {
        "id": "w6rwActfdVh9",
        "colab": {
          "base_uri": "https://localhost:8080/"
        },
        "outputId": "61fd71dd-e33e-478e-cd08-7ad94ed9a958"
      },
      "source": [
        "print (list_friends)"
      ],
      "execution_count": 13,
      "outputs": [
        {
          "output_type": "stream",
          "text": [
            "['แพม', 'วิว', 'นัท', 'แจน', 'ป๋อง', 'กะทิ']\n"
          ],
          "name": "stdout"
        }
      ]
    },
    {
      "cell_type": "code",
      "metadata": {
        "id": "9R_No8mZHwt7",
        "outputId": "8549957c-5585-467a-bffb-572e1e8b527e",
        "colab": {
          "base_uri": "https://localhost:8080/"
        }
      },
      "source": [
        "print_feelings('มะลิ',list_friends,feeling='รัก')"
      ],
      "execution_count": 14,
      "outputs": [
        {
          "output_type": "stream",
          "text": [
            " มะลิ รัก แพม\n",
            " มะลิ รัก วิว\n",
            " มะลิ รัก นัท\n",
            " มะลิ รัก แจน\n",
            " มะลิ รัก ป๋อง\n",
            " มะลิ รัก กะทิ\n"
          ],
          "name": "stdout"
        }
      ]
    },
    {
      "cell_type": "code",
      "metadata": {
        "id": "SMuCLCufIOwO",
        "outputId": "026df32e-97dd-49eb-dc42-b4879706096d",
        "colab": {
          "base_uri": "https://localhost:8080/"
        }
      },
      "source": [
        "print_feelings('มะลิ',list_friends,'รัก')"
      ],
      "execution_count": 15,
      "outputs": [
        {
          "output_type": "stream",
          "text": [
            " มะลิ รัก แพม\n",
            " มะลิ รัก วิว\n",
            " มะลิ รัก นัท\n",
            " มะลิ รัก แจน\n",
            " มะลิ รัก ป๋อง\n",
            " มะลิ รัก กะทิ\n"
          ],
          "name": "stdout"
        }
      ]
    },
    {
      "cell_type": "markdown",
      "metadata": {
        "id": "ARip-aAveBp2"
      },
      "source": [
        "== (เท่ากับ),!= (ไท่เท่ากับ),<= ,>= ,< ,>"
      ]
    },
    {
      "cell_type": "code",
      "metadata": {
        "id": "Id0zIaUkeKpz",
        "colab": {
          "base_uri": "https://localhost:8080/"
        },
        "outputId": "fbac07a6-e2a8-4103-a10b-f8ebd0a242d4"
      },
      "source": [
        "' เจน ' == ' นุ่น '"
      ],
      "execution_count": null,
      "outputs": [
        {
          "output_type": "execute_result",
          "data": {
            "text/plain": [
              "False"
            ]
          },
          "metadata": {
            "tags": []
          },
          "execution_count": 25
        }
      ]
    },
    {
      "cell_type": "code",
      "metadata": {
        "id": "T_RCBMYceKvf",
        "colab": {
          "base_uri": "https://localhost:8080/"
        },
        "outputId": "8dc5c334-804a-4d8a-cfd0-2ce004b86022"
      },
      "source": [
        "' เจน ' != ' นุ่น '"
      ],
      "execution_count": null,
      "outputs": [
        {
          "output_type": "execute_result",
          "data": {
            "text/plain": [
              "True"
            ]
          },
          "metadata": {
            "tags": []
          },
          "execution_count": 26
        }
      ]
    },
    {
      "cell_type": "markdown",
      "metadata": {
        "id": "Zpf1GMFEI_10"
      },
      "source": [
        "### looping in dict\r\n",
        "#### ทำการวนลูปในค่า dict โดยที่เรากำหนดตัว key และvalueขึ้นมา ได้ดังนี้\r\n"
      ]
    },
    {
      "cell_type": "code",
      "metadata": {
        "id": "NaI1S9iSJJMA",
        "outputId": "c0154474-4ed7-4d3c-e578-8cc7732a4613",
        "colab": {
          "base_uri": "https://localhost:8080/"
        }
      },
      "source": [
        "name_grade = {'พันทิพา' : 'B','ศุภนิตา' : 'C','ปนัดดา' : 'A','ทรงกลด' : 'F'}\r\n",
        "name_grade "
      ],
      "execution_count": 16,
      "outputs": [
        {
          "output_type": "execute_result",
          "data": {
            "text/plain": [
              "{'ทรงกลด': 'F', 'ปนัดดา': 'A', 'พันทิพา': 'B', 'ศุภนิตา': 'C'}"
            ]
          },
          "metadata": {
            "tags": []
          },
          "execution_count": 16
        }
      ]
    },
    {
      "cell_type": "code",
      "metadata": {
        "id": "dhC-ssMZJNFw",
        "outputId": "36d52e5b-4f75-4519-9c60-ced0e369e77b",
        "colab": {
          "base_uri": "https://localhost:8080/",
          "height": 35
        }
      },
      "source": [
        "name_grade['ปนัดดา']"
      ],
      "execution_count": 17,
      "outputs": [
        {
          "output_type": "execute_result",
          "data": {
            "application/vnd.google.colaboratory.intrinsic+json": {
              "type": "string"
            },
            "text/plain": [
              "'A'"
            ]
          },
          "metadata": {
            "tags": []
          },
          "execution_count": 17
        }
      ]
    },
    {
      "cell_type": "code",
      "metadata": {
        "id": "p3wfG9STJQoy",
        "outputId": "fc748c07-8d36-4e11-974a-818af763ad15",
        "colab": {
          "base_uri": "https://localhost:8080/"
        }
      },
      "source": [
        "for i in name_grade.keys():\r\n",
        "    print(i)"
      ],
      "execution_count": 18,
      "outputs": [
        {
          "output_type": "stream",
          "text": [
            "พันทิพา\n",
            "ศุภนิตา\n",
            "ปนัดดา\n",
            "ทรงกลด\n"
          ],
          "name": "stdout"
        }
      ]
    },
    {
      "cell_type": "code",
      "metadata": {
        "id": "djRFAfF7JYW2",
        "outputId": "159497a1-a0ee-4e25-8412-683f1ef1c60d",
        "colab": {
          "base_uri": "https://localhost:8080/"
        }
      },
      "source": [
        "name_grade.keys()"
      ],
      "execution_count": 19,
      "outputs": [
        {
          "output_type": "execute_result",
          "data": {
            "text/plain": [
              "dict_keys(['พันทิพา', 'ศุภนิตา', 'ปนัดดา', 'ทรงกลด'])"
            ]
          },
          "metadata": {
            "tags": []
          },
          "execution_count": 19
        }
      ]
    },
    {
      "cell_type": "code",
      "metadata": {
        "id": "h054s_NNJcYb",
        "outputId": "a2dc4fd6-4daf-41f9-94e3-12ccfb15bbcc",
        "colab": {
          "base_uri": "https://localhost:8080/"
        }
      },
      "source": [
        "for i in name_grade.keys():\r\n",
        "    print(f'{i} ได้เกรด {name_grade[i]}')"
      ],
      "execution_count": 20,
      "outputs": [
        {
          "output_type": "stream",
          "text": [
            "พันทิพา ได้เกรด B\n",
            "ศุภนิตา ได้เกรด C\n",
            "ปนัดดา ได้เกรด A\n",
            "ทรงกลด ได้เกรด F\n"
          ],
          "name": "stdout"
        }
      ]
    },
    {
      "cell_type": "markdown",
      "metadata": {
        "id": "Vc_6bPVWkUVH"
      },
      "source": [
        "#condition คือ เงื่อนไขหรือประโยคเงื่อนไข"
      ]
    },
    {
      "cell_type": "markdown",
      "metadata": {
        "id": "pu2PhAC8JhD7"
      },
      "source": [
        "##### True / False\r\n",
        "##### การวนลูปโดยมีเงื่อนไขต่างๆมาเกี่ยวข้อง โดยมี pattern ดังนี้\r\n"
      ]
    },
    {
      "cell_type": "markdown",
      "metadata": {
        "id": "xlza8dc9Jln1"
      },
      "source": [
        "```Python\r\n",
        "if condition1 :\r\n",
        "    do something\r\n",
        "elif condition2 :  #elif คือ else if\r\n",
        "    do another thing\r\n",
        "else:\r\n",
        "    do ...\r\n",
        "```\r\n",
        "    "
      ]
    },
    {
      "cell_type": "code",
      "metadata": {
        "id": "ulrsw71Kekkb",
        "outputId": "988836e9-0aa7-4733-bf42-53f60c1d6b35",
        "colab": {
          "base_uri": "https://localhost:8080/"
        }
      },
      "source": [
        "print(list_friends)"
      ],
      "execution_count": 21,
      "outputs": [
        {
          "output_type": "stream",
          "text": [
            "['แพม', 'วิว', 'นัท', 'แจน', 'ป๋อง', 'กะทิ']\n"
          ],
          "name": "stdout"
        }
      ]
    },
    {
      "cell_type": "code",
      "metadata": {
        "id": "DJfZgvHGKSsK",
        "outputId": "1d661070-ceef-487a-b214-78dec28e16cb",
        "colab": {
          "base_uri": "https://localhost:8080/"
        }
      },
      "source": [
        "for name1 in list_friends :\r\n",
        "    for name2 in list_friends :\r\n",
        "            print(name1,'รัก',name2)"
      ],
      "execution_count": 22,
      "outputs": [
        {
          "output_type": "stream",
          "text": [
            "แพม รัก แพม\n",
            "แพม รัก วิว\n",
            "แพม รัก นัท\n",
            "แพม รัก แจน\n",
            "แพม รัก ป๋อง\n",
            "แพม รัก กะทิ\n",
            "วิว รัก แพม\n",
            "วิว รัก วิว\n",
            "วิว รัก นัท\n",
            "วิว รัก แจน\n",
            "วิว รัก ป๋อง\n",
            "วิว รัก กะทิ\n",
            "นัท รัก แพม\n",
            "นัท รัก วิว\n",
            "นัท รัก นัท\n",
            "นัท รัก แจน\n",
            "นัท รัก ป๋อง\n",
            "นัท รัก กะทิ\n",
            "แจน รัก แพม\n",
            "แจน รัก วิว\n",
            "แจน รัก นัท\n",
            "แจน รัก แจน\n",
            "แจน รัก ป๋อง\n",
            "แจน รัก กะทิ\n",
            "ป๋อง รัก แพม\n",
            "ป๋อง รัก วิว\n",
            "ป๋อง รัก นัท\n",
            "ป๋อง รัก แจน\n",
            "ป๋อง รัก ป๋อง\n",
            "ป๋อง รัก กะทิ\n",
            "กะทิ รัก แพม\n",
            "กะทิ รัก วิว\n",
            "กะทิ รัก นัท\n",
            "กะทิ รัก แจน\n",
            "กะทิ รัก ป๋อง\n",
            "กะทิ รัก กะทิ\n"
          ],
          "name": "stdout"
        }
      ]
    },
    {
      "cell_type": "code",
      "metadata": {
        "id": "UBTY7k4XKeCR",
        "outputId": "8280a3f2-972d-44f1-c0dd-7dc388a15d0f",
        "colab": {
          "base_uri": "https://localhost:8080/"
        }
      },
      "source": [
        "for name1 in list_friends:\r\n",
        "    for name2 in list_friends:\r\n",
        "        if name1 != name2: #ไม่ปริ้นชื่อคนเดียวกันซ้ำ\r\n",
        "            print(name1,'รัก',name2)"
      ],
      "execution_count": 23,
      "outputs": [
        {
          "output_type": "stream",
          "text": [
            "แพม รัก วิว\n",
            "แพม รัก นัท\n",
            "แพม รัก แจน\n",
            "แพม รัก ป๋อง\n",
            "แพม รัก กะทิ\n",
            "วิว รัก แพม\n",
            "วิว รัก นัท\n",
            "วิว รัก แจน\n",
            "วิว รัก ป๋อง\n",
            "วิว รัก กะทิ\n",
            "นัท รัก แพม\n",
            "นัท รัก วิว\n",
            "นัท รัก แจน\n",
            "นัท รัก ป๋อง\n",
            "นัท รัก กะทิ\n",
            "แจน รัก แพม\n",
            "แจน รัก วิว\n",
            "แจน รัก นัท\n",
            "แจน รัก ป๋อง\n",
            "แจน รัก กะทิ\n",
            "ป๋อง รัก แพม\n",
            "ป๋อง รัก วิว\n",
            "ป๋อง รัก นัท\n",
            "ป๋อง รัก แจน\n",
            "ป๋อง รัก กะทิ\n",
            "กะทิ รัก แพม\n",
            "กะทิ รัก วิว\n",
            "กะทิ รัก นัท\n",
            "กะทิ รัก แจน\n",
            "กะทิ รัก ป๋อง\n"
          ],
          "name": "stdout"
        }
      ]
    },
    {
      "cell_type": "code",
      "metadata": {
        "id": "w815XaxmK1MJ",
        "outputId": "99d39cad-1b83-47f4-bc9e-ae2f14609334",
        "colab": {
          "base_uri": "https://localhost:8080/"
        }
      },
      "source": [
        "for name1 in list_friends:\r\n",
        "    for name2 in list_friends:\r\n",
        "        if name1 == name2: #ปริ้นชื่อคนเดียวกันซ้ำ\r\n",
        "            print(name1,'รัก',name2)"
      ],
      "execution_count": 24,
      "outputs": [
        {
          "output_type": "stream",
          "text": [
            "แพม รัก แพม\n",
            "วิว รัก วิว\n",
            "นัท รัก นัท\n",
            "แจน รัก แจน\n",
            "ป๋อง รัก ป๋อง\n",
            "กะทิ รัก กะทิ\n"
          ],
          "name": "stdout"
        }
      ]
    },
    {
      "cell_type": "code",
      "metadata": {
        "id": "HwGu_gsNK7TL",
        "outputId": "f97fba75-0144-494b-b1b5-6b4515931fbc",
        "colab": {
          "base_uri": "https://localhost:8080/"
        }
      },
      "source": [
        "for name1 in list_friends:\r\n",
        "    for name2 in list_friends:\r\n",
        "        if name1 == name2: \r\n",
        "            'do nothing'\r\n",
        "        else:\r\n",
        "            print(name1,'รัก',name2)"
      ],
      "execution_count": 25,
      "outputs": [
        {
          "output_type": "stream",
          "text": [
            "แพม รัก วิว\n",
            "แพม รัก นัท\n",
            "แพม รัก แจน\n",
            "แพม รัก ป๋อง\n",
            "แพม รัก กะทิ\n",
            "วิว รัก แพม\n",
            "วิว รัก นัท\n",
            "วิว รัก แจน\n",
            "วิว รัก ป๋อง\n",
            "วิว รัก กะทิ\n",
            "นัท รัก แพม\n",
            "นัท รัก วิว\n",
            "นัท รัก แจน\n",
            "นัท รัก ป๋อง\n",
            "นัท รัก กะทิ\n",
            "แจน รัก แพม\n",
            "แจน รัก วิว\n",
            "แจน รัก นัท\n",
            "แจน รัก ป๋อง\n",
            "แจน รัก กะทิ\n",
            "ป๋อง รัก แพม\n",
            "ป๋อง รัก วิว\n",
            "ป๋อง รัก นัท\n",
            "ป๋อง รัก แจน\n",
            "ป๋อง รัก กะทิ\n",
            "กะทิ รัก แพม\n",
            "กะทิ รัก วิว\n",
            "กะทิ รัก นัท\n",
            "กะทิ รัก แจน\n",
            "กะทิ รัก ป๋อง\n"
          ],
          "name": "stdout"
        }
      ]
    },
    {
      "cell_type": "markdown",
      "metadata": {
        "id": "r5zhLINILE4J"
      },
      "source": [
        "#### หากหลังเงื่อนไข True ถูกต้องจะทำการ print ข้อความออกมาว่า Yes"
      ]
    },
    {
      "cell_type": "code",
      "metadata": {
        "id": "-sY_euV1LEYs",
        "outputId": "e7805f21-2814-4a4c-a35e-a3478f13fcac",
        "colab": {
          "base_uri": "https://localhost:8080/"
        }
      },
      "source": [
        "if True:\r\n",
        "    print('Yes')"
      ],
      "execution_count": 26,
      "outputs": [
        {
          "output_type": "stream",
          "text": [
            "Yes\n"
          ],
          "name": "stdout"
        }
      ]
    },
    {
      "cell_type": "code",
      "metadata": {
        "id": "okF24byxLLkC"
      },
      "source": [
        "if False:\r\n",
        "    print('No')"
      ],
      "execution_count": 27,
      "outputs": []
    },
    {
      "cell_type": "markdown",
      "metadata": {
        "id": "4I_KEVAuLSkF"
      },
      "source": [
        "#### หากหลังเงื่อนไข False ไม่ถูกต้องจะไม่ปริ้นข้อความใดๆออกมา\r\n",
        "#### ซึ่งจะต้องใช้เงื่อนไขนี้ จึงจะได้ปริ้นค่าเงื่อนไขนั้นออกมา ดังนี้"
      ]
    },
    {
      "cell_type": "code",
      "metadata": {
        "id": "byZcUPfXLZNo",
        "outputId": "b2f8a55d-5b8a-4344-d3c5-52a932d3d45d",
        "colab": {
          "base_uri": "https://localhost:8080/"
        }
      },
      "source": [
        "if False:\r\n",
        "    print('Yes')\r\n",
        "else:\r\n",
        "    print('No')"
      ],
      "execution_count": 28,
      "outputs": [
        {
          "output_type": "stream",
          "text": [
            "No\n"
          ],
          "name": "stdout"
        }
      ]
    },
    {
      "cell_type": "markdown",
      "metadata": {
        "id": "mae-DBYreYNW"
      },
      "source": [
        "#Homework4"
      ]
    },
    {
      "cell_type": "markdown",
      "metadata": {
        "id": "EbIPzbMgLlFm"
      },
      "source": [
        "\r\n",
        "#### เขียน function ตัดเกรด โดยที่ input เป็นคะแนน(0-100) , output เป็นเกรด (F-A)\r\n",
        "#### วนลูปตัดเกรด input = [1,50,65,90,101,-5,49]"
      ]
    },
    {
      "cell_type": "markdown",
      "metadata": {
        "id": "UhMFfoKxL0IE"
      },
      "source": [
        "##### กำหนด\r\n",
        "      ถ้าคะแนนอยู่ระหว่างมากกว่าหรือเท่ากับ  0  แต่น้อยกว่า 50 จะได้เกรด F\r\n",
        "      ถ้าคะแนนอยู่ระหว่างมากกว่าหรือเท่ากับ 50 แต่น้อยกว่า 55 จะได้เกรด D\r\n",
        "      ถ้าคะแนนอยู่ระหว่างมากกว่าหรือเท่ากับ 55 แต่น้อยกว่า 60 จะได้เกรด D+\r\n",
        "      ถ้าคะแนนอยู่ระหว่างมากกว่าหรือเท่ากับ 60 แต่น้อยกว่า 65 จะได้เกรด C\r\n",
        "      ถ้าคะแนนอยู่ระหว่างมากกว่าหรือเท่ากับ 65 แต่น้อยกว่า 70 จะได้เกรด C+\r\n",
        "      ถ้าคะแนนอยู่ระหว่างมากกว่าหรือเท่ากับ 70 แต่น้อยกว่า 75 จะได้เกรด B\r\n",
        "      ถ้าคะแนนอยู่ระหว่างมากกว่าหรือเท่ากับ 75 แต่น้อยกว่า 80 จะได้เกรด B+\r\n",
        "      ถ้าคะแนนอยู่ระหว่างมากกว่าหรือเท่ากับ 80  จะได้เกรด A\r\n",
        "      แต่ว่าค่าคะแนนจะต้องไม่ต่ำกว่า 0 และมากกว่า 100 ไม่งั้นจะเกิด error"
      ]
    },
    {
      "cell_type": "code",
      "metadata": {
        "id": "fU8Ri8DCjqj0"
      },
      "source": [
        "def grade (score):\r\n",
        "  if 0 <= score < 50 :\r\n",
        "    print(f'ได้คะแนนเท่ากับ {score} คะแนน เกรดจะเป็น F ' )\r\n",
        "  elif 50 <= score< 55:\r\n",
        "    print(f'ได้คะแนนเท่ากับ {score} คะแนน เกรดจะเป็น D ' )\r\n",
        "  elif 55 <= score< 60:\r\n",
        "    print(f'ได้คะแนนเท่ากับ {score} คะแนน เกรดจะเป็น D+ ' )\r\n",
        "  elif 60 <= score< 65:\r\n",
        "    print(f'ได้คะแนนเท่ากับ {score} คะแนน เกรดจะเป็น C' )\r\n",
        "  elif 65 <= score<70:\r\n",
        "    print(f'ได้คะแนนเท่ากับ {score} คะแนน เกรดจะเป็น C+' ) \r\n",
        "  elif 70 <= score<75:\r\n",
        "    print(f'ได้คะแนนเท่ากับ {score} คะแนน เกรดจะเป็น B  ' )  \r\n",
        "  elif 75 <= score<80:\r\n",
        "    print(f'ได้คะแนนเท่ากับ {score} คะแนน เกรดจะเป็น B+  ' )  \r\n",
        "  elif 80 <= score<100:\r\n",
        "    print(f'ได้คะแนนเท่ากับ {score} คะแนน เกรดจะเป็น A  ' )  \r\n",
        "  else:\r\n",
        "    print(f'ได้คะแนนเท่ากับ {score} คะแนน เกรดจะเป็น error ')"
      ],
      "execution_count": null,
      "outputs": []
    },
    {
      "cell_type": "code",
      "metadata": {
        "id": "Hv11okGhelvj",
        "colab": {
          "base_uri": "https://localhost:8080/"
        },
        "outputId": "d3f23cf3-77b3-4e8a-ada6-76ed067fd235"
      },
      "source": [
        "list_Grade = [1,50,65,90,101,-5,49]\r\n",
        "list_Grade"
      ],
      "execution_count": null,
      "outputs": [
        {
          "output_type": "execute_result",
          "data": {
            "text/plain": [
              "[1, 50, 65, 90, 101, -5, 49]"
            ]
          },
          "metadata": {
            "tags": []
          },
          "execution_count": 29
        }
      ]
    },
    {
      "cell_type": "code",
      "metadata": {
        "id": "euOzuk6Ferb9",
        "colab": {
          "base_uri": "https://localhost:8080/"
        },
        "outputId": "23d77cdd-e5d2-42ce-862d-78092756e98f"
      },
      "source": [
        "for i in list_Grade :\r\n",
        "    grade (i)"
      ],
      "execution_count": null,
      "outputs": [
        {
          "output_type": "stream",
          "text": [
            "ได้คะแนนเท่ากับ 1 คะแนน เกรดจะเป็น F \n",
            "ได้คะแนนเท่ากับ 50 คะแนน เกรดจะเป็น D \n",
            "ได้คะแนนเท่ากับ 65 คะแนน เกรดจะเป็น C+\n",
            "ได้คะแนนเท่ากับ 90 คะแนน เกรดจะเป็น A  \n",
            "ได้คะแนนเท่ากับ 101 คะแนน เกรดจะเป็น error \n",
            "ได้คะแนนเท่ากับ -5 คะแนน เกรดจะเป็น error \n",
            "ได้คะแนนเท่ากับ 49 คะแนน เกรดจะเป็น F \n"
          ],
          "name": "stdout"
        }
      ]
    },
    {
      "cell_type": "code",
      "metadata": {
        "id": "1jk9Zsw_Kb1Q"
      },
      "source": [
        ""
      ],
      "execution_count": null,
      "outputs": []
    }
  ]
}