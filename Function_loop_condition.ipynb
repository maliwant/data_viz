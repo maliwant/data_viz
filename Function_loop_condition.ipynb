{
  "nbformat": 4,
  "nbformat_minor": 0,
  "metadata": {
    "colab": {
      "name": "Function_loop_condition.ipynb",
      "provenance": [],
      "authorship_tag": "ABX9TyPDt8zELqAozQbTuiIzNjQ/",
      "include_colab_link": true
    },
    "kernelspec": {
      "name": "python3",
      "display_name": "Python 3"
    }
  },
  "cells": [
    {
      "cell_type": "markdown",
      "metadata": {
        "id": "view-in-github",
        "colab_type": "text"
      },
      "source": [
        "<a href=\"https://colab.research.google.com/github/maliwant/data_viz/blob/main/Function_loop_condition.ipynb\" target=\"_parent\"><img src=\"https://colab.research.google.com/assets/colab-badge.svg\" alt=\"Open In Colab\"/></a>"
      ]
    },
    {
      "cell_type": "code",
      "metadata": {
        "id": "Yp8NlOT2f25E"
      },
      "source": [
        "name = 'มะลิวรรณ'\r\n",
        "surname ='ทองบุญมา'\r\n",
        "ID = '603021833-2'\r\n"
      ],
      "execution_count": null,
      "outputs": []
    },
    {
      "cell_type": "markdown",
      "metadata": {
        "id": "YJBlHB7lgriQ"
      },
      "source": [
        "#funtion template\r\n",
        "ทำหน้าที่รับ input ประมวลผลออกมาเป็น output \r\n",
        "f(x) = y\r\n",
        "\r\n",
        "\r\n"
      ]
    },
    {
      "cell_type": "code",
      "metadata": {
        "id": "nObpNfACgxCU"
      },
      "source": [
        ""
      ],
      "execution_count": null,
      "outputs": []
    },
    {
      "cell_type": "markdown",
      "metadata": {
        "id": "wa5XjFvVhXKE"
      },
      "source": [
        "def คือการกำหนดฟังก์ชั่น"
      ]
    },
    {
      "cell_type": "code",
      "metadata": {
        "id": "wg-jT_akhgft"
      },
      "source": [
        "```pyton\r\n",
        "def funtion_name(_input_) :\r\n",
        "  do_something with _input_ to get _output_\r\n",
        "  return _output_ "
      ],
      "execution_count": null,
      "outputs": []
    },
    {
      "cell_type": "markdown",
      "metadata": {
        "id": "dsrSzTYejfRb"
      },
      "source": [
        "```pyton\r\n",
        "def funtion_name(_input_) :\r\n",
        "  do_something with _input_ to get _output_\r\n",
        "  return _output_ \r\n",
        "```\r\n",
        "ิbacktick (```)\r\n",
        "tilde (~ )\r\n",
        "curly bracket ({})\r\n",
        "square bracket ([])"
      ]
    },
    {
      "cell_type": "markdown",
      "metadata": {
        "id": "r-jGVpLamA8Q"
      },
      "source": [
        ""
      ]
    },
    {
      "cell_type": "markdown",
      "metadata": {
        "id": "HLPv0H1LkVDZ"
      },
      "source": [
        "# ตัวอย่างการเขียน normal function"
      ]
    },
    {
      "cell_type": "code",
      "metadata": {
        "id": "Vm7X0MI2kcQz"
      },
      "source": [
        "def print_name(name,surname,ID) :\r\n",
        "  st = f'ชื่อ {name} นามสกุล {surname} รหัส {ID}'\r\n",
        "  return st"
      ],
      "execution_count": null,
      "outputs": []
    },
    {
      "cell_type": "code",
      "metadata": {
        "colab": {
          "base_uri": "https://localhost:8080/",
          "height": 35
        },
        "id": "-RzZLeTglLcm",
        "outputId": "2c0d5f83-335e-4538-afd2-29c64b17d91c"
      },
      "source": [
        "print_name('มะลิวรรณ','603021833-2','ทองบุญมา')"
      ],
      "execution_count": null,
      "outputs": [
        {
          "output_type": "execute_result",
          "data": {
            "application/vnd.google.colaboratory.intrinsic+json": {
              "type": "string"
            },
            "text/plain": [
              "'ชื่อ มะลิวรรณ นามสกุล 603021833-2 รหัส ทองบุญมา'"
            ]
          },
          "metadata": {
            "tags": []
          },
          "execution_count": 7
        }
      ]
    },
    {
      "cell_type": "code",
      "metadata": {
        "colab": {
          "base_uri": "https://localhost:8080/"
        },
        "id": "Z39FTmUznyqx",
        "outputId": "54fe1fb1-1589-404e-c7f6-125f670845dc"
      },
      "source": [
        "print(print_name(name ='มะลิวรรณ',surname ='ทองบุญมา',ID = '603021833-2'))"
      ],
      "execution_count": null,
      "outputs": [
        {
          "output_type": "stream",
          "text": [
            "ชื่อ มะลิวรรณ นามสกุล ทองบุญมา รหัส 603021833-2\n"
          ],
          "name": "stdout"
        }
      ]
    },
    {
      "cell_type": "markdown",
      "metadata": {
        "id": "f_4qVsJqqXkZ"
      },
      "source": [
        "#ฟังก์ชั่นที่ไม่จำเป็นต้องมี input"
      ]
    },
    {
      "cell_type": "code",
      "metadata": {
        "id": "xfloDvHNqeYb"
      },
      "source": [
        "def Pi() :\r\n",
        "  return 3.141592653589793"
      ],
      "execution_count": null,
      "outputs": []
    },
    {
      "cell_type": "code",
      "metadata": {
        "colab": {
          "base_uri": "https://localhost:8080/"
        },
        "id": "1s-kLxf4qwGX",
        "outputId": "9dce40ee-8f6a-4038-988d-31c804f18618"
      },
      "source": [
        "Pi()*(2**2) #หาพื้นที่เส้นรอบวงกลม"
      ],
      "execution_count": null,
      "outputs": [
        {
          "output_type": "execute_result",
          "data": {
            "text/plain": [
              "12.566370614359172"
            ]
          },
          "metadata": {
            "tags": []
          },
          "execution_count": 20
        }
      ]
    },
    {
      "cell_type": "code",
      "metadata": {
        "id": "JKU6pVGEwaMC"
      },
      "source": [
        "print_2lines_default('มะลิวรรณ','ทองบุญมา','603021833-2')"
      ],
      "execution_count": null,
      "outputs": []
    },
    {
      "cell_type": "markdown",
      "metadata": {
        "id": "WnPADNRoVYI5"
      },
      "source": [
        "#จบวันที่ 7 มกราคม 2564"
      ]
    },
    {
      "cell_type": "code",
      "metadata": {
        "id": "H7PxewqVVeKp",
        "outputId": "7ee712e5-1bcd-4183-f306-80370ce34385",
        "colab": {
          "base_uri": "https://localhost:8080/"
        }
      },
      "source": [
        "for i in 'maliwan':  #สั่งให้ปริ้นแบบเว้นบรรทัด\n",
        "  print(f'{i} -> /')"
      ],
      "execution_count": 1,
      "outputs": [
        {
          "output_type": "stream",
          "text": [
            "m -> /\n",
            "a -> /\n",
            "l -> /\n",
            "i -> /\n",
            "w -> /\n",
            "a -> /\n",
            "n -> /\n"
          ],
          "name": "stdout"
        }
      ]
    },
    {
      "cell_type": "code",
      "metadata": {
        "id": "g5ZCm0fdWRcm",
        "outputId": "4c69b818-303f-4db7-a798-481402953b8e",
        "colab": {
          "base_uri": "https://localhost:8080/"
        }
      },
      "source": [
        "for i in 'maliwan':   #สั่งให้ print แบบไม่เว้นบรรทัด\n",
        "  print(f'{i} -> /  ', end = ',')"
      ],
      "execution_count": 4,
      "outputs": [
        {
          "output_type": "stream",
          "text": [
            "m -> /  ,a -> /  ,l -> /  ,i -> /  ,w -> /  ,a -> /  ,n -> /  ,"
          ],
          "name": "stdout"
        }
      ]
    },
    {
      "cell_type": "code",
      "metadata": {
        "id": "Pe8E0fmfWxge"
      },
      "source": [
        ""
      ],
      "execution_count": null,
      "outputs": []
    },
    {
      "cell_type": "markdown",
      "metadata": {
        "id": "zHcCC1Z3XsSM"
      },
      "source": [
        "#สร้าง list ตัวเลขแบบอัตโนมัติ range()"
      ]
    },
    {
      "cell_type": "code",
      "metadata": {
        "id": "7C5fZYCiYCzu",
        "outputId": "5d418a7e-684b-42c7-999a-7f381537131c",
        "colab": {
          "base_uri": "https://localhost:8080/"
        }
      },
      "source": [
        "range5_output = range(5)\n",
        "print(list(range5_output))"
      ],
      "execution_count": 5,
      "outputs": [
        {
          "output_type": "stream",
          "text": [
            "[0, 1, 2, 3, 4]\n"
          ],
          "name": "stdout"
        }
      ]
    },
    {
      "cell_type": "code",
      "metadata": {
        "id": "57p5c0ERYjtu",
        "outputId": "623b67a1-362e-47bf-bd6c-64202bfcd3f1",
        "colab": {
          "base_uri": "https://localhost:8080/"
        }
      },
      "source": [
        "for i in range(100) :\n",
        "  print('มะลิ',end ='')"
      ],
      "execution_count": 6,
      "outputs": [
        {
          "output_type": "stream",
          "text": [
            "มะลิมะลิมะลิมะลิมะลิมะลิมะลิมะลิมะลิมะลิมะลิมะลิมะลิมะลิมะลิมะลิมะลิมะลิมะลิมะลิมะลิมะลิมะลิมะลิมะลิมะลิมะลิมะลิมะลิมะลิมะลิมะลิมะลิมะลิมะลิมะลิมะลิมะลิมะลิมะลิมะลิมะลิมะลิมะลิมะลิมะลิมะลิมะลิมะลิมะลิมะลิมะลิมะลิมะลิมะลิมะลิมะลิมะลิมะลิมะลิมะลิมะลิมะลิมะลิมะลิมะลิมะลิมะลิมะลิมะลิมะลิมะลิมะลิมะลิมะลิมะลิมะลิมะลิมะลิมะลิมะลิมะลิมะลิมะลิมะลิมะลิมะลิมะลิมะลิมะลิมะลิมะลิมะลิมะลิมะลิมะลิมะลิมะลิมะลิมะลิ"
          ],
          "name": "stdout"
        }
      ]
    },
    {
      "cell_type": "code",
      "metadata": {
        "id": "eL2tt6U3ZGUC",
        "outputId": "143d1214-a634-4b33-e127-ee48a1a45464",
        "colab": {
          "base_uri": "https://localhost:8080/"
        }
      },
      "source": [
        "list(range(1,11)) #เริ่มต้นเป็นวงทึบ จบเป็นวงโปร่ง เหมือน list slicing"
      ],
      "execution_count": 7,
      "outputs": [
        {
          "output_type": "execute_result",
          "data": {
            "text/plain": [
              "[1, 2, 3, 4, 5, 6, 7, 8, 9, 10]"
            ]
          },
          "metadata": {
            "tags": []
          },
          "execution_count": 7
        }
      ]
    },
    {
      "cell_type": "code",
      "metadata": {
        "id": "BFO1A_JtdOAM",
        "outputId": "0a9a78a2-1d6b-4eb2-c3db-1f896dae840a",
        "colab": {
          "base_uri": "https://localhost:8080/"
        }
      },
      "source": [
        "list(range(-3,20,4))"
      ],
      "execution_count": 8,
      "outputs": [
        {
          "output_type": "execute_result",
          "data": {
            "text/plain": [
              "[-3, 1, 5, 9, 13, 17]"
            ]
          },
          "metadata": {
            "tags": []
          },
          "execution_count": 8
        }
      ]
    },
    {
      "cell_type": "code",
      "metadata": {
        "id": "HZIdzPO6dYTC"
      },
      "source": [
        ""
      ],
      "execution_count": null,
      "outputs": []
    },
    {
      "cell_type": "markdown",
      "metadata": {
        "id": "x6UY-jlUdhEm"
      },
      "source": [
        "#สามารถใช้ for loob ซ้อนกันสองรอบได้"
      ]
    },
    {
      "cell_type": "code",
      "metadata": {
        "id": "EC4ZlNmUePQL"
      },
      "source": [
        "for name1 in range(2,5) :\n",
        "  for name2 in range(1,13) :\n",
        "  print(name1,'x',name2,'=',name1*name2)\n"
      ],
      "execution_count": null,
      "outputs": []
    },
    {
      "cell_type": "markdown",
      "metadata": {
        "id": "fCG8qmH4hbEY"
      },
      "source": [
        "#loop in fuction"
      ]
    },
    {
      "cell_type": "code",
      "metadata": {
        "id": "PgodvkSGfOJO"
      },
      "source": [
        "def print_feeling(I,friends,feeling = 'คิดถึง') :\n",
        "  for friend in friends :\n",
        "    print(f'{I} {feeling} {friend}')"
      ],
      "execution_count": 12,
      "outputs": []
    },
    {
      "cell_type": "code",
      "metadata": {
        "id": "pT41Ka2hihCb"
      },
      "source": [
        "list_friends = ['แพม', 'วิว','นัท','แจน','ป๋อง']"
      ],
      "execution_count": 14,
      "outputs": []
    },
    {
      "cell_type": "code",
      "metadata": {
        "id": "v5C49L3xjNig"
      },
      "source": [
        "print_feelings('มะลิ',list_friends)"
      ],
      "execution_count": null,
      "outputs": []
    },
    {
      "cell_type": "markdown",
      "metadata": {
        "id": "Vc_6bPVWkUVH"
      },
      "source": [
        "#condition คือ เงื่อนไขหรือประโยคเงื่อนไข"
      ]
    },
    {
      "cell_type": "code",
      "metadata": {
        "id": "fU8Ri8DCjqj0"
      },
      "source": [
        ""
      ],
      "execution_count": null,
      "outputs": []
    }
  ]
}