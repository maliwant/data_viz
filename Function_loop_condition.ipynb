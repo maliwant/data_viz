{
  "nbformat": 4,
  "nbformat_minor": 0,
  "metadata": {
    "colab": {
      "name": "Function_loop_condition.ipynb",
      "provenance": [],
      "authorship_tag": "ABX9TyMsblceC2gD9ek8K7mDkOrI",
      "include_colab_link": true
    },
    "kernelspec": {
      "name": "python3",
      "display_name": "Python 3"
    }
  },
  "cells": [
    {
      "cell_type": "markdown",
      "metadata": {
        "id": "view-in-github",
        "colab_type": "text"
      },
      "source": [
        "<a href=\"https://colab.research.google.com/github/maliwant/data_viz/blob/main/Function_loop_condition.ipynb\" target=\"_parent\"><img src=\"https://colab.research.google.com/assets/colab-badge.svg\" alt=\"Open In Colab\"/></a>"
      ]
    },
    {
      "cell_type": "code",
      "metadata": {
        "id": "Yp8NlOT2f25E"
      },
      "source": [
        "name = 'มะลิวรรณ'\r\n",
        "surname ='ทองบุญมา'\r\n",
        "ID = '603021833-2'\r\n"
      ],
      "execution_count": 1,
      "outputs": []
    },
    {
      "cell_type": "markdown",
      "metadata": {
        "id": "YJBlHB7lgriQ"
      },
      "source": [
        "#funtion template\r\n",
        "ทำหน้าที่รับ input ประมวลผลออกมาเป็น output \r\n",
        "f(x) = y\r\n",
        "\r\n",
        "\r\n"
      ]
    },
    {
      "cell_type": "code",
      "metadata": {
        "id": "nObpNfACgxCU"
      },
      "source": [
        ""
      ],
      "execution_count": 1,
      "outputs": []
    },
    {
      "cell_type": "markdown",
      "metadata": {
        "id": "wa5XjFvVhXKE"
      },
      "source": [
        "def คือการกำหนดฟังก์ชั่น"
      ]
    },
    {
      "cell_type": "code",
      "metadata": {
        "id": "wg-jT_akhgft"
      },
      "source": [
        "```pyton\r\n",
        "def funtion_name(_input_) :\r\n",
        "  do_something with _input_ to get _output_\r\n",
        "  return _output_ "
      ],
      "execution_count": null,
      "outputs": []
    },
    {
      "cell_type": "markdown",
      "metadata": {
        "id": "dsrSzTYejfRb"
      },
      "source": [
        "```pyton\r\n",
        "def funtion_name(_input_) :\r\n",
        "  do_something with _input_ to get _output_\r\n",
        "  return _output_ \r\n",
        "```\r\n",
        "ิbacktick (```)\r\n",
        "tilde (~ )\r\n",
        "curly bracket ({})\r\n",
        "square bracket ([])"
      ]
    },
    {
      "cell_type": "markdown",
      "metadata": {
        "id": "r-jGVpLamA8Q"
      },
      "source": [
        ""
      ]
    },
    {
      "cell_type": "markdown",
      "metadata": {
        "id": "HLPv0H1LkVDZ"
      },
      "source": [
        "# ตัวอย่างการเขียน normal function"
      ]
    },
    {
      "cell_type": "code",
      "metadata": {
        "id": "Vm7X0MI2kcQz"
      },
      "source": [
        "def print_name(name,surname,ID) :\r\n",
        "  st = f'ชื่อ {name} นามสกุล {surname} รหัส {ID}'\r\n",
        "  return st"
      ],
      "execution_count": 6,
      "outputs": []
    },
    {
      "cell_type": "code",
      "metadata": {
        "colab": {
          "base_uri": "https://localhost:8080/",
          "height": 35
        },
        "id": "-RzZLeTglLcm",
        "outputId": "2c0d5f83-335e-4538-afd2-29c64b17d91c"
      },
      "source": [
        "print_name('มะลิวรรณ','603021833-2','ทองบุญมา')"
      ],
      "execution_count": 7,
      "outputs": [
        {
          "output_type": "execute_result",
          "data": {
            "application/vnd.google.colaboratory.intrinsic+json": {
              "type": "string"
            },
            "text/plain": [
              "'ชื่อ มะลิวรรณ นามสกุล 603021833-2 รหัส ทองบุญมา'"
            ]
          },
          "metadata": {
            "tags": []
          },
          "execution_count": 7
        }
      ]
    },
    {
      "cell_type": "code",
      "metadata": {
        "colab": {
          "base_uri": "https://localhost:8080/"
        },
        "id": "Z39FTmUznyqx",
        "outputId": "54fe1fb1-1589-404e-c7f6-125f670845dc"
      },
      "source": [
        "print(print_name(name ='มะลิวรรณ',surname ='ทองบุญมา',ID = '603021833-2'))"
      ],
      "execution_count": 9,
      "outputs": [
        {
          "output_type": "stream",
          "text": [
            "ชื่อ มะลิวรรณ นามสกุล ทองบุญมา รหัส 603021833-2\n"
          ],
          "name": "stdout"
        }
      ]
    },
    {
      "cell_type": "markdown",
      "metadata": {
        "id": "f_4qVsJqqXkZ"
      },
      "source": [
        "#ฟังก์ชั่นที่ไม่จำเป็นต้องมี input"
      ]
    },
    {
      "cell_type": "code",
      "metadata": {
        "id": "xfloDvHNqeYb"
      },
      "source": [
        "def Pi() :\r\n",
        "  return 3.141592653589793"
      ],
      "execution_count": 18,
      "outputs": []
    },
    {
      "cell_type": "code",
      "metadata": {
        "colab": {
          "base_uri": "https://localhost:8080/"
        },
        "id": "1s-kLxf4qwGX",
        "outputId": "9dce40ee-8f6a-4038-988d-31c804f18618"
      },
      "source": [
        "Pi()*(2**2) #หาพื้นที่เส้นรอบวงกลม"
      ],
      "execution_count": 20,
      "outputs": [
        {
          "output_type": "execute_result",
          "data": {
            "text/plain": [
              "12.566370614359172"
            ]
          },
          "metadata": {
            "tags": []
          },
          "execution_count": 20
        }
      ]
    },
    {
      "cell_type": "code",
      "metadata": {
        "id": "RD5spqPOsQHf"
      },
      "source": [
        "def print_2lines_default(name,surname,ID,grade='F') \r\n",
        "st = f'ชื่อ{name}, นามสกุล{surname},รหัส{ID}'\r\n",
        "print(st)\r\n",
        "st2 = f'เกรดวิชา Data Viz >>> {grade}'\r\n",
        "print(st2)"
      ],
      "execution_count": null,
      "outputs": []
    },
    {
      "cell_type": "code",
      "metadata": {
        "id": "JKU6pVGEwaMC"
      },
      "source": [
        "print_2lines_default('มะลิวรรณ','ทองบุญมา','603021833-2')"
      ],
      "execution_count": null,
      "outputs": []
    }
  ]
}