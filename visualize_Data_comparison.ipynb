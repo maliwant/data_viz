{
  "nbformat": 4,
  "nbformat_minor": 0,
  "metadata": {
    "colab": {
      "name": "visualize Data comparison.ipynb",
      "provenance": [],
      "authorship_tag": "ABX9TyM7OAn8/cQyVodUv03bDRTi",
      "include_colab_link": true
    },
    "kernelspec": {
      "name": "python3",
      "display_name": "Python 3"
    },
    "language_info": {
      "name": "python"
    }
  },
  "cells": [
    {
      "cell_type": "markdown",
      "metadata": {
        "id": "view-in-github",
        "colab_type": "text"
      },
      "source": [
        "<a href=\"https://colab.research.google.com/github/maliwant/data_viz/blob/main/visualize_Data_comparison.ipynb\" target=\"_parent\"><img src=\"https://colab.research.google.com/assets/colab-badge.svg\" alt=\"Open In Colab\"/></a>"
      ]
    },
    {
      "cell_type": "code",
      "metadata": {
        "id": "T7hYX3hbOYVQ"
      },
      "source": [
        "import pandas as pd\n",
        "import os\n",
        "from datetime import datetime as dt\n",
        "from datetime import time\n",
        "from matplotlib import pyplot as plt"
      ],
      "execution_count": null,
      "outputs": []
    },
    {
      "cell_type": "code",
      "metadata": {
        "colab": {
          "base_uri": "https://localhost:8080/"
        },
        "id": "VeB6o1kySHbQ",
        "outputId": "78d77fc0-7d2a-45f7-8a64-af385dc2a63d"
      },
      "source": [
        "from google.colab import drive\n",
        "drive.mount('/content/drive')"
      ],
      "execution_count": null,
      "outputs": [
        {
          "output_type": "stream",
          "text": [
            "Mounted at /content/drive\n"
          ],
          "name": "stdout"
        }
      ]
    },
    {
      "cell_type": "code",
      "metadata": {
        "colab": {
          "base_uri": "https://localhost:8080/",
          "height": 983
        },
        "id": "pq84Wy8jXvIL",
        "outputId": "cce4d06c-bf8e-4763-b010-fa696aac4b60"
      },
      "source": [
        "data = pd.read_csv('/content/drive/MyDrive/search_request.csv')\n",
        "data"
      ],
      "execution_count": null,
      "outputs": [
        {
          "output_type": "stream",
          "text": [
            "/usr/local/lib/python3.7/dist-packages/IPython/core/interactiveshell.py:2718: DtypeWarning: Columns (7,8,9) have mixed types.Specify dtype option on import or set low_memory=False.\n",
            "  interactivity=interactivity, compiler=compiler, result=result)\n"
          ],
          "name": "stderr"
        },
        {
          "output_type": "execute_result",
          "data": {
            "text/html": [
              "<div>\n",
              "<style scoped>\n",
              "    .dataframe tbody tr th:only-of-type {\n",
              "        vertical-align: middle;\n",
              "    }\n",
              "\n",
              "    .dataframe tbody tr th {\n",
              "        vertical-align: top;\n",
              "    }\n",
              "\n",
              "    .dataframe thead th {\n",
              "        text-align: right;\n",
              "    }\n",
              "</style>\n",
              "<table border=\"1\" class=\"dataframe\">\n",
              "  <thead>\n",
              "    <tr style=\"text-align: right;\">\n",
              "      <th></th>\n",
              "      <th>Unnamed: 0</th>\n",
              "      <th>search_id</th>\n",
              "      <th>search_timestamp</th>\n",
              "      <th>user_agent</th>\n",
              "      <th>q</th>\n",
              "      <th>user_id</th>\n",
              "      <th>session_id</th>\n",
              "      <th>number_of_result</th>\n",
              "      <th>lat</th>\n",
              "      <th>long</th>\n",
              "    </tr>\n",
              "  </thead>\n",
              "  <tbody>\n",
              "    <tr>\n",
              "      <th>0</th>\n",
              "      <td>0</td>\n",
              "      <td>683de889-f923-494e-9d46-44a3d67b7259</td>\n",
              "      <td>2018-06-14 12:34:35.449</td>\n",
              "      <td>Wongnai/8.17.3 rv:8.17.3.3921 (iPhone5,4; iOS;...</td>\n",
              "      <td>NaN</td>\n",
              "      <td>NaN</td>\n",
              "      <td>5lqjjikta19d296mo7g2h1k86p</td>\n",
              "      <td>18</td>\n",
              "      <td>12.6347</td>\n",
              "      <td>101.463</td>\n",
              "    </tr>\n",
              "    <tr>\n",
              "      <th>1</th>\n",
              "      <td>1</td>\n",
              "      <td>4a811230-ffa4-4631-a4c8-5d0394137d02</td>\n",
              "      <td>2018-06-14 17:11:19.469</td>\n",
              "      <td>Mozilla/5.0 (iPhone; CPU iPhone OS 11_4 like M...</td>\n",
              "      <td>NaN</td>\n",
              "      <td>NaN</td>\n",
              "      <td>1r3iotmp0o9slom91stdt9vivc</td>\n",
              "      <td>10</td>\n",
              "      <td>14.8009</td>\n",
              "      <td>102.534</td>\n",
              "    </tr>\n",
              "    <tr>\n",
              "      <th>2</th>\n",
              "      <td>2</td>\n",
              "      <td>7ad6ee8e-438e-4bea-9183-74dcef9e358e</td>\n",
              "      <td>2018-06-14 13:22:31.736</td>\n",
              "      <td>Mozilla/5.0 (Linux; Android 7.0; SAMSUNG SM-J7...</td>\n",
              "      <td>NaN</td>\n",
              "      <td>NaN</td>\n",
              "      <td>5ci1eo4v5u9dha4ppgu94ue7p6</td>\n",
              "      <td>8</td>\n",
              "      <td>13.7383</td>\n",
              "      <td>100.371</td>\n",
              "    </tr>\n",
              "    <tr>\n",
              "      <th>3</th>\n",
              "      <td>3</td>\n",
              "      <td>0c17a5f5-fa89-40f4-ae94-a8659268f827</td>\n",
              "      <td>2018-06-02 12:37:27.331</td>\n",
              "      <td>Mozilla/5.0 (Linux; Android 7.1.1; SM-N950F Bu...</td>\n",
              "      <td>NaN</td>\n",
              "      <td>NaN</td>\n",
              "      <td>39n535qgje9kpojp0grhfj8umk</td>\n",
              "      <td>12</td>\n",
              "      <td>12.6669</td>\n",
              "      <td>101.861</td>\n",
              "    </tr>\n",
              "    <tr>\n",
              "      <th>4</th>\n",
              "      <td>4</td>\n",
              "      <td>6870dc3a-5602-44fc-80ed-df0a7783df9d</td>\n",
              "      <td>2018-06-02 11:19:22.404</td>\n",
              "      <td>Mozilla/5.0 (iPhone; CPU iPhone OS 11_3_1 like...</td>\n",
              "      <td>NaN</td>\n",
              "      <td>NaN</td>\n",
              "      <td>5pa03h6lj691to60erver1l8o4</td>\n",
              "      <td>14</td>\n",
              "      <td>12.2372</td>\n",
              "      <td>99.88</td>\n",
              "    </tr>\n",
              "    <tr>\n",
              "      <th>...</th>\n",
              "      <td>...</td>\n",
              "      <td>...</td>\n",
              "      <td>...</td>\n",
              "      <td>...</td>\n",
              "      <td>...</td>\n",
              "      <td>...</td>\n",
              "      <td>...</td>\n",
              "      <td>...</td>\n",
              "      <td>...</td>\n",
              "      <td>...</td>\n",
              "    </tr>\n",
              "    <tr>\n",
              "      <th>10004352</th>\n",
              "      <td>10005225</td>\n",
              "      <td>5d8c10aa-63cf-4bdd-ab01-0af17a98781f</td>\n",
              "      <td>2018-06-24 09:23:57.777</td>\n",
              "      <td>okhttp/3.9.0;WongnaiAndroid 8.16.6;OPPO;CPH1729</td>\n",
              "      <td>NaN</td>\n",
              "      <td>153319.0</td>\n",
              "      <td>1oaki72de48dm87jbgj2a2crgf</td>\n",
              "      <td>22</td>\n",
              "      <td>NaN</td>\n",
              "      <td>NaN</td>\n",
              "    </tr>\n",
              "    <tr>\n",
              "      <th>10004353</th>\n",
              "      <td>10005226</td>\n",
              "      <td>66cc94db-217a-4d8e-aa20-b1d10e17c968</td>\n",
              "      <td>2018-06-24 17:03:39.908</td>\n",
              "      <td>Wongnai/10.0 (iPhone10,6; iOS; 11.4; en_TH;)</td>\n",
              "      <td>NaN</td>\n",
              "      <td>NaN</td>\n",
              "      <td>1pb7i5fe2g9hd92qbkbgh06aek</td>\n",
              "      <td>22</td>\n",
              "      <td>NaN</td>\n",
              "      <td>NaN</td>\n",
              "    </tr>\n",
              "    <tr>\n",
              "      <th>10004354</th>\n",
              "      <td>10005227</td>\n",
              "      <td>4eb3b514-fb71-4dfe-a580-c560e8c9dcc7</td>\n",
              "      <td>2018-06-24 19:17:55.797</td>\n",
              "      <td>Wongnai/10.0 (iPhone10,6; iOS; 11.4; en_TH;)</td>\n",
              "      <td>NaN</td>\n",
              "      <td>NaN</td>\n",
              "      <td>282oq0of578c6p4q760medgd30</td>\n",
              "      <td>22</td>\n",
              "      <td>NaN</td>\n",
              "      <td>NaN</td>\n",
              "    </tr>\n",
              "    <tr>\n",
              "      <th>10004355</th>\n",
              "      <td>10005228</td>\n",
              "      <td>f5554532-2eb1-4ba6-a98e-1e10b2174d2c</td>\n",
              "      <td>2018-06-24 16:53:06.067</td>\n",
              "      <td>Wongnai/10.0 (iPhone10,6; iOS; 11.4; en_TH;)</td>\n",
              "      <td>NaN</td>\n",
              "      <td>21520.0</td>\n",
              "      <td>2cpkib5gr19un9fmner728bair</td>\n",
              "      <td>22</td>\n",
              "      <td>NaN</td>\n",
              "      <td>NaN</td>\n",
              "    </tr>\n",
              "    <tr>\n",
              "      <th>10004356</th>\n",
              "      <td>10005229</td>\n",
              "      <td>48421ba4-8c69-46a5-aa05-425ddc82a09a</td>\n",
              "      <td>2018-06-24 18:06:58.441</td>\n",
              "      <td>Wongnai/10.0 (iPhone10,6; iOS; 11.4; en_TH;)</td>\n",
              "      <td>NaN</td>\n",
              "      <td>23581.0</td>\n",
              "      <td>2hb8cusb4797ioih8nq118l4t0</td>\n",
              "      <td>22</td>\n",
              "      <td>NaN</td>\n",
              "      <td>NaN</td>\n",
              "    </tr>\n",
              "  </tbody>\n",
              "</table>\n",
              "<p>10004357 rows × 10 columns</p>\n",
              "</div>"
            ],
            "text/plain": [
              "          Unnamed: 0                             search_id  ...      lat     long\n",
              "0                  0  683de889-f923-494e-9d46-44a3d67b7259  ...  12.6347  101.463\n",
              "1                  1  4a811230-ffa4-4631-a4c8-5d0394137d02  ...  14.8009  102.534\n",
              "2                  2  7ad6ee8e-438e-4bea-9183-74dcef9e358e  ...  13.7383  100.371\n",
              "3                  3  0c17a5f5-fa89-40f4-ae94-a8659268f827  ...  12.6669  101.861\n",
              "4                  4  6870dc3a-5602-44fc-80ed-df0a7783df9d  ...  12.2372    99.88\n",
              "...              ...                                   ...  ...      ...      ...\n",
              "10004352    10005225  5d8c10aa-63cf-4bdd-ab01-0af17a98781f  ...      NaN      NaN\n",
              "10004353    10005226  66cc94db-217a-4d8e-aa20-b1d10e17c968  ...      NaN      NaN\n",
              "10004354    10005227  4eb3b514-fb71-4dfe-a580-c560e8c9dcc7  ...      NaN      NaN\n",
              "10004355    10005228  f5554532-2eb1-4ba6-a98e-1e10b2174d2c  ...      NaN      NaN\n",
              "10004356    10005229  48421ba4-8c69-46a5-aa05-425ddc82a09a  ...      NaN      NaN\n",
              "\n",
              "[10004357 rows x 10 columns]"
            ]
          },
          "metadata": {
            "tags": []
          },
          "execution_count": 10
        }
      ]
    },
    {
      "cell_type": "markdown",
      "metadata": {
        "id": "yXRzG5u6YeHR"
      },
      "source": [
        "## เตรียมข้อมูล"
      ]
    },
    {
      "cell_type": "markdown",
      "metadata": {
        "id": "x_-_0ZYRYkGx"
      },
      "source": [
        "#### แปลงข้อมูลบอกเวลาให้เป็นตัวแปรชนิด datetime"
      ]
    },
    {
      "cell_type": "code",
      "metadata": {
        "colab": {
          "base_uri": "https://localhost:8080/",
          "height": 949
        },
        "id": "KHSiCWvjYe4w",
        "outputId": "171b3b31-b93d-48f9-c368-04ac9436a731"
      },
      "source": [
        "data['search_timestamp']= pd.to_datetime(data['search_timestamp'],dayfirst=True,errors ='coerce')\n",
        "data"
      ],
      "execution_count": null,
      "outputs": [
        {
          "output_type": "execute_result",
          "data": {
            "text/html": [
              "<div>\n",
              "<style scoped>\n",
              "    .dataframe tbody tr th:only-of-type {\n",
              "        vertical-align: middle;\n",
              "    }\n",
              "\n",
              "    .dataframe tbody tr th {\n",
              "        vertical-align: top;\n",
              "    }\n",
              "\n",
              "    .dataframe thead th {\n",
              "        text-align: right;\n",
              "    }\n",
              "</style>\n",
              "<table border=\"1\" class=\"dataframe\">\n",
              "  <thead>\n",
              "    <tr style=\"text-align: right;\">\n",
              "      <th></th>\n",
              "      <th>Unnamed: 0</th>\n",
              "      <th>search_id</th>\n",
              "      <th>search_timestamp</th>\n",
              "      <th>user_agent</th>\n",
              "      <th>q</th>\n",
              "      <th>user_id</th>\n",
              "      <th>session_id</th>\n",
              "      <th>number_of_result</th>\n",
              "      <th>lat</th>\n",
              "      <th>long</th>\n",
              "    </tr>\n",
              "  </thead>\n",
              "  <tbody>\n",
              "    <tr>\n",
              "      <th>0</th>\n",
              "      <td>0</td>\n",
              "      <td>683de889-f923-494e-9d46-44a3d67b7259</td>\n",
              "      <td>2018-06-14 12:34:35.449</td>\n",
              "      <td>Wongnai/8.17.3 rv:8.17.3.3921 (iPhone5,4; iOS;...</td>\n",
              "      <td>NaN</td>\n",
              "      <td>NaN</td>\n",
              "      <td>5lqjjikta19d296mo7g2h1k86p</td>\n",
              "      <td>18</td>\n",
              "      <td>12.6347</td>\n",
              "      <td>101.463</td>\n",
              "    </tr>\n",
              "    <tr>\n",
              "      <th>1</th>\n",
              "      <td>1</td>\n",
              "      <td>4a811230-ffa4-4631-a4c8-5d0394137d02</td>\n",
              "      <td>2018-06-14 17:11:19.469</td>\n",
              "      <td>Mozilla/5.0 (iPhone; CPU iPhone OS 11_4 like M...</td>\n",
              "      <td>NaN</td>\n",
              "      <td>NaN</td>\n",
              "      <td>1r3iotmp0o9slom91stdt9vivc</td>\n",
              "      <td>10</td>\n",
              "      <td>14.8009</td>\n",
              "      <td>102.534</td>\n",
              "    </tr>\n",
              "    <tr>\n",
              "      <th>2</th>\n",
              "      <td>2</td>\n",
              "      <td>7ad6ee8e-438e-4bea-9183-74dcef9e358e</td>\n",
              "      <td>2018-06-14 13:22:31.736</td>\n",
              "      <td>Mozilla/5.0 (Linux; Android 7.0; SAMSUNG SM-J7...</td>\n",
              "      <td>NaN</td>\n",
              "      <td>NaN</td>\n",
              "      <td>5ci1eo4v5u9dha4ppgu94ue7p6</td>\n",
              "      <td>8</td>\n",
              "      <td>13.7383</td>\n",
              "      <td>100.371</td>\n",
              "    </tr>\n",
              "    <tr>\n",
              "      <th>3</th>\n",
              "      <td>3</td>\n",
              "      <td>0c17a5f5-fa89-40f4-ae94-a8659268f827</td>\n",
              "      <td>2018-06-02 12:37:27.331</td>\n",
              "      <td>Mozilla/5.0 (Linux; Android 7.1.1; SM-N950F Bu...</td>\n",
              "      <td>NaN</td>\n",
              "      <td>NaN</td>\n",
              "      <td>39n535qgje9kpojp0grhfj8umk</td>\n",
              "      <td>12</td>\n",
              "      <td>12.6669</td>\n",
              "      <td>101.861</td>\n",
              "    </tr>\n",
              "    <tr>\n",
              "      <th>4</th>\n",
              "      <td>4</td>\n",
              "      <td>6870dc3a-5602-44fc-80ed-df0a7783df9d</td>\n",
              "      <td>2018-06-02 11:19:22.404</td>\n",
              "      <td>Mozilla/5.0 (iPhone; CPU iPhone OS 11_3_1 like...</td>\n",
              "      <td>NaN</td>\n",
              "      <td>NaN</td>\n",
              "      <td>5pa03h6lj691to60erver1l8o4</td>\n",
              "      <td>14</td>\n",
              "      <td>12.2372</td>\n",
              "      <td>99.88</td>\n",
              "    </tr>\n",
              "    <tr>\n",
              "      <th>...</th>\n",
              "      <td>...</td>\n",
              "      <td>...</td>\n",
              "      <td>...</td>\n",
              "      <td>...</td>\n",
              "      <td>...</td>\n",
              "      <td>...</td>\n",
              "      <td>...</td>\n",
              "      <td>...</td>\n",
              "      <td>...</td>\n",
              "      <td>...</td>\n",
              "    </tr>\n",
              "    <tr>\n",
              "      <th>10004352</th>\n",
              "      <td>10005225</td>\n",
              "      <td>5d8c10aa-63cf-4bdd-ab01-0af17a98781f</td>\n",
              "      <td>2018-06-24 09:23:57.777</td>\n",
              "      <td>okhttp/3.9.0;WongnaiAndroid 8.16.6;OPPO;CPH1729</td>\n",
              "      <td>NaN</td>\n",
              "      <td>153319.0</td>\n",
              "      <td>1oaki72de48dm87jbgj2a2crgf</td>\n",
              "      <td>22</td>\n",
              "      <td>NaN</td>\n",
              "      <td>NaN</td>\n",
              "    </tr>\n",
              "    <tr>\n",
              "      <th>10004353</th>\n",
              "      <td>10005226</td>\n",
              "      <td>66cc94db-217a-4d8e-aa20-b1d10e17c968</td>\n",
              "      <td>2018-06-24 17:03:39.908</td>\n",
              "      <td>Wongnai/10.0 (iPhone10,6; iOS; 11.4; en_TH;)</td>\n",
              "      <td>NaN</td>\n",
              "      <td>NaN</td>\n",
              "      <td>1pb7i5fe2g9hd92qbkbgh06aek</td>\n",
              "      <td>22</td>\n",
              "      <td>NaN</td>\n",
              "      <td>NaN</td>\n",
              "    </tr>\n",
              "    <tr>\n",
              "      <th>10004354</th>\n",
              "      <td>10005227</td>\n",
              "      <td>4eb3b514-fb71-4dfe-a580-c560e8c9dcc7</td>\n",
              "      <td>2018-06-24 19:17:55.797</td>\n",
              "      <td>Wongnai/10.0 (iPhone10,6; iOS; 11.4; en_TH;)</td>\n",
              "      <td>NaN</td>\n",
              "      <td>NaN</td>\n",
              "      <td>282oq0of578c6p4q760medgd30</td>\n",
              "      <td>22</td>\n",
              "      <td>NaN</td>\n",
              "      <td>NaN</td>\n",
              "    </tr>\n",
              "    <tr>\n",
              "      <th>10004355</th>\n",
              "      <td>10005228</td>\n",
              "      <td>f5554532-2eb1-4ba6-a98e-1e10b2174d2c</td>\n",
              "      <td>2018-06-24 16:53:06.067</td>\n",
              "      <td>Wongnai/10.0 (iPhone10,6; iOS; 11.4; en_TH;)</td>\n",
              "      <td>NaN</td>\n",
              "      <td>21520.0</td>\n",
              "      <td>2cpkib5gr19un9fmner728bair</td>\n",
              "      <td>22</td>\n",
              "      <td>NaN</td>\n",
              "      <td>NaN</td>\n",
              "    </tr>\n",
              "    <tr>\n",
              "      <th>10004356</th>\n",
              "      <td>10005229</td>\n",
              "      <td>48421ba4-8c69-46a5-aa05-425ddc82a09a</td>\n",
              "      <td>2018-06-24 18:06:58.441</td>\n",
              "      <td>Wongnai/10.0 (iPhone10,6; iOS; 11.4; en_TH;)</td>\n",
              "      <td>NaN</td>\n",
              "      <td>23581.0</td>\n",
              "      <td>2hb8cusb4797ioih8nq118l4t0</td>\n",
              "      <td>22</td>\n",
              "      <td>NaN</td>\n",
              "      <td>NaN</td>\n",
              "    </tr>\n",
              "  </tbody>\n",
              "</table>\n",
              "<p>10004357 rows × 10 columns</p>\n",
              "</div>"
            ],
            "text/plain": [
              "          Unnamed: 0                             search_id  ...      lat     long\n",
              "0                  0  683de889-f923-494e-9d46-44a3d67b7259  ...  12.6347  101.463\n",
              "1                  1  4a811230-ffa4-4631-a4c8-5d0394137d02  ...  14.8009  102.534\n",
              "2                  2  7ad6ee8e-438e-4bea-9183-74dcef9e358e  ...  13.7383  100.371\n",
              "3                  3  0c17a5f5-fa89-40f4-ae94-a8659268f827  ...  12.6669  101.861\n",
              "4                  4  6870dc3a-5602-44fc-80ed-df0a7783df9d  ...  12.2372    99.88\n",
              "...              ...                                   ...  ...      ...      ...\n",
              "10004352    10005225  5d8c10aa-63cf-4bdd-ab01-0af17a98781f  ...      NaN      NaN\n",
              "10004353    10005226  66cc94db-217a-4d8e-aa20-b1d10e17c968  ...      NaN      NaN\n",
              "10004354    10005227  4eb3b514-fb71-4dfe-a580-c560e8c9dcc7  ...      NaN      NaN\n",
              "10004355    10005228  f5554532-2eb1-4ba6-a98e-1e10b2174d2c  ...      NaN      NaN\n",
              "10004356    10005229  48421ba4-8c69-46a5-aa05-425ddc82a09a  ...      NaN      NaN\n",
              "\n",
              "[10004357 rows x 10 columns]"
            ]
          },
          "metadata": {
            "tags": []
          },
          "execution_count": 11
        }
      ]
    },
    {
      "cell_type": "markdown",
      "metadata": {
        "id": "-QqajhW8YyVc"
      },
      "source": [
        "## Bar char (กราฟแท่ง)"
      ]
    },
    {
      "cell_type": "markdown",
      "metadata": {
        "id": "Ee6WCNbDY3pk"
      },
      "source": [
        "### สร้างกราฟแท่งเปรียบเทียบปริมาณ คนเข้าใช้ wed Wongnai.com เพื่อค้นหาร้านอาหารในแต่ละวัน"
      ]
    },
    {
      "cell_type": "code",
      "metadata": {
        "id": "ZYV5GsFpY-in"
      },
      "source": [
        "from matplotlib import pyplot as plt"
      ],
      "execution_count": null,
      "outputs": []
    },
    {
      "cell_type": "code",
      "metadata": {
        "id": "uvoGhzQUZBNl"
      },
      "source": [
        "mon = data[data['search_timestamp'].dt.dayofweek == 0].count()\n",
        "tue = data[data['search_timestamp'].dt.dayofweek == 1].count()\n",
        "wen = data[data['search_timestamp'].dt.dayofweek == 2].count()\n",
        "thu = data[data['search_timestamp'].dt.dayofweek == 3].count()\n",
        "fri = data[data['search_timestamp'].dt.dayofweek == 4].count()\n",
        "sat = data[data['search_timestamp'].dt.dayofweek == 5].count()\n",
        "son = data[data['search_timestamp'].dt.dayofweek == 6].count()"
      ],
      "execution_count": null,
      "outputs": []
    },
    {
      "cell_type": "code",
      "metadata": {
        "colab": {
          "base_uri": "https://localhost:8080/",
          "height": 276
        },
        "id": "m6x7wbLCZLMB",
        "outputId": "d2d70a46-c76b-40a6-b079-b886375aab97"
      },
      "source": [
        "plt.bar([1,2,3,4,5,6,7],[mon.iloc[2],tue.iloc[2],wen.iloc[2],thu.iloc[2],fri.iloc[2],sat.iloc[2],son.iloc[2]]);"
      ],
      "execution_count": null,
      "outputs": [
        {
          "output_type": "display_data",
          "data": {
            "image/png": "[encoded data removed]",
            "text/plain": [
              "<Figure size 432x288 with 1 Axes>"
            ]
          },
          "metadata": {
            "tags": [],
            "needs_background": "light"
          }
        }
      ]
    },
    {
      "cell_type": "code",
      "metadata": {
        "id": "Wwe5g4tFZTUz"
      },
      "source": [
        ""
      ],
      "execution_count": null,
      "outputs": []
    },
    {
      "cell_type": "markdown",
      "metadata": {
        "id": "ZHszh9zDRpWm"
      },
      "source": [
        "#QUIZ 7 เปรียบเทียบความถี่ของแท่งที่มีค่ามากที่สุดกับแท่งอื่นๆรวมกัน"
      ]
    },
    {
      "cell_type": "code",
      "metadata": {
        "id": "_GBvo-47R_AV"
      },
      "source": [
        "\n",
        "\n"
      ],
      "execution_count": null,
      "outputs": []
    }
  ]
}