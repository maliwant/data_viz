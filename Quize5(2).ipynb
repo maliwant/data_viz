{
  "nbformat": 4,
  "nbformat_minor": 0,
  "metadata": {
    "colab": {
      "name": "Quize5(2).ipynb",
      "provenance": [],
      "authorship_tag": "ABX9TyM3lRLcTFn8I1ve8B6RuVpy",
      "include_colab_link": true
    },
    "kernelspec": {
      "name": "python3",
      "display_name": "Python 3"
    },
    "language_info": {
      "name": "python"
    }
  },
  "cells": [
    {
      "cell_type": "markdown",
      "metadata": {
        "id": "view-in-github",
        "colab_type": "text"
      },
      "source": [
        "<a href=\"https://colab.research.google.com/github/maliwant/data_viz/blob/main/Quize5(2).ipynb\" target=\"_parent\"><img src=\"https://colab.research.google.com/assets/colab-badge.svg\" alt=\"Open In Colab\"/></a>"
      ]
    },
    {
      "cell_type": "code",
      "metadata": {
        "id": "NdrhLXQPlo4j"
      },
      "source": [
        "import pandas as pd\n",
        "import os\n",
        "from datetime import datetime as dt"
      ],
      "execution_count": 12,
      "outputs": []
    },
    {
      "cell_type": "code",
      "metadata": {
        "colab": {
          "base_uri": "https://localhost:8080/"
        },
        "id": "Ho4LN2CElqJ7",
        "outputId": "dfb75077-066b-4c22-f727-24386e31aaca"
      },
      "source": [
        "from google.colab import drive\n",
        "drive.mount('/content/drive')"
      ],
      "execution_count": 13,
      "outputs": [
        {
          "output_type": "stream",
          "text": [
            "Drive already mounted at /content/drive; to attempt to forcibly remount, call drive.mount(\"/content/drive\", force_remount=True).\n"
          ],
          "name": "stdout"
        }
      ]
    },
    {
      "cell_type": "code",
      "metadata": {
        "id": "0vtWp5YmluoA"
      },
      "source": [
        "import os \n",
        "\n",
        "path = '/content/drive/My Drive/search_request.csv'"
      ],
      "execution_count": 14,
      "outputs": []
    },
    {
      "cell_type": "code",
      "metadata": {
        "colab": {
          "base_uri": "https://localhost:8080/",
          "height": 547
        },
        "id": "2jnpO-uas3Wc",
        "outputId": "9455c7f5-9a9b-40c7-f7c3-38745eb49aa9"
      },
      "source": [
        "data = pd.read_csv(path)\n",
        "data.head()"
      ],
      "execution_count": 16,
      "outputs": [
        {
          "output_type": "stream",
          "text": [
            "/usr/local/lib/python3.7/dist-packages/IPython/core/interactiveshell.py:2718: DtypeWarning: Columns (7,8,9) have mixed types.Specify dtype option on import or set low_memory=False.\n",
            "  interactivity=interactivity, compiler=compiler, result=result)\n"
          ],
          "name": "stderr"
        },
        {
          "output_type": "execute_result",
          "data": {
            "text/html": [
              "<div>\n",
              "<style scoped>\n",
              "    .dataframe tbody tr th:only-of-type {\n",
              "        vertical-align: middle;\n",
              "    }\n",
              "\n",
              "    .dataframe tbody tr th {\n",
              "        vertical-align: top;\n",
              "    }\n",
              "\n",
              "    .dataframe thead th {\n",
              "        text-align: right;\n",
              "    }\n",
              "</style>\n",
              "<table border=\"1\" class=\"dataframe\">\n",
              "  <thead>\n",
              "    <tr style=\"text-align: right;\">\n",
              "      <th></th>\n",
              "      <th>Unnamed: 0</th>\n",
              "      <th>search_id</th>\n",
              "      <th>search_timestamp</th>\n",
              "      <th>user_agent</th>\n",
              "      <th>q</th>\n",
              "      <th>user_id</th>\n",
              "      <th>session_id</th>\n",
              "      <th>number_of_result</th>\n",
              "      <th>lat</th>\n",
              "      <th>long</th>\n",
              "    </tr>\n",
              "  </thead>\n",
              "  <tbody>\n",
              "    <tr>\n",
              "      <th>0</th>\n",
              "      <td>0</td>\n",
              "      <td>683de889-f923-494e-9d46-44a3d67b7259</td>\n",
              "      <td>2018-06-14 12:34:35.449</td>\n",
              "      <td>Wongnai/8.17.3 rv:8.17.3.3921 (iPhone5,4; iOS;...</td>\n",
              "      <td>NaN</td>\n",
              "      <td>NaN</td>\n",
              "      <td>5lqjjikta19d296mo7g2h1k86p</td>\n",
              "      <td>18</td>\n",
              "      <td>12.6347</td>\n",
              "      <td>101.463</td>\n",
              "    </tr>\n",
              "    <tr>\n",
              "      <th>1</th>\n",
              "      <td>1</td>\n",
              "      <td>4a811230-ffa4-4631-a4c8-5d0394137d02</td>\n",
              "      <td>2018-06-14 17:11:19.469</td>\n",
              "      <td>Mozilla/5.0 (iPhone; CPU iPhone OS 11_4 like M...</td>\n",
              "      <td>NaN</td>\n",
              "      <td>NaN</td>\n",
              "      <td>1r3iotmp0o9slom91stdt9vivc</td>\n",
              "      <td>10</td>\n",
              "      <td>14.8009</td>\n",
              "      <td>102.534</td>\n",
              "    </tr>\n",
              "    <tr>\n",
              "      <th>2</th>\n",
              "      <td>2</td>\n",
              "      <td>7ad6ee8e-438e-4bea-9183-74dcef9e358e</td>\n",
              "      <td>2018-06-14 13:22:31.736</td>\n",
              "      <td>Mozilla/5.0 (Linux; Android 7.0; SAMSUNG SM-J7...</td>\n",
              "      <td>NaN</td>\n",
              "      <td>NaN</td>\n",
              "      <td>5ci1eo4v5u9dha4ppgu94ue7p6</td>\n",
              "      <td>8</td>\n",
              "      <td>13.7383</td>\n",
              "      <td>100.371</td>\n",
              "    </tr>\n",
              "    <tr>\n",
              "      <th>3</th>\n",
              "      <td>3</td>\n",
              "      <td>0c17a5f5-fa89-40f4-ae94-a8659268f827</td>\n",
              "      <td>2018-06-02 12:37:27.331</td>\n",
              "      <td>Mozilla/5.0 (Linux; Android 7.1.1; SM-N950F Bu...</td>\n",
              "      <td>NaN</td>\n",
              "      <td>NaN</td>\n",
              "      <td>39n535qgje9kpojp0grhfj8umk</td>\n",
              "      <td>12</td>\n",
              "      <td>12.6669</td>\n",
              "      <td>101.861</td>\n",
              "    </tr>\n",
              "    <tr>\n",
              "      <th>4</th>\n",
              "      <td>4</td>\n",
              "      <td>6870dc3a-5602-44fc-80ed-df0a7783df9d</td>\n",
              "      <td>2018-06-02 11:19:22.404</td>\n",
              "      <td>Mozilla/5.0 (iPhone; CPU iPhone OS 11_3_1 like...</td>\n",
              "      <td>NaN</td>\n",
              "      <td>NaN</td>\n",
              "      <td>5pa03h6lj691to60erver1l8o4</td>\n",
              "      <td>14</td>\n",
              "      <td>12.2372</td>\n",
              "      <td>99.88</td>\n",
              "    </tr>\n",
              "  </tbody>\n",
              "</table>\n",
              "</div>"
            ],
            "text/plain": [
              "   Unnamed: 0                             search_id  ...      lat     long\n",
              "0           0  683de889-f923-494e-9d46-44a3d67b7259  ...  12.6347  101.463\n",
              "1           1  4a811230-ffa4-4631-a4c8-5d0394137d02  ...  14.8009  102.534\n",
              "2           2  7ad6ee8e-438e-4bea-9183-74dcef9e358e  ...  13.7383  100.371\n",
              "3           3  0c17a5f5-fa89-40f4-ae94-a8659268f827  ...  12.6669  101.861\n",
              "4           4  6870dc3a-5602-44fc-80ed-df0a7783df9d  ...  12.2372    99.88\n",
              "\n",
              "[5 rows x 10 columns]"
            ]
          },
          "metadata": {
            "tags": []
          },
          "execution_count": 16
        }
      ]
    },
    {
      "cell_type": "code",
      "metadata": {
        "colab": {
          "base_uri": "https://localhost:8080/",
          "height": 35
        },
        "id": "0eaPtmvcs7kt",
        "outputId": "5b408b10-39b9-4507-b317-d96316138e46"
      },
      "source": [
        "data.iloc[0,2]"
      ],
      "execution_count": 17,
      "outputs": [
        {
          "output_type": "execute_result",
          "data": {
            "application/vnd.google.colaboratory.intrinsic+json": {
              "type": "string"
            },
            "text/plain": [
              "'2018-06-14 12:34:35.449'"
            ]
          },
          "metadata": {
            "tags": []
          },
          "execution_count": 17
        }
      ]
    },
    {
      "cell_type": "code",
      "metadata": {
        "colab": {
          "base_uri": "https://localhost:8080/"
        },
        "id": "wNn_uDkItPY1",
        "outputId": "f17eafa7-16c6-4ec0-c054-e91e17d91700"
      },
      "source": [
        "len(data.iloc[0,2])"
      ],
      "execution_count": 18,
      "outputs": [
        {
          "output_type": "execute_result",
          "data": {
            "text/plain": [
              "23"
            ]
          },
          "metadata": {
            "tags": []
          },
          "execution_count": 18
        }
      ]
    },
    {
      "cell_type": "code",
      "metadata": {
        "colab": {
          "base_uri": "https://localhost:8080/",
          "height": 35
        },
        "id": "P4MqwRuXtR0h",
        "outputId": "554da7fd-8d2c-48d7-822b-4c577402cb82"
      },
      "source": [
        "data.iloc[0,2][10]"
      ],
      "execution_count": 19,
      "outputs": [
        {
          "output_type": "execute_result",
          "data": {
            "application/vnd.google.colaboratory.intrinsic+json": {
              "type": "string"
            },
            "text/plain": [
              "' '"
            ]
          },
          "metadata": {
            "tags": []
          },
          "execution_count": 19
        }
      ]
    },
    {
      "cell_type": "code",
      "metadata": {
        "id": "2VyipZZ_tWmc"
      },
      "source": [
        ""
      ],
      "execution_count": null,
      "outputs": []
    },
    {
      "cell_type": "markdown",
      "metadata": {
        "id": "jeL43FI_tbxY"
      },
      "source": [
        "เปรียบเทียบจำนวน requests ของช่วงเวลา 11.00-11.59 กับ 23.00-23.59\n",
        "\n",
        "เปรียบเทียบจำนวน requests ของวันจันทร์-พฤหัส กับ ศุกร์-อาทิตย์"
      ]
    },
    {
      "cell_type": "code",
      "metadata": {
        "id": "e33h2YPLtdJb"
      },
      "source": [
        "from datetime import time"
      ],
      "execution_count": 20,
      "outputs": []
    },
    {
      "cell_type": "code",
      "metadata": {
        "id": "ACDBnTA3tg4b"
      },
      "source": [
        "data['search_timestamp']  = pd.to_datetime(data['search_timestamp'],format='%Y-%m-%d %H:%M:%S',errors='coerce')"
      ],
      "execution_count": 21,
      "outputs": []
    },
    {
      "cell_type": "code",
      "metadata": {
        "colab": {
          "base_uri": "https://localhost:8080/",
          "height": 932
        },
        "id": "-R49pTD1tjds",
        "outputId": "8a5eb0eb-093a-4a66-a5b8-5ea9811fbe29"
      },
      "source": [
        "data[data['search_timestamp'].dt.dayofweek == 3]"
      ],
      "execution_count": 22,
      "outputs": [
        {
          "output_type": "execute_result",
          "data": {
            "text/html": [
              "<div>\n",
              "<style scoped>\n",
              "    .dataframe tbody tr th:only-of-type {\n",
              "        vertical-align: middle;\n",
              "    }\n",
              "\n",
              "    .dataframe tbody tr th {\n",
              "        vertical-align: top;\n",
              "    }\n",
              "\n",
              "    .dataframe thead th {\n",
              "        text-align: right;\n",
              "    }\n",
              "</style>\n",
              "<table border=\"1\" class=\"dataframe\">\n",
              "  <thead>\n",
              "    <tr style=\"text-align: right;\">\n",
              "      <th></th>\n",
              "      <th>Unnamed: 0</th>\n",
              "      <th>search_id</th>\n",
              "      <th>search_timestamp</th>\n",
              "      <th>user_agent</th>\n",
              "      <th>q</th>\n",
              "      <th>user_id</th>\n",
              "      <th>session_id</th>\n",
              "      <th>number_of_result</th>\n",
              "      <th>lat</th>\n",
              "      <th>long</th>\n",
              "    </tr>\n",
              "  </thead>\n",
              "  <tbody>\n",
              "    <tr>\n",
              "      <th>0</th>\n",
              "      <td>0</td>\n",
              "      <td>683de889-f923-494e-9d46-44a3d67b7259</td>\n",
              "      <td>2018-06-14 12:34:35.449</td>\n",
              "      <td>Wongnai/8.17.3 rv:8.17.3.3921 (iPhone5,4; iOS;...</td>\n",
              "      <td>NaN</td>\n",
              "      <td>NaN</td>\n",
              "      <td>5lqjjikta19d296mo7g2h1k86p</td>\n",
              "      <td>18</td>\n",
              "      <td>12.6347</td>\n",
              "      <td>101.463</td>\n",
              "    </tr>\n",
              "    <tr>\n",
              "      <th>1</th>\n",
              "      <td>1</td>\n",
              "      <td>4a811230-ffa4-4631-a4c8-5d0394137d02</td>\n",
              "      <td>2018-06-14 17:11:19.469</td>\n",
              "      <td>Mozilla/5.0 (iPhone; CPU iPhone OS 11_4 like M...</td>\n",
              "      <td>NaN</td>\n",
              "      <td>NaN</td>\n",
              "      <td>1r3iotmp0o9slom91stdt9vivc</td>\n",
              "      <td>10</td>\n",
              "      <td>14.8009</td>\n",
              "      <td>102.534</td>\n",
              "    </tr>\n",
              "    <tr>\n",
              "      <th>2</th>\n",
              "      <td>2</td>\n",
              "      <td>7ad6ee8e-438e-4bea-9183-74dcef9e358e</td>\n",
              "      <td>2018-06-14 13:22:31.736</td>\n",
              "      <td>Mozilla/5.0 (Linux; Android 7.0; SAMSUNG SM-J7...</td>\n",
              "      <td>NaN</td>\n",
              "      <td>NaN</td>\n",
              "      <td>5ci1eo4v5u9dha4ppgu94ue7p6</td>\n",
              "      <td>8</td>\n",
              "      <td>13.7383</td>\n",
              "      <td>100.371</td>\n",
              "    </tr>\n",
              "    <tr>\n",
              "      <th>253</th>\n",
              "      <td>253</td>\n",
              "      <td>5e8ef1b0-6df6-4140-a867-91c8aa1d9c7c</td>\n",
              "      <td>2018-06-07 14:44:39.540</td>\n",
              "      <td>Wongnai/8.17.3 rv:8.17.3.3921 (iPhone10,5; iOS...</td>\n",
              "      <td>NaN</td>\n",
              "      <td>NaN</td>\n",
              "      <td>427c2l8oeg8n4buet1ft9cv8s2</td>\n",
              "      <td>16</td>\n",
              "      <td>12.6087</td>\n",
              "      <td>102.118</td>\n",
              "    </tr>\n",
              "    <tr>\n",
              "      <th>254</th>\n",
              "      <td>254</td>\n",
              "      <td>9acce958-a6e5-4ba0-8a2b-92d453abe495</td>\n",
              "      <td>2018-06-07 13:00:09.445</td>\n",
              "      <td>Wongnai/8.17.3 rv:8.17.3.3921 (iPhone10,6; iOS...</td>\n",
              "      <td>ครัวป้าแดง</td>\n",
              "      <td>55426.0</td>\n",
              "      <td>3ulb1j4uqb9ot8vv48p4ii7393</td>\n",
              "      <td>8</td>\n",
              "      <td>13.7594</td>\n",
              "      <td>100.503</td>\n",
              "    </tr>\n",
              "    <tr>\n",
              "      <th>...</th>\n",
              "      <td>...</td>\n",
              "      <td>...</td>\n",
              "      <td>...</td>\n",
              "      <td>...</td>\n",
              "      <td>...</td>\n",
              "      <td>...</td>\n",
              "      <td>...</td>\n",
              "      <td>...</td>\n",
              "      <td>...</td>\n",
              "      <td>...</td>\n",
              "    </tr>\n",
              "    <tr>\n",
              "      <th>10004269</th>\n",
              "      <td>10005142</td>\n",
              "      <td>9b2250fd-a462-4820-b604-b2d585b9a537</td>\n",
              "      <td>2018-06-28 15:08:56.119</td>\n",
              "      <td>okhttp/3.9.0;WongnaiAndroid 8.16.7.1;HUAWEI;FL...</td>\n",
              "      <td>NaN</td>\n",
              "      <td>85448.0</td>\n",
              "      <td>263hboachf90k8eln2pgp3072o</td>\n",
              "      <td>22</td>\n",
              "      <td>NaN</td>\n",
              "      <td>NaN</td>\n",
              "    </tr>\n",
              "    <tr>\n",
              "      <th>10004270</th>\n",
              "      <td>10005143</td>\n",
              "      <td>6fff09ba-f16a-4510-bd26-97183f9f7bde</td>\n",
              "      <td>2018-06-28 18:31:31.485</td>\n",
              "      <td>okhttp/3.9.0;WongnaiAndroid 8.16.7.1;HUAWEI;FL...</td>\n",
              "      <td>NaN</td>\n",
              "      <td>147494.0</td>\n",
              "      <td>3u2rt9lg1l8okrm78hveqfvq5n</td>\n",
              "      <td>22</td>\n",
              "      <td>NaN</td>\n",
              "      <td>NaN</td>\n",
              "    </tr>\n",
              "    <tr>\n",
              "      <th>10004271</th>\n",
              "      <td>10005144</td>\n",
              "      <td>5cb2fbb7-2a48-400e-8324-04cc7c302a30</td>\n",
              "      <td>2018-06-28 13:57:54.451</td>\n",
              "      <td>okhttp/3.9.0;WongnaiAndroid 8.16.7.1;HUAWEI;FL...</td>\n",
              "      <td>NaN</td>\n",
              "      <td>NaN</td>\n",
              "      <td>6t65kapc958idqqfi7h3csikp7</td>\n",
              "      <td>22</td>\n",
              "      <td>NaN</td>\n",
              "      <td>NaN</td>\n",
              "    </tr>\n",
              "    <tr>\n",
              "      <th>10004284</th>\n",
              "      <td>10005157</td>\n",
              "      <td>94c27eb4-6909-4511-a560-cfd1425a6cbb</td>\n",
              "      <td>2018-06-21 13:18:45.515</td>\n",
              "      <td>okhttp/3.9.0;WongnaiAndroid 8.16.6;HUAWEI;BLL-L22</td>\n",
              "      <td>NaN</td>\n",
              "      <td>126976.0</td>\n",
              "      <td>52c74tssq8u693i4lsq03djno</td>\n",
              "      <td>22</td>\n",
              "      <td>NaN</td>\n",
              "      <td>NaN</td>\n",
              "    </tr>\n",
              "    <tr>\n",
              "      <th>10004285</th>\n",
              "      <td>10005158</td>\n",
              "      <td>26130c30-c529-48bf-8430-a26e28afbcfd</td>\n",
              "      <td>2018-06-21 13:18:14.611</td>\n",
              "      <td>okhttp/3.9.0;WongnaiAndroid 8.16.6;HUAWEI;BLL-L22</td>\n",
              "      <td>NaN</td>\n",
              "      <td>126976.0</td>\n",
              "      <td>52c74tssq8u693i4lsq03djno</td>\n",
              "      <td>22</td>\n",
              "      <td>NaN</td>\n",
              "      <td>NaN</td>\n",
              "    </tr>\n",
              "  </tbody>\n",
              "</table>\n",
              "<p>1087060 rows × 10 columns</p>\n",
              "</div>"
            ],
            "text/plain": [
              "          Unnamed: 0                             search_id  ...      lat     long\n",
              "0                  0  683de889-f923-494e-9d46-44a3d67b7259  ...  12.6347  101.463\n",
              "1                  1  4a811230-ffa4-4631-a4c8-5d0394137d02  ...  14.8009  102.534\n",
              "2                  2  7ad6ee8e-438e-4bea-9183-74dcef9e358e  ...  13.7383  100.371\n",
              "253              253  5e8ef1b0-6df6-4140-a867-91c8aa1d9c7c  ...  12.6087  102.118\n",
              "254              254  9acce958-a6e5-4ba0-8a2b-92d453abe495  ...  13.7594  100.503\n",
              "...              ...                                   ...  ...      ...      ...\n",
              "10004269    10005142  9b2250fd-a462-4820-b604-b2d585b9a537  ...      NaN      NaN\n",
              "10004270    10005143  6fff09ba-f16a-4510-bd26-97183f9f7bde  ...      NaN      NaN\n",
              "10004271    10005144  5cb2fbb7-2a48-400e-8324-04cc7c302a30  ...      NaN      NaN\n",
              "10004284    10005157  94c27eb4-6909-4511-a560-cfd1425a6cbb  ...      NaN      NaN\n",
              "10004285    10005158  26130c30-c529-48bf-8430-a26e28afbcfd  ...      NaN      NaN\n",
              "\n",
              "[1087060 rows x 10 columns]"
            ]
          },
          "metadata": {
            "tags": []
          },
          "execution_count": 22
        }
      ]
    },
    {
      "cell_type": "code",
      "metadata": {
        "id": "tDiS1vbTtne-"
      },
      "source": [
        ""
      ],
      "execution_count": null,
      "outputs": []
    },
    {
      "cell_type": "markdown",
      "metadata": {
        "id": "kApEnk_xtswo"
      },
      "source": [
        "### เปรียบเทียบจำนวน requests ของช่วงเวลา 11.00-11.59 กับ 23.00-23.59"
      ]
    },
    {
      "cell_type": "code",
      "metadata": {
        "colab": {
          "base_uri": "https://localhost:8080/"
        },
        "id": "pXBJjfF8ttVh",
        "outputId": "38d762d5-6988-41df-dd5a-7f5dd9eee742"
      },
      "source": [
        "day = data[data['search_timestamp'].dt.time < time(hour=12)]\n",
        "day = day[day['search_timestamp'].dt.time >= time(hour=11)]\n",
        "day = day.iloc[:,2].count()\n",
        "day"
      ],
      "execution_count": 23,
      "outputs": [
        {
          "output_type": "execute_result",
          "data": {
            "text/plain": [
              "738397"
            ]
          },
          "metadata": {
            "tags": []
          },
          "execution_count": 23
        }
      ]
    },
    {
      "cell_type": "code",
      "metadata": {
        "colab": {
          "base_uri": "https://localhost:8080/"
        },
        "id": "T0bT-beMtvlz",
        "outputId": "52b5aa2b-5d65-43cd-ce8a-ae4ed503d03a"
      },
      "source": [
        "night = data[data['search_timestamp'].dt.time >= time(hour=23)]\n",
        "night = night.iloc[:,2].count()\n",
        "night"
      ],
      "execution_count": 24,
      "outputs": [
        {
          "output_type": "execute_result",
          "data": {
            "text/plain": [
              "278510"
            ]
          },
          "metadata": {
            "tags": []
          },
          "execution_count": 24
        }
      ]
    },
    {
      "cell_type": "code",
      "metadata": {
        "colab": {
          "base_uri": "https://localhost:8080/"
        },
        "id": "uuvDZLdlt0t-",
        "outputId": "1943d133-58b1-4a68-bdeb-0b2df318cc48"
      },
      "source": [
        "print(f'ช่วงเวลา 11.00-12.00 มีจำนวนการค้นหาร้านอาหารเท่ากับ {day} ครั้ง มากกว่าช่วงเวลา 23.00-0.00 ที่มีจำนวนการค้นหาร้านอาหารเท่ากับ {night} ครั้ง ซึ่งมากกว่าอยู่ {day-night} ครั้ง')"
      ],
      "execution_count": 25,
      "outputs": [
        {
          "output_type": "stream",
          "text": [
            "ช่วงเวลา 11.00-12.00 มีจำนวนการค้นหาร้านอาหารเท่ากับ 738397 ครั้ง มากกว่าช่วงเวลา 23.00-0.00 ที่มีจำนวนการค้นหาร้านอาหารเท่ากับ 278510 ครั้ง ซึ่งมากกว่าอยู่ 459887 ครั้ง\n"
          ],
          "name": "stdout"
        }
      ]
    },
    {
      "cell_type": "code",
      "metadata": {
        "id": "gVolUl-Mt7Tj"
      },
      "source": [
        ""
      ],
      "execution_count": null,
      "outputs": []
    },
    {
      "cell_type": "markdown",
      "metadata": {
        "id": "aV54PE1kt-ep"
      },
      "source": [
        "### เปรียบเทียบจำนวน requests ของวันจันทร์-พฤหัส กับ ศุกร์-อาทิตย์"
      ]
    },
    {
      "cell_type": "code",
      "metadata": {
        "colab": {
          "base_uri": "https://localhost:8080/"
        },
        "id": "qT3oroRbt_Bj",
        "outputId": "d4e9d38f-b83b-4811-de1a-c8e3f18b6343"
      },
      "source": [
        "M_T = data[data['search_timestamp'].dt.dayofweek <= 3] \n",
        "M_T = M_T.iloc[:,2].count()\n",
        "M_T"
      ],
      "execution_count": 26,
      "outputs": [
        {
          "output_type": "execute_result",
          "data": {
            "text/plain": [
              "4220697"
            ]
          },
          "metadata": {
            "tags": []
          },
          "execution_count": 26
        }
      ]
    },
    {
      "cell_type": "code",
      "metadata": {
        "colab": {
          "base_uri": "https://localhost:8080/"
        },
        "id": "V6UV-TlfuCAu",
        "outputId": "b78c00c6-c75e-43da-818a-f52dc98251d6"
      },
      "source": [
        "F_S = data[data['search_timestamp'].dt.dayofweek >= 4] \n",
        "F_S = F_S.iloc[:,2].count()\n",
        "F_S"
      ],
      "execution_count": 27,
      "outputs": [
        {
          "output_type": "execute_result",
          "data": {
            "text/plain": [
              "5783659"
            ]
          },
          "metadata": {
            "tags": []
          },
          "execution_count": 27
        }
      ]
    },
    {
      "cell_type": "code",
      "metadata": {
        "colab": {
          "base_uri": "https://localhost:8080/"
        },
        "id": "rT83gFiYuFV3",
        "outputId": "b23c6f96-3f2c-4ee2-ef83-b88c90715254"
      },
      "source": [
        "print(f'วันจันทร์-พฤหัสบดี มีจำนวนการค้นหาร้านอาหารเท่ากับ {M_T} ครั้ง น้อยกว่าวันศุกร์-อาทิตย์ที่มีจำนวนการค้นหาร้านอาหารเท่ากับ {F_S} ครั้ง ซึ่งน้อยกว่าอยู่ {F_S-M_T} ครั้ง')"
      ],
      "execution_count": 28,
      "outputs": [
        {
          "output_type": "stream",
          "text": [
            "วันจันทร์-พฤหัสบดี มีจำนวนการค้นหาร้านอาหารเท่ากับ 4220697 ครั้ง น้อยกว่าวันศุกร์-อาทิตย์ที่มีจำนวนการค้นหาร้านอาหารเท่ากับ 5783659 ครั้ง ซึ่งน้อยกว่าอยู่ 1562962 ครั้ง\n"
          ],
          "name": "stdout"
        }
      ]
    },
    {
      "cell_type": "code",
      "metadata": {
        "id": "DEW7tfAkuJ4a"
      },
      "source": [
        ""
      ],
      "execution_count": null,
      "outputs": []
    }
  ]
}