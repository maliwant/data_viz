{
  "nbformat": 4,
  "nbformat_minor": 0,
  "metadata": {
    "colab": {
      "name": "Python101.ipynb",
      "provenance": [],
      "authorship_tag": "ABX9TyPSYVjADg4tyMaIjOAMjOBM",
      "include_colab_link": true
    },
    "kernelspec": {
      "name": "python3",
      "display_name": "Python 3"
    }
  },
  "cells": [
    {
      "cell_type": "markdown",
      "metadata": {
        "id": "view-in-github",
        "colab_type": "text"
      },
      "source": [
        "<a href=\"https://colab.research.google.com/github/maliwant/data_viz/blob/main/Python101.ipynb\" target=\"_parent\"><img src=\"https://colab.research.google.com/assets/colab-badge.svg\" alt=\"Open In Colab\"/></a>"
      ]
    },
    {
      "cell_type": "code",
      "metadata": {
        "id": "88ghJMWlNIWl"
      },
      "source": [
        ""
      ],
      "execution_count": null,
      "outputs": []
    },
    {
      "cell_type": "markdown",
      "metadata": {
        "id": "r-_ED-MqNReH"
      },
      "source": [
        ""
      ]
    },
    {
      "cell_type": "code",
      "metadata": {
        "colab": {
          "base_uri": "https://localhost:8080/"
        },
        "id": "FsBRL1A9NZUg",
        "outputId": "4f5adca4-87b2-4fb1-bedb-bebb712eb3a0"
      },
      "source": [
        "3.14159"
      ],
      "execution_count": 1,
      "outputs": [
        {
          "output_type": "execute_result",
          "data": {
            "text/plain": [
              "3.14159"
            ]
          },
          "metadata": {
            "tags": []
          },
          "execution_count": 1
        }
      ]
    },
    {
      "cell_type": "markdown",
      "metadata": {
        "id": "VUpjwPl5OAeb"
      },
      "source": [
        "หลักการตั้งชื่อตัวแปรเบื้องต้น\n",
        "1. ตั้งให้สื่อ\n",
        "2. เป็นภาษาอังกฤษ\n",
        "3. ใช้ตัวเลขได้แต่ห้ามขึ้นต้นด้วยตัวเลข\n",
        "4. ห้ามเว้นวรรค"
      ]
    },
    {
      "cell_type": "code",
      "metadata": {
        "id": "gYbKxIM1SMNb"
      },
      "source": [
        ""
      ],
      "execution_count": null,
      "outputs": []
    },
    {
      "cell_type": "markdown",
      "metadata": {
        "id": "mzws0J_xOg7a"
      },
      "source": [
        "pi = 3.14"
      ]
    },
    {
      "cell_type": "code",
      "metadata": {
        "id": "WcQc9mQ5Oqx2"
      },
      "source": [
        "pi = 3.14"
      ],
      "execution_count": 2,
      "outputs": []
    },
    {
      "cell_type": "code",
      "metadata": {
        "id": "m_Vd27amOwrW"
      },
      "source": [
        "#int : จำนาวจริง(ทศนิยม)"
      ],
      "execution_count": 4,
      "outputs": []
    },
    {
      "cell_type": "markdown",
      "metadata": {
        "id": "hlHpnai0PjR8"
      },
      "source": [
        "char : ข้อความหนือตัวอักษร\n",
        "-> "
      ]
    },
    {
      "cell_type": "markdown",
      "metadata": {
        "id": "INwR1vN8QiV_"
      },
      "source": [
        "c = 'มะลิวรรณ'\n",
        "print(c)\n"
      ]
    },
    {
      "cell_type": "code",
      "metadata": {
        "colab": {
          "base_uri": "https://localhost:8080/"
        },
        "id": "ZcjCKulNRCsm",
        "outputId": "856f8ac0-7ccc-4ae5-a82f-3df45a89bfdd"
      },
      "source": [
        "c = 'มะลิวรรณ'\n",
        "print(c)"
      ],
      "execution_count": 6,
      "outputs": [
        {
          "output_type": "stream",
          "text": [
            "มะลิวรรณ\n"
          ],
          "name": "stdout"
        }
      ]
    },
    {
      "cell_type": "code",
      "metadata": {
        "colab": {
          "base_uri": "https://localhost:8080/"
        },
        "id": "DH2GkqoIRatz",
        "outputId": "fc718f26-c940-47d1-d624-f3b2eb3f30b2"
      },
      "source": [
        "d = '10'\n",
        "print(d)"
      ],
      "execution_count": 7,
      "outputs": [
        {
          "output_type": "stream",
          "text": [
            "10\n"
          ],
          "name": "stdout"
        }
      ]
    },
    {
      "cell_type": "code",
      "metadata": {
        "id": "4ha32H8KRsNu"
      },
      "source": [
        "int(d)+1"
      ],
      "execution_count": null,
      "outputs": []
    },
    {
      "cell_type": "markdown",
      "metadata": {
        "id": "PpDSGJmWRwND"
      },
      "source": [
        "variable casthing (การเปลี่ยนชนิดของข้อมูล)\n"
      ]
    },
    {
      "cell_type": "markdown",
      "metadata": {
        "id": "CMFjiW2hTJNG"
      },
      "source": [
        "### %  คือเครื่องหมาย modulo หรือ หารเอาส่วน"
      ]
    },
    {
      "cell_type": "code",
      "metadata": {
        "id": "XxX8aPp1TXoj"
      },
      "source": [
        "5%3"
      ],
      "execution_count": null,
      "outputs": []
    },
    {
      "cell_type": "code",
      "metadata": {
        "id": "SRdA7798SJD4"
      },
      "source": [
        "7%3"
      ],
      "execution_count": null,
      "outputs": []
    },
    {
      "cell_type": "code",
      "metadata": {
        "colab": {
          "base_uri": "https://localhost:8080/"
        },
        "id": "J5Yp6P5_TgKO",
        "outputId": "755f9134-70e1-4500-8094-32246dc1ce7c"
      },
      "source": [
        "print(f'% คือการหารเอาเศษ เช่น 7%3 = {7%3}') "
      ],
      "execution_count": 8,
      "outputs": [
        {
          "output_type": "stream",
          "text": [
            "% คือการหารเอาเศษ เช่น 7%3 = 1\n"
          ],
          "name": "stdout"
        }
      ]
    },
    {
      "cell_type": "code",
      "metadata": {
        "colab": {
          "base_uri": "https://localhost:8080/"
        },
        "id": "HJwlBd06VHxI",
        "outputId": "e56fef2c-3e76-43a2-9644-ac37a25e9208"
      },
      "source": [
        "print(f'% คือการหารเอาเศษ เช่น 7%3 = {7%3} \\\\\n",
        "      แต่ \\n/ คือการหารปกติ เช่น 7/3 = {7/3} \\\\\n",
        "      และ \\n// คือการหารเอาส่วน เช่น 7//3 = {7/3} \\\\\n",
        "      หรือ ใช้ int() เพื่อหารเอาส่วน เช่น int(7/3) ={int(7/3)} ')  #\\n คือการขึ้นบรรทัดใหม่ \\\\ ใช่ในการตัด code แต่ com จะไม่เห็น"
      ],
      "execution_count": 14,
      "outputs": [
        {
          "output_type": "stream",
          "text": [
            "% คือการหารเอาเศษ เช่น 7%3 = 1 \\      แต่ \n",
            "/ คือการหารปกติ เช่น 7/3 = 2.3333333333333335 \\      และ \n",
            "// คือการหารเอาส่วน เช่น 7//3 = 2.3333333333333335 \\      หรือ ใช้ int() เพื่อหารเอาส่วน เช่น int(7/3) =2 \n"
          ],
          "name": "stdout"
        }
      ]
    },
    {
      "cell_type": "code",
      "metadata": {
        "colab": {
          "base_uri": "https://localhost:8080/"
        },
        "id": "9lGkop4MWj-T",
        "outputId": "1c1dcddb-fbda-4d77-e613-a6d2b284f383"
      },
      "source": [
        "print('ตัวแปร') #สิ่งที่อยู่ข้างในวงเล็บคือ ตัวแปร และ string"
      ],
      "execution_count": 10,
      "outputs": [
        {
          "output_type": "stream",
          "text": [
            "ตัวแปร\n"
          ],
          "name": "stdout"
        }
      ]
    },
    {
      "cell_type": "code",
      "metadata": {
        "id": "OQSEbZamXGmD"
      },
      "source": [
        "list_a = []"
      ],
      "execution_count": 15,
      "outputs": []
    },
    {
      "cell_type": "markdown",
      "metadata": {
        "id": "PISgbDOYbjlo"
      },
      "source": [
        "### แบบที่ 1"
      ]
    },
    {
      "cell_type": "code",
      "metadata": {
        "id": "EypdTutVb5-W"
      },
      "source": [
        "list_a = []"
      ],
      "execution_count": 17,
      "outputs": []
    },
    {
      "cell_type": "code",
      "metadata": {
        "id": "ur-gSLG3cCuP"
      },
      "source": [
        ""
      ],
      "execution_count": null,
      "outputs": []
    }
  ]
}