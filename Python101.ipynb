{
  "nbformat": 4,
  "nbformat_minor": 0,
  "metadata": {
    "colab": {
      "name": "Python101.ipynb",
      "provenance": [],
      "include_colab_link": true
    },
    "kernelspec": {
      "name": "python3",
      "display_name": "Python 3"
    }
  },
  "cells": [
    {
      "cell_type": "markdown",
      "metadata": {
        "id": "view-in-github",
        "colab_type": "text"
      },
      "source": [
        "<a href=\"https://colab.research.google.com/github/maliwant/data_viz/blob/main/Python101.ipynb\" target=\"_parent\"><img src=\"https://colab.research.google.com/assets/colab-badge.svg\" alt=\"Open In Colab\"/></a>"
      ]
    },
    {
      "cell_type": "markdown",
      "metadata": {
        "id": "fTeDhWrV8pFD"
      },
      "source": [
        "# Variables\r\n"
      ]
    },
    {
      "cell_type": "code",
      "metadata": {
        "colab": {
          "base_uri": "https://localhost:8080/"
        },
        "id": "FsBRL1A9NZUg",
        "outputId": "1e315c8f-62b7-418e-c7aa-dddc8a9d716b"
      },
      "source": [
        "3.14159265359"
      ],
      "execution_count": 10,
      "outputs": [
        {
          "output_type": "execute_result",
          "data": {
            "text/plain": [
              "3.14159265359"
            ]
          },
          "metadata": {
            "tags": []
          },
          "execution_count": 10
        }
      ]
    },
    {
      "cell_type": "markdown",
      "metadata": {
        "id": "4fNig8Mi9Egx"
      },
      "source": [
        "หลักการตั้งชื่อตัวแปรเบื้องต้น\r\n",
        "\r\n",
        "1.   ตั้งให้สื่อ\r\n",
        "2.   ภาษาอังกฤษ\r\n",
        "3.   ใช้ตัวเลขได้แต่ห้ามขึ้นต้นด้วยตัวเลข\r\n",
        "4.   ห้ามเว้นวรรค\r\n",
        "\r\n"
      ]
    },
    {
      "cell_type": "code",
      "metadata": {
        "id": "xjF3p3iNhDPM"
      },
      "source": [
        "pi = 3.14159265359"
      ],
      "execution_count": 2,
      "outputs": []
    },
    {
      "cell_type": "code",
      "metadata": {
        "id": "fiRI-bo8hR-6",
        "colab": {
          "base_uri": "https://localhost:8080/"
        },
        "outputId": "ed037aed-5a22-4bc3-f6e3-d51dfb8ff1aa"
      },
      "source": [
        "pi"
      ],
      "execution_count": 3,
      "outputs": [
        {
          "output_type": "execute_result",
          "data": {
            "text/plain": [
              "3.14159265359"
            ]
          },
          "metadata": {
            "tags": []
          },
          "execution_count": 3
        }
      ]
    },
    {
      "cell_type": "markdown",
      "metadata": {
        "id": "CW__q611hZWw"
      },
      "source": [
        "## int : จำนวนเต็ม"
      ]
    },
    {
      "cell_type": "code",
      "metadata": {
        "id": "tZi_rIvchdX0"
      },
      "source": [
        "a = 10"
      ],
      "execution_count": 5,
      "outputs": []
    },
    {
      "cell_type": "code",
      "metadata": {
        "id": "lmOvF14ghi_N",
        "colab": {
          "base_uri": "https://localhost:8080/"
        },
        "outputId": "e48035d5-4104-4020-89dd-3da4a833ec48"
      },
      "source": [
        "print(a)"
      ],
      "execution_count": 6,
      "outputs": [
        {
          "output_type": "stream",
          "text": [
            "10\n"
          ],
          "name": "stdout"
        }
      ]
    },
    {
      "cell_type": "markdown",
      "metadata": {
        "id": "39VSYpVs90vV"
      },
      "source": [
        "### float : จำนวนจริง (ทศนิยม)"
      ]
    },
    {
      "cell_type": "code",
      "metadata": {
        "id": "PCWYImZGiQ6C",
        "colab": {
          "base_uri": "https://localhost:8080/"
        },
        "outputId": "34cb6633-fdac-4527-e332-cab2449540bf"
      },
      "source": [
        "b = 10.\r\n",
        "print(b)"
      ],
      "execution_count": 7,
      "outputs": [
        {
          "output_type": "stream",
          "text": [
            "10.0\n"
          ],
          "name": "stdout"
        }
      ]
    },
    {
      "cell_type": "markdown",
      "metadata": {
        "id": "ibUwtTpghxza"
      },
      "source": [
        "###ตัวอักษร (char ย่อมาจาก character) ข้อความ (text หรือ string)\r\n",
        ".. # hastag, sharp ใช้สำหรับ comment"
      ]
    },
    {
      "cell_type": "code",
      "metadata": {
        "id": "qhYoeWNMh7Il",
        "colab": {
          "base_uri": "https://localhost:8080/"
        },
        "outputId": "17f57b58-884a-4a5a-bd50-6203b30d86dc"
      },
      "source": [
        " c = 'มะลิวรรณ' # เราจะบอกว่าตัวแปรเป็นตัวอักษรหรือข้อความโดยการใช้ single quote ' หรือ double quote \" ล้อมรอบ\r\n",
        "print(c)"
      ],
      "execution_count": 4,
      "outputs": [
        {
          "output_type": "stream",
          "text": [
            "มะลิวรรณ\n"
          ],
          "name": "stdout"
        }
      ]
    },
    {
      "cell_type": "markdown",
      "metadata": {
        "id": "N_I7Y00BiXJ2"
      },
      "source": [
        "### ตัวเลขที่เป็น string ไม่สามารถเอามาบวก ลบ คูณ หารกับตัวเลขได้"
      ]
    },
    {
      "cell_type": "code",
      "metadata": {
        "id": "O1Cvaq_UiepN",
        "colab": {
          "base_uri": "https://localhost:8080/"
        },
        "outputId": "86913aa1-17b2-459e-c844-543b6810ed2f"
      },
      "source": [
        "d = '10'\r\n",
        "print(d)"
      ],
      "execution_count": 8,
      "outputs": [
        {
          "output_type": "stream",
          "text": [
            "10\n"
          ],
          "name": "stdout"
        }
      ]
    },
    {
      "cell_type": "code",
      "metadata": {
        "id": "TD4JEFD5-RgW",
        "outputId": "da0ff0dc-62d5-4ce8-de82-9cde0b3c0084",
        "colab": {
          "base_uri": "https://localhost:8080/",
          "height": 163
        }
      },
      "source": [
        "d + 1"
      ],
      "execution_count": 12,
      "outputs": [
        {
          "output_type": "error",
          "ename": "TypeError",
          "evalue": "ignored",
          "traceback": [
            "\u001b[0;31m---------------------------------------------------------------------------\u001b[0m",
            "\u001b[0;31mTypeError\u001b[0m                                 Traceback (most recent call last)",
            "\u001b[0;32m<ipython-input-12-2d39be9af043>\u001b[0m in \u001b[0;36m<module>\u001b[0;34m()\u001b[0m\n\u001b[0;32m----> 1\u001b[0;31m \u001b[0md\u001b[0m \u001b[0;34m+\u001b[0m \u001b[0;36m1\u001b[0m\u001b[0;34m\u001b[0m\u001b[0;34m\u001b[0m\u001b[0m\n\u001b[0m",
            "\u001b[0;31mTypeError\u001b[0m: must be str, not int"
          ]
        }
      ]
    },
    {
      "cell_type": "markdown",
      "metadata": {
        "id": "vXqVnIeS-Yqb"
      },
      "source": [
        "### variable casting (การเปลี่ยนชนิดของข้อมูล)"
      ]
    },
    {
      "cell_type": "code",
      "metadata": {
        "id": "FZvt_O4H-lnv",
        "outputId": "6e61aa8d-7fe5-4b37-ddfb-35bb58b99b99",
        "colab": {
          "base_uri": "https://localhost:8080/"
        }
      },
      "source": [
        "int(d) + 1"
      ],
      "execution_count": 13,
      "outputs": [
        {
          "output_type": "execute_result",
          "data": {
            "text/plain": [
              "11"
            ]
          },
          "metadata": {
            "tags": []
          },
          "execution_count": 13
        }
      ]
    },
    {
      "cell_type": "code",
      "metadata": {
        "id": "uKk7ej2h-4to",
        "outputId": "80f723db-7148-4196-a0f5-c60753db9952",
        "colab": {
          "base_uri": "https://localhost:8080/"
        }
      },
      "source": [
        "print(a)\r\n",
        "print(float(a))\r\n",
        "print(str(a))"
      ],
      "execution_count": 14,
      "outputs": [
        {
          "output_type": "stream",
          "text": [
            "10\n",
            "10.0\n",
            "10\n"
          ],
          "name": "stdout"
        }
      ]
    },
    {
      "cell_type": "markdown",
      "metadata": {
        "id": "qe85v4LD_FOv"
      },
      "source": [
        "# Operation (Operators +,-,*,/,%)"
      ]
    },
    {
      "cell_type": "markdown",
      "metadata": {
        "id": "I7OCRLq7jMjY"
      },
      "source": [
        "###Operation การบวก ลบ คูณหาร คือการ Operators (การดำเนินการ)"
      ]
    },
    {
      "cell_type": "code",
      "metadata": {
        "id": "tQJC8HSBjUpm",
        "colab": {
          "base_uri": "https://localhost:8080/"
        },
        "outputId": "467a5166-b920-4a97-ae68-b0873adbfdea"
      },
      "source": [
        "a+b"
      ],
      "execution_count": 15,
      "outputs": [
        {
          "output_type": "execute_result",
          "data": {
            "text/plain": [
              "20.0"
            ]
          },
          "metadata": {
            "tags": []
          },
          "execution_count": 15
        }
      ]
    },
    {
      "cell_type": "code",
      "metadata": {
        "id": "XoRoUEWYjaY3",
        "colab": {
          "base_uri": "https://localhost:8080/"
        },
        "outputId": "2853be22-27c7-4f9e-be4d-54faf22be1ae"
      },
      "source": [
        "ab = a+b\r\n",
        "print(ab)"
      ],
      "execution_count": 16,
      "outputs": [
        {
          "output_type": "stream",
          "text": [
            "20.0\n"
          ],
          "name": "stdout"
        }
      ]
    },
    {
      "cell_type": "markdown",
      "metadata": {
        "id": "CMFjiW2hTJNG"
      },
      "source": [
        "### %  คือเครื่องหมาย modulo หรือ หารเอาส่วน"
      ]
    },
    {
      "cell_type": "code",
      "metadata": {
        "id": "XxX8aPp1TXoj",
        "outputId": "ad1fffe4-87b2-4ae0-ed4b-a14ea046b737",
        "colab": {
          "base_uri": "https://localhost:8080/"
        }
      },
      "source": [
        "5%3"
      ],
      "execution_count": 17,
      "outputs": [
        {
          "output_type": "execute_result",
          "data": {
            "text/plain": [
              "2"
            ]
          },
          "metadata": {
            "tags": []
          },
          "execution_count": 17
        }
      ]
    },
    {
      "cell_type": "code",
      "metadata": {
        "id": "SRdA7798SJD4",
        "outputId": "15dd8fe8-5ff4-4370-95ba-b687c317da12",
        "colab": {
          "base_uri": "https://localhost:8080/"
        }
      },
      "source": [
        "7%3"
      ],
      "execution_count": 18,
      "outputs": [
        {
          "output_type": "execute_result",
          "data": {
            "text/plain": [
              "1"
            ]
          },
          "metadata": {
            "tags": []
          },
          "execution_count": 18
        }
      ]
    },
    {
      "cell_type": "markdown",
      "metadata": {
        "id": "nUTYv03mjvTg"
      },
      "source": [
        "###คำสั่ง print แบบพิเศษ คือ การ format string"
      ]
    },
    {
      "cell_type": "code",
      "metadata": {
        "colab": {
          "base_uri": "https://localhost:8080/"
        },
        "id": "9lGkop4MWj-T",
        "outputId": "243761ef-450f-4462-c09c-e1e02e4145c8"
      },
      "source": [
        "print('ตัวแปร') #สิ่งที่อยู่ข้างในวงเล็บคือ ตัวแปร และ string"
      ],
      "execution_count": 19,
      "outputs": [
        {
          "output_type": "stream",
          "text": [
            "ตัวแปร\n"
          ],
          "name": "stdout"
        }
      ]
    },
    {
      "cell_type": "code",
      "metadata": {
        "colab": {
          "base_uri": "https://localhost:8080/"
        },
        "id": "J5Yp6P5_TgKO",
        "outputId": "ebd4fedc-114f-46e1-f389-968949e1a70e"
      },
      "source": [
        "print(f'% คือการหารเอาเศษ เช่น 7%3 = {7%3}') #เพิ่ม f ข้างหน้า 'string' และใช้ {} ใส่ code"
      ],
      "execution_count": 20,
      "outputs": [
        {
          "output_type": "stream",
          "text": [
            "% คือการหารเอาเศษ เช่น 7%3 = 1\n"
          ],
          "name": "stdout"
        }
      ]
    },
    {
      "cell_type": "code",
      "metadata": {
        "colab": {
          "base_uri": "https://localhost:8080/"
        },
        "id": "HJwlBd06VHxI",
        "outputId": "e4f78ddd-baf7-4244-8565-caaf9e97526e"
      },
      "source": [
        "print(f'% คือการหารเอาเศษ เช่น 7%3 = {7%3} \\\\\n",
        "      แต่ \\n/ คือการหารปกติ เช่น 7/3 = {7/3} \\\\\n",
        "      และ \\n// คือการหารเอาส่วน เช่น 7//3 = {7/3} \\\\\n",
        "      หรือ ใช้ int() เพื่อหารเอาส่วน เช่น int(7/3) ={int(7/3)} ')  #\\n คือการขึ้นบรรทัดใหม่ \\\\ ใช่ในการตัด code แต่ com จะไม่เห็น"
      ],
      "execution_count": 21,
      "outputs": [
        {
          "output_type": "stream",
          "text": [
            "% คือการหารเอาเศษ เช่น 7%3 = 1 \\      แต่ \n",
            "/ คือการหารปกติ เช่น 7/3 = 2.3333333333333335 \\      และ \n",
            "// คือการหารเอาส่วน เช่น 7//3 = 2.3333333333333335 \\      หรือ ใช้ int() เพื่อหารเอาส่วน เช่น int(7/3) =2 \n"
          ],
          "name": "stdout"
        }
      ]
    },
    {
      "cell_type": "markdown",
      "metadata": {
        "id": "JOH9vBShj8lt"
      },
      "source": [
        "### DATA STRUCTURE (โครงสร้างข้อมูล)\r\n",
        "###list คือ การเอาตัวแปรหลายๆตัวมาเรียงต่อกัน\r\n",
        "###list สามารถสร้างได้ 2 แบบ\r\n"
      ]
    },
    {
      "cell_type": "markdown",
      "metadata": {
        "id": "8mcgo4ErkGNp"
      },
      "source": [
        "###แบบที่ 1 เครื่องหมาย square brackets >> [ ]"
      ]
    },
    {
      "cell_type": "code",
      "metadata": {
        "id": "OQSEbZamXGmD",
        "colab": {
          "base_uri": "https://localhost:8080/"
        },
        "outputId": "ed97c55b-cbb9-4916-8dea-b0d8513307fc"
      },
      "source": [
        "list_a = []\r\n",
        "print(list_a)"
      ],
      "execution_count": 22,
      "outputs": [
        {
          "output_type": "stream",
          "text": [
            "[]\n"
          ],
          "name": "stdout"
        }
      ]
    },
    {
      "cell_type": "code",
      "metadata": {
        "id": "EypdTutVb5-W",
        "colab": {
          "base_uri": "https://localhost:8080/"
        },
        "outputId": "97ed6c3b-6267-4e34-bc21-0923ed4158e7"
      },
      "source": [
        "list_b = [1,5,'v']\r\n",
        "print(list_b)"
      ],
      "execution_count": 23,
      "outputs": [
        {
          "output_type": "stream",
          "text": [
            "[1, 5, 'v']\n"
          ],
          "name": "stdout"
        }
      ]
    },
    {
      "cell_type": "markdown",
      "metadata": {
        "id": "pymF986DkotB"
      },
      "source": [
        "###ลำดับที่อยู่ใน list มีความสำคัญ (ลำดับใน list เริ่มจาก 0,1,2,...)"
      ]
    },
    {
      "cell_type": "code",
      "metadata": {
        "id": "M4A7EcaLkuJm",
        "colab": {
          "base_uri": "https://localhost:8080/"
        },
        "outputId": "cada7f65-59d2-40b1-ceea-13504f0159da"
      },
      "source": [
        "list_b[0]"
      ],
      "execution_count": 24,
      "outputs": [
        {
          "output_type": "execute_result",
          "data": {
            "text/plain": [
              "1"
            ]
          },
          "metadata": {
            "tags": []
          },
          "execution_count": 24
        }
      ]
    },
    {
      "cell_type": "code",
      "metadata": {
        "id": "tCWZE62NkuXv",
        "colab": {
          "base_uri": "https://localhost:8080/"
        },
        "outputId": "6635b951-151a-4ec0-8d80-ce3599804a6f"
      },
      "source": [
        "list_b[1]"
      ],
      "execution_count": 25,
      "outputs": [
        {
          "output_type": "execute_result",
          "data": {
            "text/plain": [
              "5"
            ]
          },
          "metadata": {
            "tags": []
          },
          "execution_count": 25
        }
      ]
    },
    {
      "cell_type": "markdown",
      "metadata": {
        "id": "FbOTYb8ok-7k"
      },
      "source": [
        "###แบบที่2"
      ]
    },
    {
      "cell_type": "code",
      "metadata": {
        "id": "v35XZmTOlEO-",
        "colab": {
          "base_uri": "https://localhost:8080/"
        },
        "outputId": "21aa40c2-7636-4c7f-fba7-df48c564d415"
      },
      "source": [
        "list_c = list()\r\n",
        "print(list_c)"
      ],
      "execution_count": 26,
      "outputs": [
        {
          "output_type": "stream",
          "text": [
            "[]\n"
          ],
          "name": "stdout"
        }
      ]
    },
    {
      "cell_type": "markdown",
      "metadata": {
        "id": "cHD6phQAlJyB"
      },
      "source": [
        "###append() คือ การเพิ่มสมาชิกเข้าไปใน list"
      ]
    },
    {
      "cell_type": "code",
      "metadata": {
        "id": "n8tdyx4OlGou",
        "colab": {
          "base_uri": "https://localhost:8080/"
        },
        "outputId": "e022fbaf-f2d2-47c6-8d66-8dbc5e45a834"
      },
      "source": [
        "list_b.append('u')\r\n",
        "print(list_b)"
      ],
      "execution_count": 35,
      "outputs": [
        {
          "output_type": "stream",
          "text": [
            "[1, 5, 'v', [], [], 'u']\n"
          ],
          "name": "stdout"
        }
      ]
    },
    {
      "cell_type": "code",
      "metadata": {
        "id": "TX4k92QglOlA",
        "colab": {
          "base_uri": "https://localhost:8080/",
          "height": 35
        },
        "outputId": "b198487e-1ffb-4c1d-ec2d-d733e94604a9"
      },
      "source": [
        "list_b.pop() #คือการดึงสมาชิกตัวสุดท้ายออกจาก list"
      ],
      "execution_count": 36,
      "outputs": [
        {
          "output_type": "execute_result",
          "data": {
            "application/vnd.google.colaboratory.intrinsic+json": {
              "type": "string"
            },
            "text/plain": [
              "'u'"
            ]
          },
          "metadata": {
            "tags": []
          },
          "execution_count": 36
        }
      ]
    },
    {
      "cell_type": "code",
      "metadata": {
        "id": "4ZxHkALrlTb9",
        "colab": {
          "base_uri": "https://localhost:8080/"
        },
        "outputId": "d2dae4ff-d1c6-4483-f7cd-c1e93cb518fb"
      },
      "source": [
        "list_b\r\n"
      ],
      "execution_count": 37,
      "outputs": [
        {
          "output_type": "execute_result",
          "data": {
            "text/plain": [
              "[1, 5, 'v', [], []]"
            ]
          },
          "metadata": {
            "tags": []
          },
          "execution_count": 37
        }
      ]
    },
    {
      "cell_type": "code",
      "metadata": {
        "id": "TpYtw_2PlYAQ",
        "colab": {
          "base_uri": "https://localhost:8080/"
        },
        "outputId": "d9e32902-0ee6-458e-a86a-dda689e03225"
      },
      "source": [
        "list_b.append(list_a)\r\n",
        "print(list_b)"
      ],
      "execution_count": 38,
      "outputs": [
        {
          "output_type": "stream",
          "text": [
            "[1, 5, 'v', [], [], []]\n"
          ],
          "name": "stdout"
        }
      ]
    },
    {
      "cell_type": "markdown",
      "metadata": {
        "id": "zEtKsBDMlhhP"
      },
      "source": [
        "###String > list of characters"
      ]
    },
    {
      "cell_type": "code",
      "metadata": {
        "id": "t_ubqjrllbe2",
        "colab": {
          "base_uri": "https://localhost:8080/",
          "height": 35
        },
        "outputId": "5cfe63a6-7191-4b0d-cca5-8493fd092319"
      },
      "source": [
        "t = 'python is easy'\r\n",
        "t"
      ],
      "execution_count": 39,
      "outputs": [
        {
          "output_type": "execute_result",
          "data": {
            "application/vnd.google.colaboratory.intrinsic+json": {
              "type": "string"
            },
            "text/plain": [
              "'python is easy'"
            ]
          },
          "metadata": {
            "tags": []
          },
          "execution_count": 39
        }
      ]
    },
    {
      "cell_type": "code",
      "metadata": {
        "id": "B9psmE0Nllpw",
        "colab": {
          "base_uri": "https://localhost:8080/"
        },
        "outputId": "8f995572-d780-48ba-fa89-f73bac39dc16"
      },
      "source": [
        "len(list_b) # len คือ คำสั่งตรวจสอบความยาวของ list (จำนวนสมาชิก)"
      ],
      "execution_count": 40,
      "outputs": [
        {
          "output_type": "execute_result",
          "data": {
            "text/plain": [
              "6"
            ]
          },
          "metadata": {
            "tags": []
          },
          "execution_count": 40
        }
      ]
    },
    {
      "cell_type": "code",
      "metadata": {
        "id": "ANdq4rgglpaD",
        "colab": {
          "base_uri": "https://localhost:8080/"
        },
        "outputId": "faa26da4-a14d-4cc9-d68c-3d4320ed30d1"
      },
      "source": [
        "len(t)"
      ],
      "execution_count": 41,
      "outputs": [
        {
          "output_type": "execute_result",
          "data": {
            "text/plain": [
              "14"
            ]
          },
          "metadata": {
            "tags": []
          },
          "execution_count": 41
        }
      ]
    },
    {
      "cell_type": "markdown",
      "metadata": {
        "id": "AEiWZlN9lw1H"
      },
      "source": [
        "### access a member of a list (list&string) โดยจะเริ่มนับจากจาก 0\r\n",
        "### 0 คือ สมาชิกตัวแรก , -1 คือ สมาชิกตัวสุดท้าย"
      ]
    },
    {
      "cell_type": "code",
      "metadata": {
        "id": "6oHrAH7XltmX",
        "colab": {
          "base_uri": "https://localhost:8080/",
          "height": 35
        },
        "outputId": "e2ba9c68-c02d-4e40-99f7-36e1e1d4631d"
      },
      "source": [
        "t[1]"
      ],
      "execution_count": 42,
      "outputs": [
        {
          "output_type": "execute_result",
          "data": {
            "application/vnd.google.colaboratory.intrinsic+json": {
              "type": "string"
            },
            "text/plain": [
              "'y'"
            ]
          },
          "metadata": {
            "tags": []
          },
          "execution_count": 42
        }
      ]
    },
    {
      "cell_type": "code",
      "metadata": {
        "id": "l2Lu8qxFl3cr",
        "colab": {
          "base_uri": "https://localhost:8080/",
          "height": 35
        },
        "outputId": "7bcbc92b-4bd8-4fab-e1b3-7a51b6902814"
      },
      "source": [
        "t[-1]"
      ],
      "execution_count": 43,
      "outputs": [
        {
          "output_type": "execute_result",
          "data": {
            "application/vnd.google.colaboratory.intrinsic+json": {
              "type": "string"
            },
            "text/plain": [
              "'y'"
            ]
          },
          "metadata": {
            "tags": []
          },
          "execution_count": 43
        }
      ]
    },
    {
      "cell_type": "code",
      "metadata": {
        "id": "7qTiGWGtC5aI",
        "outputId": "6085f5d9-5eed-4502-9714-d8a92c5e28d0",
        "colab": {
          "base_uri": "https://localhost:8080/",
          "height": 35
        }
      },
      "source": [
        "t[-4]"
      ],
      "execution_count": 45,
      "outputs": [
        {
          "output_type": "execute_result",
          "data": {
            "application/vnd.google.colaboratory.intrinsic+json": {
              "type": "string"
            },
            "text/plain": [
              "'e'"
            ]
          },
          "metadata": {
            "tags": []
          },
          "execution_count": 45
        }
      ]
    },
    {
      "cell_type": "markdown",
      "metadata": {
        "id": "JcC_MTWymAuI"
      },
      "source": [
        "###ตัวที่อยู่ข้างในเครื่องหมาย [ ] เรียกว่า index (ตัวชี้)"
      ]
    },
    {
      "cell_type": "code",
      "metadata": {
        "id": "MZb6k1qcl6ln",
        "colab": {
          "base_uri": "https://localhost:8080/",
          "height": 35
        },
        "outputId": "06656e5d-eb19-4c7e-8c97-1f4956ff0bd3"
      },
      "source": [
        "t[-3]"
      ],
      "execution_count": 44,
      "outputs": [
        {
          "output_type": "execute_result",
          "data": {
            "application/vnd.google.colaboratory.intrinsic+json": {
              "type": "string"
            },
            "text/plain": [
              "'a'"
            ]
          },
          "metadata": {
            "tags": []
          },
          "execution_count": 44
        }
      ]
    },
    {
      "cell_type": "markdown",
      "metadata": {
        "id": "Iktnu7DQmJgC"
      },
      "source": [
        "###list slicing คือ การตัด list (สามารถทำได้โดยใช้ colon) [a:b] >> [a,b)\r\n"
      ]
    },
    {
      "cell_type": "code",
      "metadata": {
        "id": "THuq_DjtD-L1"
      },
      "source": [
        "t = 'python is easy'"
      ],
      "execution_count": 51,
      "outputs": []
    },
    {
      "cell_type": "code",
      "metadata": {
        "id": "Zz26Q-SxmGmw",
        "colab": {
          "base_uri": "https://localhost:8080/"
        },
        "outputId": "4f9bafa8-ca2e-47e7-e938-4d6209f85e39"
      },
      "source": [
        "print(t)\r\n",
        "print(t[7:9])"
      ],
      "execution_count": 46,
      "outputs": [
        {
          "output_type": "stream",
          "text": [
            "python is easy\n",
            "is\n"
          ],
          "name": "stdout"
        }
      ]
    },
    {
      "cell_type": "markdown",
      "metadata": {
        "id": "QUxcwmTxmWio"
      },
      "source": [
        "###ถ้าเว้นว่างหน้าเครื่องหมาย : หมายความว่าหน้าเครื่องหมาย : เอาตั้งแต่ตัวแรก ถ้าเว้นว่างหลังเครื่องหมาย : หมายความว่า ไปจนถึงตัวสุดท้าย"
      ]
    },
    {
      "cell_type": "code",
      "metadata": {
        "id": "vFRBYl4mmSOK",
        "colab": {
          "base_uri": "https://localhost:8080/"
        },
        "outputId": "fabd0031-87a7-42aa-d335-e755e935be65"
      },
      "source": [
        "print(t)\r\n",
        "print(t[:6])\r\n",
        "print(t[10:])\r\n",
        "print(t[-4:])\r\n",
        "print(t[:])"
      ],
      "execution_count": 47,
      "outputs": [
        {
          "output_type": "stream",
          "text": [
            "python is easy\n",
            "python\n",
            "easy\n",
            "easy\n",
            "python is easy\n"
          ],
          "name": "stdout"
        }
      ]
    },
    {
      "cell_type": "code",
      "metadata": {
        "id": "y3ID1Zpvmb2J",
        "colab": {
          "base_uri": "https://localhost:8080/"
        },
        "outputId": "df126e4a-0d0c-44e3-fc8a-f256c52aea6a"
      },
      "source": [
        "print(t[::2]) #แบ่ง colon เป็น2ส่วน colon ส่วนแรกเอาตั้งแต่ตัวแรกถึงตัวสุดท้าย colon ส่วนที่สองกำหนด step เช่น :2 คือ กระโดดไป2 "
      ],
      "execution_count": 48,
      "outputs": [
        {
          "output_type": "stream",
          "text": [
            "pto ses\n"
          ],
          "name": "stdout"
        }
      ]
    },
    {
      "cell_type": "code",
      "metadata": {
        "id": "-btle35lESBH",
        "outputId": "b0cc6630-4b65-4080-ee8a-33bff388a35b",
        "colab": {
          "base_uri": "https://localhost:8080/"
        }
      },
      "source": [
        "print(list(range(10)))\r\n",
        "print(list(range(10))[::2])"
      ],
      "execution_count": 52,
      "outputs": [
        {
          "output_type": "stream",
          "text": [
            "[0, 1, 2, 3, 4, 5, 6, 7, 8, 9]\n",
            "[0, 2, 4, 6, 8]\n"
          ],
          "name": "stdout"
        }
      ]
    },
    {
      "cell_type": "code",
      "metadata": {
        "id": "xPEXyZ69EZBb",
        "outputId": "d57c2575-df16-45de-e689-13aae44c4759",
        "colab": {
          "base_uri": "https://localhost:8080/"
        }
      },
      "source": [
        "print(t[2::2])"
      ],
      "execution_count": 53,
      "outputs": [
        {
          "output_type": "stream",
          "text": [
            "to ses\n"
          ],
          "name": "stdout"
        }
      ]
    },
    {
      "cell_type": "markdown",
      "metadata": {
        "id": "FdG0WdaimqHV"
      },
      "source": [
        "###เราสามารถเอา list มาต่อกันได้ด้วยเครื่องหมาย +"
      ]
    },
    {
      "cell_type": "code",
      "metadata": {
        "id": "ps535Rt2mgly",
        "colab": {
          "base_uri": "https://localhost:8080/",
          "height": 35
        },
        "outputId": "3e53ea49-5535-4213-916d-bc2ae70c23e7"
      },
      "source": [
        "t + '??'"
      ],
      "execution_count": 49,
      "outputs": [
        {
          "output_type": "execute_result",
          "data": {
            "application/vnd.google.colaboratory.intrinsic+json": {
              "type": "string"
            },
            "text/plain": [
              "'python is easy??'"
            ]
          },
          "metadata": {
            "tags": []
          },
          "execution_count": 49
        }
      ]
    },
    {
      "cell_type": "code",
      "metadata": {
        "id": "CWwX4-oFmt9j",
        "colab": {
          "base_uri": "https://localhost:8080/",
          "height": 163
        },
        "outputId": "fef027ba-502e-4b4a-cbcf-491904a1b2cf"
      },
      "source": [
        "t + list_b #ไม่สามารถเอา list มาต่อกับ string ได้"
      ],
      "execution_count": 50,
      "outputs": [
        {
          "output_type": "error",
          "ename": "TypeError",
          "evalue": "ignored",
          "traceback": [
            "\u001b[0;31m---------------------------------------------------------------------------\u001b[0m",
            "\u001b[0;31mTypeError\u001b[0m                                 Traceback (most recent call last)",
            "\u001b[0;32m<ipython-input-50-d8df7d2d2a9f>\u001b[0m in \u001b[0;36m<module>\u001b[0;34m()\u001b[0m\n\u001b[0;32m----> 1\u001b[0;31m \u001b[0mt\u001b[0m \u001b[0;34m+\u001b[0m \u001b[0mlist_b\u001b[0m \u001b[0;31m#ไม่สามารถเอา list มาต่อกับ string ได้\u001b[0m\u001b[0;34m\u001b[0m\u001b[0;34m\u001b[0m\u001b[0m\n\u001b[0m",
            "\u001b[0;31mTypeError\u001b[0m: must be str, not list"
          ]
        }
      ]
    },
    {
      "cell_type": "code",
      "metadata": {
        "id": "izCjopz9m3UT",
        "colab": {
          "base_uri": "https://localhost:8080/"
        },
        "outputId": "caff51df-519b-40a2-fde9-303d78404925"
      },
      "source": [
        "list_b + list_b"
      ],
      "execution_count": 54,
      "outputs": [
        {
          "output_type": "execute_result",
          "data": {
            "text/plain": [
              "[1, 5, 'v', [], [], [], 1, 5, 'v', [], [], []]"
            ]
          },
          "metadata": {
            "tags": []
          },
          "execution_count": 54
        }
      ]
    },
    {
      "cell_type": "markdown",
      "metadata": {
        "id": "bOqbKvc-m9ZL"
      },
      "source": [
        "###การแบ่ง string ตามสัญลักษณ์ที่กำหนด จะใช้คำสั่ง split string"
      ]
    },
    {
      "cell_type": "code",
      "metadata": {
        "id": "qpFRljFGm4WU",
        "colab": {
          "base_uri": "https://localhost:8080/"
        },
        "outputId": "571234a3-ca3f-4826-cb71-a1edadb242f2"
      },
      "source": [
        "t.split(' ')"
      ],
      "execution_count": 55,
      "outputs": [
        {
          "output_type": "execute_result",
          "data": {
            "text/plain": [
              "['python', 'is', 'easy']"
            ]
          },
          "metadata": {
            "tags": []
          },
          "execution_count": 55
        }
      ]
    },
    {
      "cell_type": "code",
      "metadata": {
        "id": "SUgGjB1HnB-n"
      },
      "source": [
        "time = '12:30:15'"
      ],
      "execution_count": 56,
      "outputs": []
    },
    {
      "cell_type": "code",
      "metadata": {
        "id": "aVVlxwJ8nFzz",
        "colab": {
          "base_uri": "https://localhost:8080/"
        },
        "outputId": "25d2ca4e-4f9e-40bf-c9ef-a4485fda6800"
      },
      "source": [
        "time.split(':')"
      ],
      "execution_count": 57,
      "outputs": [
        {
          "output_type": "execute_result",
          "data": {
            "text/plain": [
              "['12', '30', '15']"
            ]
          },
          "metadata": {
            "tags": []
          },
          "execution_count": 57
        }
      ]
    },
    {
      "cell_type": "code",
      "metadata": {
        "id": "DXCnn8fSE7NG",
        "outputId": "01da0640-97a8-4872-95f6-0dad9b834411",
        "colab": {
          "base_uri": "https://localhost:8080/"
        }
      },
      "source": [
        "t_sp = t.split(' ')\r\n",
        "print(t_sp)\r\n",
        "\r\n",
        "## วิธีรวมกลับ\r\n",
        "\r\n",
        "print(':'.join(t_sp))\r\n"
      ],
      "execution_count": 58,
      "outputs": [
        {
          "output_type": "stream",
          "text": [
            "['python', 'is', 'easy']\n",
            "python:is:easy\n"
          ],
          "name": "stdout"
        }
      ]
    },
    {
      "cell_type": "markdown",
      "metadata": {
        "id": "ITmqEncSnNhI"
      },
      "source": [
        "###HW คำนวณเวลาเป็นวินาทีของเวลาต่อไปนี้โดยใช้คำสั่ง sprit() ช่วย (print ออกมาให้สวยงาม)\r\n",
        "### 12:30:15\r\n",
        "### 13:41:07\r\n",
        "### 12:53:15\r\n",
        "### 00:59:25\r\n",
        "### 11:11:11\r\n",
        "### 16:06:09"
      ]
    },
    {
      "cell_type": "code",
      "metadata": {
        "id": "cQZof6XYnI7R"
      },
      "source": [
        "time = '12:30:15'"
      ],
      "execution_count": null,
      "outputs": []
    },
    {
      "cell_type": "code",
      "metadata": {
        "id": "OiCPBQ-nnhIN"
      },
      "source": [
        "time.split(':')"
      ],
      "execution_count": null,
      "outputs": []
    },
    {
      "cell_type": "code",
      "metadata": {
        "id": "3LxTMfWuniKJ"
      },
      "source": [
        "list_a = time.split(':')\r\n",
        "print(list_a)"
      ],
      "execution_count": null,
      "outputs": []
    },
    {
      "cell_type": "code",
      "metadata": {
        "id": "po6s32wtnqMJ"
      },
      "source": [
        "list_a[0]"
      ],
      "execution_count": null,
      "outputs": []
    },
    {
      "cell_type": "code",
      "metadata": {
        "id": "jD3Thyvsnyiz"
      },
      "source": [
        "list_a[1]"
      ],
      "execution_count": null,
      "outputs": []
    },
    {
      "cell_type": "code",
      "metadata": {
        "id": "JT941Gk_n18u"
      },
      "source": [
        "list_a[2]"
      ],
      "execution_count": null,
      "outputs": []
    },
    {
      "cell_type": "code",
      "metadata": {
        "id": "jDpZ6sXQn4oO"
      },
      "source": [
        "x=list_a[0]\r\n",
        "y=list_a[1]\r\n",
        "z=list_a[2]\r\n",
        "print(int(x)*3600+(int(y)*60)+int(z))"
      ],
      "execution_count": null,
      "outputs": []
    },
    {
      "cell_type": "code",
      "metadata": {
        "id": "h9fW1Tlvn8KU"
      },
      "source": [
        "time = '13:41:07'"
      ],
      "execution_count": null,
      "outputs": []
    },
    {
      "cell_type": "code",
      "metadata": {
        "id": "My3OJRZan_rk"
      },
      "source": [
        "time.split(':')"
      ],
      "execution_count": null,
      "outputs": []
    },
    {
      "cell_type": "code",
      "metadata": {
        "id": "wm1H6F2GoDAV"
      },
      "source": [
        "list_b = time.split(':')\r\n",
        "print(list_b)"
      ],
      "execution_count": null,
      "outputs": []
    },
    {
      "cell_type": "code",
      "metadata": {
        "id": "WYJZ-QoFoQKg"
      },
      "source": [
        "list_b[0]"
      ],
      "execution_count": null,
      "outputs": []
    },
    {
      "cell_type": "code",
      "metadata": {
        "id": "xyED6Um2oUcW"
      },
      "source": [
        "x=list_b[0]\r\n",
        "y=list_b[1]\r\n",
        "z=list_b[2]\r\n",
        "print(int(x)*3600+(int(y)*60)+int(z))"
      ],
      "execution_count": null,
      "outputs": []
    },
    {
      "cell_type": "code",
      "metadata": {
        "id": "0k7KF2RmoXeH"
      },
      "source": [
        "time = '12:53:15'"
      ],
      "execution_count": null,
      "outputs": []
    },
    {
      "cell_type": "code",
      "metadata": {
        "id": "EpDUnYV3ofOU"
      },
      "source": [
        "time.split(':')"
      ],
      "execution_count": null,
      "outputs": []
    },
    {
      "cell_type": "code",
      "metadata": {
        "id": "n6ouCJ4Aoi4h"
      },
      "source": [
        "list_c = time.split(':')\r\n",
        "print(list_c)\r\n"
      ],
      "execution_count": null,
      "outputs": []
    },
    {
      "cell_type": "code",
      "metadata": {
        "id": "-k7HfiEComLV"
      },
      "source": [
        "list_c[0]"
      ],
      "execution_count": null,
      "outputs": []
    },
    {
      "cell_type": "code",
      "metadata": {
        "id": "NTLur0-copD-"
      },
      "source": [
        "x=list_c[0]\r\n",
        "y=list_c[1]\r\n",
        "z=list_c[2]\r\n",
        "print(int(x)*3600+(int(y)*60)+int(z))\r\n"
      ],
      "execution_count": null,
      "outputs": []
    },
    {
      "cell_type": "code",
      "metadata": {
        "id": "NQ6XqitOoskX"
      },
      "source": [
        "time = '00:59:25'"
      ],
      "execution_count": null,
      "outputs": []
    },
    {
      "cell_type": "code",
      "metadata": {
        "id": "iZl8a87HozyW"
      },
      "source": [
        "time.split(':')"
      ],
      "execution_count": null,
      "outputs": []
    },
    {
      "cell_type": "code",
      "metadata": {
        "id": "VuqpMc4co3En"
      },
      "source": [
        "list_d = time.split(':')\r\n",
        "print(list_d)"
      ],
      "execution_count": null,
      "outputs": []
    },
    {
      "cell_type": "markdown",
      "metadata": {
        "id": "WSywBFGDpPRr"
      },
      "source": [
        ""
      ]
    },
    {
      "cell_type": "code",
      "metadata": {
        "id": "nbNqchQspQZP"
      },
      "source": [
        ""
      ],
      "execution_count": null,
      "outputs": []
    },
    {
      "cell_type": "code",
      "metadata": {
        "id": "ahysdoUCo5wI"
      },
      "source": [
        "list_d[0]\r\n"
      ],
      "execution_count": null,
      "outputs": []
    },
    {
      "cell_type": "code",
      "metadata": {
        "id": "bvIX_SFeo-4_"
      },
      "source": [
        "x=list_d[0]\r\n",
        "y=list_d[1]\r\n",
        "z=list_d[2]\r\n",
        "print(int(x)*3600+(int(y)*60)+int(z))"
      ],
      "execution_count": null,
      "outputs": []
    },
    {
      "cell_type": "code",
      "metadata": {
        "id": "XO5VS1InpBrW"
      },
      "source": [
        "time = '11:11:11'\r\n"
      ],
      "execution_count": null,
      "outputs": []
    },
    {
      "cell_type": "code",
      "metadata": {
        "id": "3fmIwnFwpRoL"
      },
      "source": [
        "time.split(':')"
      ],
      "execution_count": null,
      "outputs": []
    },
    {
      "cell_type": "code",
      "metadata": {
        "id": "p3J9AqAypkPg"
      },
      "source": [
        "list_e = time.split(':')\r\n",
        "print(list_e)\r\n"
      ],
      "execution_count": null,
      "outputs": []
    },
    {
      "cell_type": "code",
      "metadata": {
        "id": "izfIx8iNpSpo"
      },
      "source": [
        "list_e[0]"
      ],
      "execution_count": null,
      "outputs": []
    },
    {
      "cell_type": "code",
      "metadata": {
        "id": "cHvpYAKIpnNq"
      },
      "source": [
        "x=list_e[0]\r\n",
        "y=list_e[1]\r\n",
        "z=list_e[2]\r\n",
        "print(int(x)*3600+(int(y)*60)+int(z))\r\n"
      ],
      "execution_count": null,
      "outputs": []
    },
    {
      "cell_type": "code",
      "metadata": {
        "id": "l8h2auGJpqIz"
      },
      "source": [
        "time = '16:06:09'"
      ],
      "execution_count": null,
      "outputs": []
    },
    {
      "cell_type": "code",
      "metadata": {
        "id": "WvY1n2SWpvII"
      },
      "source": [
        "time.split(':')"
      ],
      "execution_count": null,
      "outputs": []
    },
    {
      "cell_type": "code",
      "metadata": {
        "id": "dEk_6oCtpy2a"
      },
      "source": [
        "list_f = time.split(':')\r\n",
        "print(list_f)"
      ],
      "execution_count": null,
      "outputs": []
    },
    {
      "cell_type": "code",
      "metadata": {
        "id": "x_LhxIr3p14Q"
      },
      "source": [
        "list_e[0]"
      ],
      "execution_count": null,
      "outputs": []
    },
    {
      "cell_type": "code",
      "metadata": {
        "id": "cQQsK4H6p42c"
      },
      "source": [
        "x=list_f[0]\r\n",
        "y=list_f[1]\r\n",
        "z=list_f[2]\r\n",
        "print(int(x)*3600+(int(y)*60)+int(z))"
      ],
      "execution_count": null,
      "outputs": []
    },
    {
      "cell_type": "markdown",
      "metadata": {
        "id": "J7KxG0G9p--Y"
      },
      "source": [
        "###ให้สร้างฟังก์ชันคำนวณเวลาเป็นวินาทีของเวลาใดๆ และ print ออกมาให้สวยงาม"
      ]
    },
    {
      "cell_type": "code",
      "metadata": {
        "id": "EPxAwv3op7lY"
      },
      "source": [
        "def Time_sec(Time):\r\n",
        "  list_Time = Time.split(':') \r\n",
        "  h = (int(list_Time[0])*3600)\r\n",
        "  Min = (int(list_Time[1])*60)\r\n",
        "  Sec = (int(list_Time[2]))\r\n",
        "  sum = f'เวลา {Time}   = {h+Min+Sec} วินาที'\r\n",
        "  print(sum)"
      ],
      "execution_count": null,
      "outputs": []
    },
    {
      "cell_type": "code",
      "metadata": {
        "id": "bdNOkz8DqFBt"
      },
      "source": [
        "Time_sec('12:30:15')\r\n",
        "Time_sec('13:41:07')\r\n",
        "Time_sec('12:53:15')\r\n",
        "Time_sec('00:59:25')\r\n",
        "Time_sec('11:11:11')\r\n",
        "Time_sec('16:06:09')"
      ],
      "execution_count": null,
      "outputs": []
    },
    {
      "cell_type": "markdown",
      "metadata": {
        "id": "ZFMQ8bW5qcqF"
      },
      "source": [
        "### HW3 ให้สร้าง list ของเวลา\r\n",
        "### 12:30:15\r\n",
        "### 13:41:07\r\n",
        "### 12:53:15\r\n",
        "### 00:59:25\r\n",
        "### 11:11:11\r\n",
        "### 16:06:09\r\n",
        "### แล้ววนลูปเรียกฟังก์ชันคำนวณเวลาเป็นวินาที\r\n"
      ]
    },
    {
      "cell_type": "code",
      "metadata": {
        "id": "Nt6oJDGKqMFe"
      },
      "source": [
        "for all_sec in ['12:30:15','13:41:07','12:53:15','00:59:25','11:11:11','16:06:09'] :\r\n",
        "   Time_sec(all_sec)"
      ],
      "execution_count": null,
      "outputs": []
    },
    {
      "cell_type": "code",
      "metadata": {
        "id": "Njwi_ia2qk1f"
      },
      "source": [
        ""
      ],
      "execution_count": null,
      "outputs": []
    }
  ]
}