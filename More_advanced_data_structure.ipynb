{
  "nbformat": 4,
  "nbformat_minor": 0,
  "metadata": {
    "colab": {
      "name": "More advanced data structure.ipynb",
      "provenance": [],
      "authorship_tag": "ABX9TyNPX7IO4haLcnUDHa0murYv",
      "include_colab_link": true
    },
    "kernelspec": {
      "name": "python3",
      "display_name": "Python 3"
    }
  },
  "cells": [
    {
      "cell_type": "markdown",
      "metadata": {
        "id": "view-in-github",
        "colab_type": "text"
      },
      "source": [
        "<a href=\"https://colab.research.google.com/github/maliwant/data_viz/blob/main/More_advanced_data_structure.ipynb\" target=\"_parent\"><img src=\"https://colab.research.google.com/assets/colab-badge.svg\" alt=\"Open In Colab\"/></a>"
      ]
    },
    {
      "cell_type": "markdown",
      "metadata": {
        "id": "TgIpOLY1npxC"
      },
      "source": [
        "ที่เรียนไปแล้วมี 1ตัว คือ list หน้าตาประมาณนี้"
      ]
    },
    {
      "cell_type": "code",
      "metadata": {
        "id": "epnQ_xpyomKZ"
      },
      "source": [
        ""
      ],
      "execution_count": null,
      "outputs": []
    },
    {
      "cell_type": "markdown",
      "metadata": {
        "id": "nGQbQh-zooMM"
      },
      "source": [
        "##Dictionary"
      ]
    },
    {
      "cell_type": "markdown",
      "metadata": {
        "id": "e4Jh6LydowAu"
      },
      "source": [
        "สามารถ index ด้วยอะไรก็ได้ แต่ว่าลำดับจะหาย\r\n"
      ]
    },
    {
      "cell_type": "code",
      "metadata": {
        "id": "ssrIzVvXouk5"
      },
      "source": [
        "ex_dict = {'a':10,'1':1,'stat':5} #curly brackets ในการบอกว่าเป็น dict"
      ],
      "execution_count": null,
      "outputs": []
    },
    {
      "cell_type": "code",
      "metadata": {
        "colab": {
          "base_uri": "https://localhost:8080/"
        },
        "id": "lE-oeJfQpTyM",
        "outputId": "1039b448-0358-4b11-aa13-4a4d4165b854"
      },
      "source": [
        "ex_dict['stat']"
      ],
      "execution_count": null,
      "outputs": [
        {
          "output_type": "execute_result",
          "data": {
            "text/plain": [
              "5"
            ]
          },
          "metadata": {
            "tags": []
          },
          "execution_count": 2
        }
      ]
    },
    {
      "cell_type": "code",
      "metadata": {
        "id": "RkHjcnn4payU"
      },
      "source": [
        "ex2_dict = {0:'zero',1: 'one',2:'two',3:'three'}"
      ],
      "execution_count": null,
      "outputs": []
    },
    {
      "cell_type": "code",
      "metadata": {
        "colab": {
          "base_uri": "https://localhost:8080/",
          "height": 35
        },
        "id": "6TpQ88r3p5l8",
        "outputId": "ad7707eb-e764-4b5d-bfba-a3aaa7756a5e"
      },
      "source": [
        "ex2_dict[2]"
      ],
      "execution_count": null,
      "outputs": [
        {
          "output_type": "execute_result",
          "data": {
            "application/vnd.google.colaboratory.intrinsic+json": {
              "type": "string"
            },
            "text/plain": [
              "'two'"
            ]
          },
          "metadata": {
            "tags": []
          },
          "execution_count": 5
        }
      ]
    },
    {
      "cell_type": "code",
      "metadata": {
        "id": "M8yO-BFZqK9p"
      },
      "source": [
        ""
      ],
      "execution_count": null,
      "outputs": []
    },
    {
      "cell_type": "markdown",
      "metadata": {
        "id": "uWrX2qWyqVL9"
      },
      "source": [
        "#การเพิ่มสมาชิก"
      ]
    },
    {
      "cell_type": "code",
      "metadata": {
        "id": "P4rYybDOqaPP"
      },
      "source": [
        "ex2_dict[2] = 'zero'"
      ],
      "execution_count": null,
      "outputs": []
    },
    {
      "cell_type": "code",
      "metadata": {
        "colab": {
          "base_uri": "https://localhost:8080/"
        },
        "id": "V2EVRxz9qo2-",
        "outputId": "b10caadc-ec0c-4b4b-e003-23ac69da0cbe"
      },
      "source": [
        "ex2_dict"
      ],
      "execution_count": null,
      "outputs": [
        {
          "output_type": "execute_result",
          "data": {
            "text/plain": [
              "{0: 'zero', 1: 'one', 2: 'zero', 3: 'three'}"
            ]
          },
          "metadata": {
            "tags": []
          },
          "execution_count": 13
        }
      ]
    },
    {
      "cell_type": "code",
      "metadata": {
        "colab": {
          "base_uri": "https://localhost:8080/"
        },
        "id": "NUpfLp89qtwr",
        "outputId": "df4f0af5-357d-4d92-c5a3-e334be06e913"
      },
      "source": [
        "ex2_dict.keys()"
      ],
      "execution_count": null,
      "outputs": [
        {
          "output_type": "execute_result",
          "data": {
            "text/plain": [
              "dict_keys([0, 1, 2, 3])"
            ]
          },
          "metadata": {
            "tags": []
          },
          "execution_count": 14
        }
      ]
    },
    {
      "cell_type": "code",
      "metadata": {
        "colab": {
          "base_uri": "https://localhost:8080/"
        },
        "id": "i-xyBAEarBWH",
        "outputId": "60d5c17c-0134-4f33-c1ee-cfd34e2f37aa"
      },
      "source": [
        "for index in ex2_dict.keys() :\r\n",
        "  print(index)"
      ],
      "execution_count": null,
      "outputs": [
        {
          "output_type": "stream",
          "text": [
            "0\n",
            "1\n",
            "2\n",
            "3\n"
          ],
          "name": "stdout"
        }
      ]
    },
    {
      "cell_type": "code",
      "metadata": {
        "colab": {
          "base_uri": "https://localhost:8080/"
        },
        "id": "dymgFlPYrp1y",
        "outputId": "6e304925-c8b9-4bd3-bce8-e2535b265d10"
      },
      "source": [
        "ex2_dict.values()"
      ],
      "execution_count": null,
      "outputs": [
        {
          "output_type": "execute_result",
          "data": {
            "text/plain": [
              "dict_values(['zero', 'one', 'zero', 'three'])"
            ]
          },
          "metadata": {
            "tags": []
          },
          "execution_count": 16
        }
      ]
    },
    {
      "cell_type": "code",
      "metadata": {
        "colab": {
          "base_uri": "https://localhost:8080/"
        },
        "id": "DrZI0M3Csfe1",
        "outputId": "6afc1004-7e96-4c63-c226-3dff1535a119"
      },
      "source": [
        "index"
      ],
      "execution_count": null,
      "outputs": [
        {
          "output_type": "execute_result",
          "data": {
            "text/plain": [
              "3"
            ]
          },
          "metadata": {
            "tags": []
          },
          "execution_count": 17
        }
      ]
    },
    {
      "cell_type": "code",
      "metadata": {
        "id": "uwOB7Tn1sk2D"
      },
      "source": [
        ""
      ],
      "execution_count": null,
      "outputs": []
    },
    {
      "cell_type": "markdown",
      "metadata": {
        "id": "5IabvEcQt5Ci"
      },
      "source": [
        "#Number array"
      ]
    },
    {
      "cell_type": "markdown",
      "metadata": {
        "id": "L5oPE7cft_2r"
      },
      "source": [
        "numpy คือ package ที่ทำงานเกี่ยวกับ array ของตัวเลข (ที่มีคนเขียนขึ้นมาและนิยมใช้) \r\n",
        "numpy-> number pyton"
      ]
    },
    {
      "cell_type": "code",
      "metadata": {
        "id": "KJDThtyGt9zW"
      },
      "source": [
        "import numpy #วิธีเรียกใช้ package"
      ],
      "execution_count": null,
      "outputs": []
    },
    {
      "cell_type": "code",
      "metadata": {
        "colab": {
          "base_uri": "https://localhost:8080/"
        },
        "id": "1UGrPWRuut-j",
        "outputId": "4bff3811-fec9-4703-87c8-e1b5ef86d45c"
      },
      "source": [
        "ex_2d_array = numpy.array([[5.2,3.0,4.5],[9.1,0.1,0.3]])\r\n",
        "print(ex_2d_array)"
      ],
      "execution_count": null,
      "outputs": [
        {
          "output_type": "stream",
          "text": [
            "[[5.2 3.  4.5]\n",
            " [9.1 0.1 0.3]]\n"
          ],
          "name": "stdout"
        }
      ]
    },
    {
      "cell_type": "markdown",
      "metadata": {
        "id": "0OJjo9eQvWle"
      },
      "source": [
        "#การชี้ค่าใน  numpy array"
      ]
    },
    {
      "cell_type": "code",
      "metadata": {
        "colab": {
          "base_uri": "https://localhost:8080/"
        },
        "id": "pQFZvUfWvRnc",
        "outputId": "557d8423-5c43-4245-a98b-96ccd0ec7d61"
      },
      "source": [
        "ex_2d_array[1,2]"
      ],
      "execution_count": null,
      "outputs": [
        {
          "output_type": "execute_result",
          "data": {
            "text/plain": [
              "0.3"
            ]
          },
          "metadata": {
            "tags": []
          },
          "execution_count": 20
        }
      ]
    },
    {
      "cell_type": "code",
      "metadata": {
        "colab": {
          "base_uri": "https://localhost:8080/"
        },
        "id": "6gimLZ-bv4C2",
        "outputId": "b92b134f-3fa8-4fcc-f230-19efb7cb3d63"
      },
      "source": [
        "list_x = [[5.2,3.0,4.5],[9.1,0.1,0.3],0.7,0.1] #การชี้ list #นับตามสมาชิกในวงเล็บใหญ่\r\n",
        "print(len(list_x))\r\n",
        "\r\n",
        "print(list_x[1])\r\n",
        "\r\n",
        "print(list_x[1][2])"
      ],
      "execution_count": null,
      "outputs": [
        {
          "output_type": "stream",
          "text": [
            "4\n",
            "[9.1, 0.1, 0.3]\n",
            "0.3\n"
          ],
          "name": "stdout"
        }
      ]
    },
    {
      "cell_type": "markdown",
      "metadata": {
        "id": "Ia3VvVzZx4ao"
      },
      "source": [
        "#operations"
      ]
    },
    {
      "cell_type": "code",
      "metadata": {
        "colab": {
          "base_uri": "https://localhost:8080/"
        },
        "id": "ydBTo5o9wKKu",
        "outputId": "1b15f55d-98c9-4173-d336-b669633aff2d"
      },
      "source": [
        "ex2_2d_array = numpy.array([[1,0,0],[0,0,1]])\r\n",
        "print(ex2_2d_array)\r\n",
        "print(ex_2d_array)"
      ],
      "execution_count": null,
      "outputs": [
        {
          "output_type": "stream",
          "text": [
            "[[1 0 0]\n",
            " [0 0 1]]\n",
            "[[5.2 3.  4.5]\n",
            " [9.1 0.1 0.3]]\n"
          ],
          "name": "stdout"
        }
      ]
    },
    {
      "cell_type": "code",
      "metadata": {
        "colab": {
          "base_uri": "https://localhost:8080/"
        },
        "id": "No2gzlJ1y7DB",
        "outputId": "5c693c71-f906-4627-d24f-d1008f77abcc"
      },
      "source": [
        "ex_2d_array.shape #ตรวจสอบขนาดของ matrix"
      ],
      "execution_count": null,
      "outputs": [
        {
          "output_type": "execute_result",
          "data": {
            "text/plain": [
              "(2, 3)"
            ]
          },
          "metadata": {
            "tags": []
          },
          "execution_count": 32
        }
      ]
    },
    {
      "cell_type": "code",
      "metadata": {
        "colab": {
          "base_uri": "https://localhost:8080/"
        },
        "id": "qjDkCxDQyjDx",
        "outputId": "276ea59f-975b-4751-9549-b8a70c961a59"
      },
      "source": [
        "ex_2d_array + ex2_2d_array"
      ],
      "execution_count": null,
      "outputs": [
        {
          "output_type": "execute_result",
          "data": {
            "text/plain": [
              "array([[6.2, 3. , 4.5],\n",
              "       [9.1, 0.1, 1.3]])"
            ]
          },
          "metadata": {
            "tags": []
          },
          "execution_count": 31
        }
      ]
    },
    {
      "cell_type": "code",
      "metadata": {
        "colab": {
          "base_uri": "https://localhost:8080/"
        },
        "id": "Y-HYrKpBy24d",
        "outputId": "044a1b00-095e-4f00-f206-965254a2c564"
      },
      "source": [
        "list_x = [[5.2,3.0,4.5],[9.1,0.1,0.3]]\r\n",
        "list_x2 = [[1,0,0],[0,0,1]]\r\n",
        "\r\n",
        "list_x + list_x2"
      ],
      "execution_count": null,
      "outputs": [
        {
          "output_type": "execute_result",
          "data": {
            "text/plain": [
              "[[5.2, 3.0, 4.5], [9.1, 0.1, 0.3], [1, 0, 0], [0, 0, 1]]"
            ]
          },
          "metadata": {
            "tags": []
          },
          "execution_count": 33
        }
      ]
    },
    {
      "cell_type": "code",
      "metadata": {
        "colab": {
          "base_uri": "https://localhost:8080/"
        },
        "id": "vXB3yZx31Anz",
        "outputId": "55ccfd84-5691-4bd7-c788-780829cc03c5"
      },
      "source": [
        "ex_2d_array - ex2_2d_array"
      ],
      "execution_count": null,
      "outputs": [
        {
          "output_type": "execute_result",
          "data": {
            "text/plain": [
              "array([[ 4.2,  3. ,  4.5],\n",
              "       [ 9.1,  0.1, -0.7]])"
            ]
          },
          "metadata": {
            "tags": []
          },
          "execution_count": 34
        }
      ]
    },
    {
      "cell_type": "code",
      "metadata": {
        "colab": {
          "base_uri": "https://localhost:8080/"
        },
        "id": "-hFOKDyi1I3q",
        "outputId": "c932aa36-1d5f-4b77-822d-7c63f1c19c13"
      },
      "source": [
        "ex_2d_array * ex2_2d_array #การคูณแบบ array เอาตำแหน่งเดียวกันมาคูณกัน"
      ],
      "execution_count": null,
      "outputs": [
        {
          "output_type": "execute_result",
          "data": {
            "text/plain": [
              "array([[5.2, 0. , 0. ],\n",
              "       [0. , 0. , 0.3]])"
            ]
          },
          "metadata": {
            "tags": []
          },
          "execution_count": 35
        }
      ]
    },
    {
      "cell_type": "code",
      "metadata": {
        "id": "9nPwQhrc1ctk"
      },
      "source": [
        "numpy.dot(ex_2d_array,ex_2d_array)"
      ],
      "execution_count": null,
      "outputs": []
    },
    {
      "cell_type": "code",
      "metadata": {
        "colab": {
          "base_uri": "https://localhost:8080/"
        },
        "id": "FRzuyrf_169r",
        "outputId": "d1f40e92-a9c3-43dd-f734-e22dd307df79"
      },
      "source": [
        "print(ex_2d_array)\r\n",
        "print(ex_2d_array.T)"
      ],
      "execution_count": null,
      "outputs": [
        {
          "output_type": "stream",
          "text": [
            "[[5.2 3.  4.5]\n",
            " [9.1 0.1 0.3]]\n",
            "[[5.2 9.1]\n",
            " [3.  0.1]\n",
            " [4.5 0.3]]\n"
          ],
          "name": "stdout"
        }
      ]
    },
    {
      "cell_type": "code",
      "metadata": {
        "colab": {
          "base_uri": "https://localhost:8080/"
        },
        "id": "5PlN0Oz12J_z",
        "outputId": "65fbdfa9-5271-46fb-bd77-748bd41c53ac"
      },
      "source": [
        "dot_mat = numpy.dot(ex_2d_array,ex2_2d_array.T)\r\n",
        "print(dot_mat)"
      ],
      "execution_count": null,
      "outputs": [
        {
          "output_type": "stream",
          "text": [
            "[[5.2 4.5]\n",
            " [9.1 0.3]]\n"
          ],
          "name": "stdout"
        }
      ]
    },
    {
      "cell_type": "code",
      "metadata": {
        "colab": {
          "base_uri": "https://localhost:8080/"
        },
        "id": "0-7zjjOG2Rg2",
        "outputId": "6c15ad23-9c04-4622-be19-d986468f5543"
      },
      "source": [
        "numpy.linalg.det(dot_mat)"
      ],
      "execution_count": null,
      "outputs": [
        {
          "output_type": "execute_result",
          "data": {
            "text/plain": [
              "-39.389999999999986"
            ]
          },
          "metadata": {
            "tags": []
          },
          "execution_count": 42
        }
      ]
    },
    {
      "cell_type": "code",
      "metadata": {
        "id": "CHg4fNNU5Gn7"
      },
      "source": [
        ""
      ],
      "execution_count": null,
      "outputs": []
    },
    {
      "cell_type": "markdown",
      "metadata": {
        "id": "0u_vdToI5Oy9"
      },
      "source": [
        "#matrix slicing"
      ]
    },
    {
      "cell_type": "code",
      "metadata": {
        "colab": {
          "base_uri": "https://localhost:8080/"
        },
        "id": "jlmK172v5jIX",
        "outputId": "abed1d46-da47-4a4d-b967-f95a8f8a65d5"
      },
      "source": [
        "print(ex_2d_array)"
      ],
      "execution_count": null,
      "outputs": [
        {
          "output_type": "stream",
          "text": [
            "[[5.2 3.  4.5]\n",
            " [9.1 0.1 0.3]]\n"
          ],
          "name": "stdout"
        }
      ]
    },
    {
      "cell_type": "code",
      "metadata": {
        "colab": {
          "base_uri": "https://localhost:8080/"
        },
        "id": "j_ysDp1V5qZr",
        "outputId": "7e12ff02-8268-4aca-a1b5-b38bb1df3fe5"
      },
      "source": [
        "ex_2d_array[1,1:]"
      ],
      "execution_count": null,
      "outputs": [
        {
          "output_type": "execute_result",
          "data": {
            "text/plain": [
              "array([0.1, 0.3])"
            ]
          },
          "metadata": {
            "tags": []
          },
          "execution_count": 45
        }
      ]
    },
    {
      "cell_type": "code",
      "metadata": {
        "colab": {
          "base_uri": "https://localhost:8080/"
        },
        "id": "u0Ur55zD6GxS",
        "outputId": "f4ff395b-85ce-4470-f33e-c26780c1fa1a"
      },
      "source": [
        "ex_2d_array[:,:2]"
      ],
      "execution_count": null,
      "outputs": [
        {
          "output_type": "execute_result",
          "data": {
            "text/plain": [
              "array([[5.2, 3. ],\n",
              "       [9.1, 0.1]])"
            ]
          },
          "metadata": {
            "tags": []
          },
          "execution_count": 47
        }
      ]
    },
    {
      "cell_type": "markdown",
      "metadata": {
        "id": "-34AS7wx4LLA"
      },
      "source": [
        "#HW 5 เขียน function คูณ matrix\r\n",
        "\r\n",
        "แล้ว test กับ matrix\r\n",
        "\r\n",
        "- (2'3)*(3'2)\r\n",
        "- (4,4)*(4,1)\r\n",
        "- (2,2)*(2,2)"
      ]
    },
    {
      "cell_type": "code",
      "metadata": {
        "id": "RNoYy7-L5Ebn",
        "colab": {
          "base_uri": "https://localhost:8080/"
        },
        "outputId": "f1bd2e72-dca0-42b2-d54e-0ff80607b46c"
      },
      "source": [
        "import numpy \r\n",
        "a1= numpy.array([[1,0,2],[2,2,3]])  #เมทริกซ์ 2 * 3 \r\n",
        "a2 = numpy.array([[1,2],[3,2],[4,5]])  #เมทริกซ์ 3 * 2\r\n",
        "print(a1)\r\n",
        "print(a2)"
      ],
      "execution_count": null,
      "outputs": [
        {
          "output_type": "stream",
          "text": [
            "[[1 0 2]\n",
            " [2 2 3]]\n",
            "[[1 2]\n",
            " [3 2]\n",
            " [4 5]]\n"
          ],
          "name": "stdout"
        }
      ]
    },
    {
      "cell_type": "code",
      "metadata": {
        "id": "aTXdxhaFsmHZ",
        "colab": {
          "base_uri": "https://localhost:8080/"
        },
        "outputId": "e5d643d8-00ff-42ff-a904-becefa17a665"
      },
      "source": [
        "b1 =  numpy.array([[1,2,3,4],[5,6,7,8],[10,12,14,5],[6,5,8,9]])  #เมทริกซ์ 4 * 4\r\n",
        "b2 =  numpy.array([[2],[3],[4],[7]])    #เมทริกซ์ 4 * 1\r\n",
        "print(b1)\r\n",
        "print(b2)"
      ],
      "execution_count": null,
      "outputs": [
        {
          "output_type": "stream",
          "text": [
            "[[ 1  2  3  4]\n",
            " [ 5  6  7  8]\n",
            " [10 12 14  5]\n",
            " [ 6  5  8  9]]\n",
            "[[2]\n",
            " [3]\n",
            " [4]\n",
            " [7]]\n"
          ],
          "name": "stdout"
        }
      ]
    },
    {
      "cell_type": "code",
      "metadata": {
        "id": "NpdK_mCEspWK",
        "colab": {
          "base_uri": "https://localhost:8080/"
        },
        "outputId": "d02f9fad-403e-4be9-ab52-b4e18721be35"
      },
      "source": [
        "c1 = numpy.array([[9,5],[4,2]])   #เมทริกซ์ 2 * 2\r\n",
        "c2 = numpy.array([[2,2],[4,5]])   #เมทริกซ์ 2 * 2\r\n",
        "print(c1)\r\n",
        "print(c2)"
      ],
      "execution_count": null,
      "outputs": [
        {
          "output_type": "stream",
          "text": [
            "[[9 5]\n",
            " [4 2]]\n",
            "[[2 2]\n",
            " [4 5]]\n"
          ],
          "name": "stdout"
        }
      ]
    },
    {
      "cell_type": "code",
      "metadata": {
        "id": "r2a41RxHsxUU"
      },
      "source": [
        "def matrix(a1, a2) :\r\n",
        "    mt = [[0 for row in range(len(a2[0]))] for col in range(len(a1))]\r\n",
        "    for i in range(len(a1)) :\r\n",
        "        for j in range(len(a2[0])) :\r\n",
        "            for k in range(len(a2)) :\r\n",
        "                mt[i][j] += a1[i][k]*a2[k][j]\r\n",
        "    A = numpy.matrix(mt)\r\n",
        "    return A"
      ],
      "execution_count": null,
      "outputs": []
    },
    {
      "cell_type": "code",
      "metadata": {
        "id": "0cj5HBBzs1k2",
        "colab": {
          "base_uri": "https://localhost:8080/"
        },
        "outputId": "0d4d56c4-19ad-4c5a-e8a5-e1da5518d051"
      },
      "source": [
        "matrix (a1,a2)"
      ],
      "execution_count": null,
      "outputs": [
        {
          "output_type": "execute_result",
          "data": {
            "text/plain": [
              "matrix([[ 9, 12],\n",
              "        [20, 23]])"
            ]
          },
          "metadata": {
            "tags": []
          },
          "execution_count": 6
        }
      ]
    },
    {
      "cell_type": "code",
      "metadata": {
        "id": "7RHIEents79V",
        "colab": {
          "base_uri": "https://localhost:8080/"
        },
        "outputId": "66923714-910c-4631-a63b-6aa6197e5a23"
      },
      "source": [
        "matrix(b1,b2)"
      ],
      "execution_count": null,
      "outputs": [
        {
          "output_type": "execute_result",
          "data": {
            "text/plain": [
              "matrix([[ 48],\n",
              "        [112],\n",
              "        [147],\n",
              "        [122]])"
            ]
          },
          "metadata": {
            "tags": []
          },
          "execution_count": 7
        }
      ]
    },
    {
      "cell_type": "code",
      "metadata": {
        "id": "tbXLDOkstE-h",
        "colab": {
          "base_uri": "https://localhost:8080/"
        },
        "outputId": "b37a0fcb-8b97-4e05-95a8-aed2275157d8"
      },
      "source": [
        "matrix(c1,c2)"
      ],
      "execution_count": null,
      "outputs": [
        {
          "output_type": "execute_result",
          "data": {
            "text/plain": [
              "matrix([[38, 43],\n",
              "        [16, 18]])"
            ]
          },
          "metadata": {
            "tags": []
          },
          "execution_count": 8
        }
      ]
    },
    {
      "cell_type": "code",
      "metadata": {
        "id": "-SdSNWiptKf0",
        "colab": {
          "base_uri": "https://localhost:8080/"
        },
        "outputId": "73095f8c-b506-40e1-9db6-e0b8f9ca0b67"
      },
      "source": [
        "a1a2 = numpy.dot(a1,a2) #ข้อ1 \r\n",
        "print(a1a2)"
      ],
      "execution_count": null,
      "outputs": [
        {
          "output_type": "stream",
          "text": [
            "[[ 9 12]\n",
            " [20 23]]\n"
          ],
          "name": "stdout"
        }
      ]
    },
    {
      "cell_type": "code",
      "metadata": {
        "id": "r9H1CtGgtPPA",
        "colab": {
          "base_uri": "https://localhost:8080/"
        },
        "outputId": "566c2103-97e0-4382-e55b-a98efc5fb362"
      },
      "source": [
        "b1b2 = numpy.dot(b1,b2) #ข้อ2 \r\n",
        "print(b1b2)"
      ],
      "execution_count": null,
      "outputs": [
        {
          "output_type": "stream",
          "text": [
            "[[ 48]\n",
            " [112]\n",
            " [147]\n",
            " [122]]\n"
          ],
          "name": "stdout"
        }
      ]
    },
    {
      "cell_type": "code",
      "metadata": {
        "id": "tykosWOktVHP",
        "colab": {
          "base_uri": "https://localhost:8080/"
        },
        "outputId": "6bf62495-1bf4-4293-e4aa-8b4a5e87b1cb"
      },
      "source": [
        "c1c2 = numpy.dot(c1,c2) #ข้อ3\r\n",
        "print(c1c2)"
      ],
      "execution_count": null,
      "outputs": [
        {
          "output_type": "stream",
          "text": [
            "[[38 43]\n",
            " [16 18]]\n"
          ],
          "name": "stdout"
        }
      ]
    },
    {
      "cell_type": "code",
      "metadata": {
        "id": "nE27MJ_RtaKV"
      },
      "source": [
        ""
      ],
      "execution_count": null,
      "outputs": []
    },
    {
      "cell_type": "markdown",
      "metadata": {
        "id": "9vhwB8kN5X4E"
      },
      "source": [
        "#random , ones , zeros  "
      ]
    },
    {
      "cell_type": "code",
      "metadata": {
        "id": "6XbPu96_WKGh"
      },
      "source": [
        "import numpy as np #import numpy แล้วตั้ง  np\r\n"
      ],
      "execution_count": 3,
      "outputs": []
    },
    {
      "cell_type": "markdown",
      "metadata": {
        "id": "t5PRg8AVWwlh"
      },
      "source": [
        "##Zeros\r\n"
      ]
    },
    {
      "cell_type": "code",
      "metadata": {
        "id": "eXABhC1KWber",
        "outputId": "ad9520ff-a2d7-4af1-ed9e-a145396e88d7",
        "colab": {
          "base_uri": "https://localhost:8080/"
        }
      },
      "source": [
        "np.zeros(2)"
      ],
      "execution_count": 7,
      "outputs": [
        {
          "output_type": "execute_result",
          "data": {
            "text/plain": [
              "array([0., 0.])"
            ]
          },
          "metadata": {
            "tags": []
          },
          "execution_count": 7
        }
      ]
    },
    {
      "cell_type": "code",
      "metadata": {
        "id": "jTZx1DYMWkKB",
        "outputId": "14303e3f-5a1f-47e2-cd8e-82b87a7168c1",
        "colab": {
          "base_uri": "https://localhost:8080/"
        }
      },
      "source": [
        "np.zeros((2,3))"
      ],
      "execution_count": 8,
      "outputs": [
        {
          "output_type": "execute_result",
          "data": {
            "text/plain": [
              "array([[0., 0., 0.],\n",
              "       [0., 0., 0.]])"
            ]
          },
          "metadata": {
            "tags": []
          },
          "execution_count": 8
        }
      ]
    },
    {
      "cell_type": "markdown",
      "metadata": {
        "id": "arLLoaI4Xnak"
      },
      "source": [
        "##ones"
      ]
    },
    {
      "cell_type": "code",
      "metadata": {
        "id": "Hrk3n9HAXkkD",
        "outputId": "f643d4d0-c44d-4433-c4f2-030446895bb6",
        "colab": {
          "base_uri": "https://localhost:8080/"
        }
      },
      "source": [
        "np.ones((2,3))\n"
      ],
      "execution_count": 9,
      "outputs": [
        {
          "output_type": "execute_result",
          "data": {
            "text/plain": [
              "array([[1., 1., 1.],\n",
              "       [1., 1., 1.]])"
            ]
          },
          "metadata": {
            "tags": []
          },
          "execution_count": 9
        }
      ]
    },
    {
      "cell_type": "markdown",
      "metadata": {
        "id": "Gxvd0NFWYHzW"
      },
      "source": [
        "#Matrix operation (scalar multiplication)"
      ]
    },
    {
      "cell_type": "code",
      "metadata": {
        "id": "Xy5vlQQOX0IF"
      },
      "source": [
        "M_one = np.ones(())"
      ],
      "execution_count": null,
      "outputs": []
    },
    {
      "cell_type": "markdown",
      "metadata": {
        "id": "T3aWgRlEcHaj"
      },
      "source": [
        "##random"
      ]
    },
    {
      "cell_type": "code",
      "metadata": {
        "id": "et8t79HEcFhq",
        "outputId": "b39c5675-ce40-426a-b20c-1ad84a273d6e",
        "colab": {
          "base_uri": "https://localhost:8080/"
        }
      },
      "source": [
        "np.random.rand(3,2) #uniform random [0,1)"
      ],
      "execution_count": 10,
      "outputs": [
        {
          "output_type": "execute_result",
          "data": {
            "text/plain": [
              "array([[0.1980604 , 0.0312757 ],\n",
              "       [0.44658373, 0.98219755],\n",
              "       [0.15706872, 0.65215832]])"
            ]
          },
          "metadata": {
            "tags": []
          },
          "execution_count": 10
        }
      ]
    },
    {
      "cell_type": "code",
      "metadata": {
        "id": "xm4oI__9cUoq",
        "outputId": "650ae1bb-c264-4f31-84e3-d0b9973111d7",
        "colab": {
          "base_uri": "https://localhost:8080/"
        }
      },
      "source": [
        "np.random.randn(3,2) # sample from nomal distribution mean = 0 std = 1"
      ],
      "execution_count": 12,
      "outputs": [
        {
          "output_type": "execute_result",
          "data": {
            "text/plain": [
              "array([[ 0.19996637, -0.07795275],\n",
              "       [-0.07437218,  1.18508641],\n",
              "       [ 0.43320709,  0.67891826]])"
            ]
          },
          "metadata": {
            "tags": []
          },
          "execution_count": 12
        }
      ]
    },
    {
      "cell_type": "code",
      "metadata": {
        "id": "nTo3W9RhdSiR",
        "outputId": "4bdf8f0d-37c1-4dab-8a97-9d02f3c8c94a",
        "colab": {
          "base_uri": "https://localhost:8080/",
          "height": 35
        }
      },
      "source": [
        "np.random.choice([1,2,3,'a','b','c'])"
      ],
      "execution_count": 13,
      "outputs": [
        {
          "output_type": "execute_result",
          "data": {
            "application/vnd.google.colaboratory.intrinsic+json": {
              "type": "string"
            },
            "text/plain": [
              "'c'"
            ]
          },
          "metadata": {
            "tags": []
          },
          "execution_count": 13
        }
      ]
    },
    {
      "cell_type": "code",
      "metadata": {
        "id": "eNI7cG8dd-iJ",
        "outputId": "89dc1192-2f02-4103-e634-805ed6a3a632",
        "colab": {
          "base_uri": "https://localhost:8080/"
        }
      },
      "source": [
        "np.random.choice([1,2,3,28,29,30],size = 2)"
      ],
      "execution_count": 14,
      "outputs": [
        {
          "output_type": "execute_result",
          "data": {
            "text/plain": [
              "array([29,  1])"
            ]
          },
          "metadata": {
            "tags": []
          },
          "execution_count": 14
        }
      ]
    },
    {
      "cell_type": "code",
      "metadata": {
        "id": "VDb62PIfer5z",
        "outputId": "c33b2832-64fd-4af2-b634-72db580b2624",
        "colab": {
          "base_uri": "https://localhost:8080/"
        }
      },
      "source": [
        "np.random.choice([1,2,3,28,29,30],size = (2,3))"
      ],
      "execution_count": 15,
      "outputs": [
        {
          "output_type": "execute_result",
          "data": {
            "text/plain": [
              "array([[29,  1, 29],\n",
              "       [ 2,  1,  2]])"
            ]
          },
          "metadata": {
            "tags": []
          },
          "execution_count": 15
        }
      ]
    },
    {
      "cell_type": "code",
      "metadata": {
        "id": "yZQCkq_Yey-f",
        "outputId": "896034e4-451d-4e8d-940d-1f2228d93334",
        "colab": {
          "base_uri": "https://localhost:8080/"
        }
      },
      "source": [
        "np.random.choice([1,2,3,28,29,30],size = (2,3), replace = False)"
      ],
      "execution_count": 16,
      "outputs": [
        {
          "output_type": "execute_result",
          "data": {
            "text/plain": [
              "array([[28, 30,  2],\n",
              "       [ 1,  3, 29]])"
            ]
          },
          "metadata": {
            "tags": []
          },
          "execution_count": 16
        }
      ]
    },
    {
      "cell_type": "code",
      "metadata": {
        "id": "sYaK8dlafrQR"
      },
      "source": [
        "np.random.choice(['A','B','C','D','F'],size=35, P = [0.1,0.2,0.4,0.29,0.01])"
      ],
      "execution_count": null,
      "outputs": []
    },
    {
      "cell_type": "markdown",
      "metadata": {
        "id": "mGgJ9iAujVxn"
      },
      "source": [
        "#เฉลย HW Matrix multiplication"
      ]
    },
    {
      "cell_type": "code",
      "metadata": {
        "id": "JIwnxjgpgIs4"
      },
      "source": [
        "def mat_mul(A,B) :\r\n",
        "  C = np.zeros((A.shape[0],B.shape[1])) #เตรียมขนาดของ matrix ผลลัพธ์\r\n",
        "  for r_a in range(A.shape[0]) :\r\n",
        "    for c_b in range(B.shape[1]) :\r\n",
        "      for every_element in range(A.shape[1]) :\r\n",
        "        C[r_a,c_b] = C[r_a,c_b] + A[r_a,every_element] * B[every_element,c_b]"
      ],
      "execution_count": 27,
      "outputs": []
    },
    {
      "cell_type": "code",
      "metadata": {
        "id": "6GiclADTldkC"
      },
      "source": [
        "mat1 = np.array([[1,2,3],[4,5,6]])\r\n",
        "mat2 = np.array([[7,8],[9,10],[11,12]])"
      ],
      "execution_count": 28,
      "outputs": []
    },
    {
      "cell_type": "code",
      "metadata": {
        "id": "1M0pQBuZmCnW"
      },
      "source": [
        "mat_mul(mat1,mat2)"
      ],
      "execution_count": 29,
      "outputs": []
    },
    {
      "cell_type": "code",
      "metadata": {
        "id": "ZSCgNCBomKMD"
      },
      "source": [
        ""
      ],
      "execution_count": null,
      "outputs": []
    }
  ]
}