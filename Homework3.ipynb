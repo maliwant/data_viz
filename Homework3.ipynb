{
  "nbformat": 4,
  "nbformat_minor": 0,
  "metadata": {
    "colab": {
      "name": "Homework3.ipynb",
      "provenance": [],
      "authorship_tag": "ABX9TyO1XQWybKe3/tusBDf9muAh",
      "include_colab_link": true
    },
    "kernelspec": {
      "name": "python3",
      "display_name": "Python 3"
    }
  },
  "cells": [
    {
      "cell_type": "markdown",
      "metadata": {
        "id": "view-in-github",
        "colab_type": "text"
      },
      "source": [
        "<a href=\"https://colab.research.google.com/github/maliwant/data_viz/blob/main/Homework3.ipynb\" target=\"_parent\"><img src=\"https://colab.research.google.com/assets/colab-badge.svg\" alt=\"Open In Colab\"/></a>"
      ]
    },
    {
      "cell_type": "markdown",
      "metadata": {
        "id": "4NXMn_okCn-f"
      },
      "source": [
        "12:30:15\r\n",
        "\r\n",
        "13:41:07\r\n",
        "\r\n",
        "12:53:15\r\n",
        "\r\n",
        "00:59:25\r\n",
        "\r\n",
        "11:11:11\r\n",
        "\r\n",
        "16:06:09"
      ]
    },
    {
      "cell_type": "markdown",
      "metadata": {
        "id": "Ntm40kteHGZi"
      },
      "source": [
        "# Homework3"
      ]
    },
    {
      "cell_type": "markdown",
      "metadata": {
        "id": "cku4Hhu7FF3K"
      },
      "source": [
        "#  ใช้วิธี def"
      ]
    },
    {
      "cell_type": "code",
      "metadata": {
        "id": "Mm0EmCMXFH95"
      },
      "source": [
        "def Time_sec(Time):\r\n",
        "  list_Time = Time.split(':') \r\n",
        "  H = (int(list_Time[0])*3600)\r\n",
        "  Min = (int(list_Time[1])*60)\r\n",
        "  Sec = (int(list_Time[2]))\r\n",
        "  sum = f'เวลา {Time}   = {H+Min+Sec} วินาที'\r\n",
        "  print(sum)"
      ],
      "execution_count": 15,
      "outputs": []
    },
    {
      "cell_type": "code",
      "metadata": {
        "colab": {
          "base_uri": "https://localhost:8080/"
        },
        "id": "qX27P62cFVzF",
        "outputId": "3c6350d2-751f-4662-eb06-5bebae022da4"
      },
      "source": [
        "Time_sec('12:30:15')\r\n",
        "Time_sec('13:41:07')\r\n",
        "Time_sec('12:53:15')\r\n",
        "Time_sec('00:59:25')\r\n",
        "Time_sec('11:11:11')\r\n",
        "Time_sec('16:06:09')"
      ],
      "execution_count": 16,
      "outputs": [
        {
          "output_type": "stream",
          "text": [
            "เวลา 12:30:15   = 45015 วินาที\n",
            "เวลา 13:41:07   = 49267 วินาที\n",
            "เวลา 12:53:15   = 46395 วินาที\n",
            "เวลา 00:59:25   = 3565 วินาที\n",
            "เวลา 11:11:11   = 40271 วินาที\n",
            "เวลา 16:06:09   = 57969 วินาที\n"
          ],
          "name": "stdout"
        }
      ]
    },
    {
      "cell_type": "markdown",
      "metadata": {
        "id": "a2fGr6naF9mo"
      },
      "source": [
        "ให้สร้าง list ของเวลา ['12:30:15,13:41:07,12:53:15,00:59:25,11:11:11,16:06:09'] แล้ววนลูปเรียกฟังก์ชันคำนวณเวลาเป็น วินาที\r\n"
      ]
    },
    {
      "cell_type": "code",
      "metadata": {
        "colab": {
          "base_uri": "https://localhost:8080/"
        },
        "id": "cdOfgjdsGBwk",
        "outputId": "76b36d85-a464-4433-8e32-35868245b7c5"
      },
      "source": [
        "for Time in ['12:30:15','13:41:07','12:53:15','00:59:25','11:11:11','16:06:09'] :\r\n",
        "    list_T = Time.split(':')\r\n",
        "    sum_sec = (int(list_T[0])*3600)+(int(list_T[1])*60)+(int(list_T[2]))\r\n",
        "    print (f'เวลา {Time}   = {sum_sec} วินาที')"
      ],
      "execution_count": 18,
      "outputs": [
        {
          "output_type": "stream",
          "text": [
            "เวลา 12:30:15   = 45015 วินาที\n",
            "เวลา 13:41:07   = 49267 วินาที\n",
            "เวลา 12:53:15   = 46395 วินาที\n",
            "เวลา 00:59:25   = 3565 วินาที\n",
            "เวลา 11:11:11   = 40271 วินาที\n",
            "เวลา 16:06:09   = 57969 วินาที\n"
          ],
          "name": "stdout"
        }
      ]
    }
  ]
}